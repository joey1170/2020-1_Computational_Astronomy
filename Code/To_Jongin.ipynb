{
 "cells": [
  {
   "cell_type": "code",
   "execution_count": 2,
   "metadata": {},
   "outputs": [],
   "source": [
    "import numpy as np\n",
    "import matplotlib.pyplot as plt\n",
    "from scipy.integrate import odeint"
   ]
  },
  {
   "cell_type": "markdown",
   "metadata": {},
   "source": [
    "A1,A2 값 조정해가면서 lambda랑 그에 대응되는 자연수 출력하는 코드임."
   ]
  },
  {
   "cell_type": "code",
   "execution_count": 5,
   "metadata": {},
   "outputs": [
    {
     "name": "stdout",
     "output_type": "stream",
     "text": [
      "83.16915443037783 2.0000000074174134\n"
     ]
    }
   ],
   "source": [
    "x=np.linspace(1,2,1000)\n",
    "uini=[0,5]\n",
    "BV=0\n",
    "\n",
    "def deriv(u,x,lam):\n",
    "    dudx0 = u[1]\n",
    "    dudx1 = -3*u[1]/x-lam*u[0]/x**2\n",
    "    return [dudx0,dudx1]\n",
    "\n",
    "TOL=1.e-7\n",
    "A1,A2=100,101\n",
    "B2=0\n",
    "\n",
    "err=TOL+1\n",
    "loop=-1\n",
    "while(abs(err)>TOL):\n",
    "    loop+=1\n",
    "    if(loop==0):lam=A1\n",
    "    if(loop>=1):lam=A2\n",
    "    uout=odeint(deriv,uini,x,args=(lam,))[-1,0]\n",
    "    \n",
    "    B1=B2\n",
    "    B2=uout\n",
    "    \n",
    "    if(loop>=1):\n",
    "        if(B1==B2): break\n",
    "        err=BV-B2\n",
    "        yp=A2+(A2-A1)/(B2-B1)*err\n",
    "        A1=A2\n",
    "        A2=yp\n",
    "\n",
    "sol=A2\n",
    "n=np.sqrt(sol1)*/np.pi\n",
    "\n",
    "print(sol,n)"
   ]
  },
  {
   "cell_type": "code",
   "execution_count": null,
   "metadata": {},
   "outputs": [],
   "source": []
  }
 ],
 "metadata": {
  "kernelspec": {
   "display_name": "Python 3",
   "language": "python",
   "name": "python3"
  },
  "language_info": {
   "codemirror_mode": {
    "name": "ipython",
    "version": 3
   },
   "file_extension": ".py",
   "mimetype": "text/x-python",
   "name": "python",
   "nbconvert_exporter": "python",
   "pygments_lexer": "ipython3",
   "version": "3.7.3"
  }
 },
 "nbformat": 4,
 "nbformat_minor": 4
}
