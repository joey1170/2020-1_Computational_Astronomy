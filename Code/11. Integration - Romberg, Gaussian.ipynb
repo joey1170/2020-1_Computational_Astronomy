{
 "cells": [
  {
   "cell_type": "markdown",
   "metadata": {},
   "source": [
    "# Integration - Romberg, Gaussian"
   ]
  },
  {
   "cell_type": "code",
   "execution_count": 1,
   "metadata": {},
   "outputs": [
    {
     "name": "stdout",
     "output_type": "stream",
     "text": [
      "Romberg integration of <function vectorize1.<locals>.vfunc at 0x7fb696a3c400> from [0, 1.5707963267948966]\n",
      "\n",
      " Steps  StepSize   Results\n",
      "     1  1.570796  0.785398 \n",
      "     2  0.785398  0.948059  1.002280 \n",
      "     4  0.392699  0.987116  1.000135  0.999992 \n",
      "     8  0.196350  0.996785  1.000008  1.000000  1.000000 \n",
      "    16  0.098175  0.999197  1.000001  1.000000  1.000000  1.000000 \n",
      "\n",
      "The final result is 0.9999999999980171 after 17 function evaluations.\n"
     ]
    }
   ],
   "source": [
    "# Romberg\n",
    "\n",
    "import numpy as np\n",
    "from scipy import integrate\n",
    "\n",
    "def f(x):\n",
    "    return np.sin(x)              #define the function here\n",
    "\n",
    "result = integrate.romberg(f, 0, np.pi/2, show = True)"
   ]
  },
  {
   "cell_type": "code",
   "execution_count": 12,
   "metadata": {},
   "outputs": [],
   "source": [
    "# Gaussian Quadrature\n",
    "\n",
    "def GQ(f, a, b, deg):\n",
    "    t, w = np.polynomial.legendre.leggauss(deg)\n",
    "    \n",
    "    x = (b + a + t*(b - a))*0.5               #change of intervals\n",
    "    \n",
    "    sum = 0\n",
    "    for i in range(deg):\n",
    "        sum += f(x[i])*w[i]\n",
    "        \n",
    "    sum *= (b - a)*0.5\n",
    "    return sum"
   ]
  },
  {
   "cell_type": "code",
   "execution_count": 34,
   "metadata": {},
   "outputs": [
    {
     "name": "stdout",
     "output_type": "stream",
     "text": [
      "  1 node(s): result = 0.174331, error = 1.792846e-02\n",
      "  2 node(s): result = 0.192269, error = 9.348638e-06\n",
      "  4 node(s): result = 0.192259, error = 7.206713e-11\n",
      "  8 node(s): result = 0.192259, error = 5.551115e-17\n"
     ]
    }
   ],
   "source": [
    "#Example\n",
    "\n",
    "def f(x):\n",
    "    return (x**2)*np.log(x)\n",
    "\n",
    "a = 1\n",
    "b = 1.5\n",
    "\n",
    "trueval = 9/8*np.log(1.5) - 19/72\n",
    "\n",
    "for i in range(4):\n",
    "    n = 2**i\n",
    "    res = GQ(f, a, b, n)\n",
    "    error = abs(res - trueval)\n",
    "    print(\"{:3} node(s): result = {:6f}, error = {:6e}\".format(n, res, error))"
   ]
  }
 ],
 "metadata": {
  "kernelspec": {
   "display_name": "Python 3",
   "language": "python",
   "name": "python3"
  },
  "language_info": {
   "codemirror_mode": {
    "name": "ipython",
    "version": 3
   },
   "file_extension": ".py",
   "mimetype": "text/x-python",
   "name": "python",
   "nbconvert_exporter": "python",
   "pygments_lexer": "ipython3",
   "version": "3.7.1"
  }
 },
 "nbformat": 4,
 "nbformat_minor": 2
}
