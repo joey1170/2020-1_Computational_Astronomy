{
 "cells": [
  {
   "cell_type": "code",
   "execution_count": 76,
   "metadata": {},
   "outputs": [
    {
     "name": "stderr",
     "output_type": "stream",
     "text": [
      "C:\\Users\\User\\Anaconda3\\lib\\site-packages\\IPython\\core\\pylabtools.py:128: UserWarning: Creating legend with loc=\"best\" can be slow with large amounts of data.\n",
      "  fig.canvas.print_figure(bytes_io, **kw)\n"
     ]
    },
    {
     "data": {
      "image/png": "[encoded data removed]",
      "text/plain": [
       "<Figure size 432x288 with 1 Axes>"
      ]
     },
     "metadata": {
      "needs_background": "light"
     },
     "output_type": "display_data"
    }
   ],
   "source": [
    "import numpy as np\n",
    "import matplotlib.pyplot as plt\n",
    "\n",
    "x = np.linspace(0.1, 1000, 1000000)\n",
    "def dyn(x):\n",
    "    return 3.82*10**3*pow(x, 0.65)\n",
    "\n",
    "def th(x):\n",
    "    return 4.965*10**14*pow(x, -2.5)\n",
    "\n",
    "def nuc(x):\n",
    "    return 1.41*10**18*pow(x, -2.8)\n",
    "\n",
    "plt.plot(x, dyn(x), label='dyn')\n",
    "plt.plot(x, th(x), label = 'th')\n",
    "plt.plot(x, nuc(x), label = 'nuc')\n",
    "plt.legend()\n",
    "#plt.ylim(10, 10**22)\n",
    "plt.xscale('log')\n",
    "plt.yscale('log')\n",
    "plt.xlabel('M/Msol')\n",
    "plt.ylabel('time(s)')\n",
    "\n",
    "plt.show()\n"
   ]
  },
  {
   "cell_type": "code",
   "execution_count": null,
   "metadata": {},
   "outputs": [],
   "source": []
  },
  {
   "cell_type": "code",
   "execution_count": null,
   "metadata": {},
   "outputs": [],
   "source": []
  },
  {
   "cell_type": "code",
   "execution_count": null,
   "metadata": {},
   "outputs": [],
   "source": []
  },
  {
   "cell_type": "code",
   "execution_count": null,
   "metadata": {},
   "outputs": [],
   "source": []
  },
  {
   "cell_type": "code",
   "execution_count": null,
   "metadata": {},
   "outputs": [],
   "source": []
  },
  {
   "cell_type": "code",
   "execution_count": 41,
   "metadata": {},
   "outputs": [
    {
     "data": {
      "text/plain": [
       "9.598029984790326e-16"
      ]
     },
     "execution_count": 41,
     "metadata": {},
     "output_type": "execute_result"
    }
   ],
   "source": [
    "\n",
    "h = 6.626 * 10**-27\n",
    "kb = 1.3807*10**-16\n",
    "T = 50000\n",
    "alpha = h/(kb*T)\n",
    "alpha\n"
   ]
  },
  {
   "cell_type": "code",
   "execution_count": 28,
   "metadata": {},
   "outputs": [
    {
     "data": {
      "text/plain": [
       "2.718281828459045"
      ]
     },
     "execution_count": 28,
     "metadata": {},
     "output_type": "execute_result"
    }
   ],
   "source": [
    "np.exp(1)"
   ]
  },
  {
   "cell_type": "code",
   "execution_count": 61,
   "metadata": {},
   "outputs": [
    {
     "name": "stdout",
     "output_type": "stream",
     "text": [
      "the composite Simpson's rule's result is 670145246135.33\n"
     ]
    }
   ],
   "source": [
    "def func(x):\n",
    "    h = 6.626 * 10**-27\n",
    "    kb = 1.3807*10**-16\n",
    "    c = 3*10**10\n",
    "    T = 50000\n",
    "    \n",
    "    a1 = 2*h/(c**2)\n",
    "    a2 = x**3\n",
    "    a3 = np.exp((h*x)/(kb*T))-1\n",
    "    return a1*a2/a3\n",
    "\n",
    "def Simpson(a, b, n):\n",
    "    h = (b-a)/n\n",
    "    x = a\n",
    "    hap = func(a)+func(b)\n",
    "    for i in range(1, n-1, 2):\n",
    "        x = x + h\n",
    "        hap = hap + 4*func(x)\n",
    "        x = x + h\n",
    "        hap = hap + 2*func(x)\n",
    "        \n",
    "    hap = hap + 4*func(x+h)\n",
    "    return hap * h/3\n",
    "\n",
    "a = 4.687*10**14\n",
    "\n",
    "b = 6.5217*10**14\n",
    "\n",
    "n= 10000\n",
    "\n",
    "\n",
    "ans1 = Simpson(a, b, n)\n",
    "print(\"the composite Simpson's rule's result is {:.2f}\".format(ans1))"
   ]
  },
  {
   "cell_type": "code",
   "execution_count": 62,
   "metadata": {},
   "outputs": [
    {
     "name": "stdout",
     "output_type": "stream",
     "text": [
      "the composite Simpson's rule's result is 599853354.51\n"
     ]
    }
   ],
   "source": [
    "def func(x):\n",
    "    h = 6.626 * 10**-27\n",
    "    kb = 1.3807*10**-16\n",
    "    c = 3*10**10\n",
    "    T = 4000\n",
    "    \n",
    "    a1 = 2*h/(c**2)\n",
    "    a2 = x**3\n",
    "    a3 = np.exp((h*x)/(kb*T))-1\n",
    "    return a1*a2/a3\n",
    "\n",
    "def Simpson(a, b, n):\n",
    "    h = (b-a)/n\n",
    "    x = a\n",
    "    hap = func(a)+func(b)\n",
    "    for i in range(1, n-1, 2):\n",
    "        x = x + h\n",
    "        hap = hap + 4*func(x)\n",
    "        x = x + h\n",
    "        hap = hap + 2*func(x)\n",
    "        \n",
    "    hap = hap + 4*func(x+h)\n",
    "    return hap * h/3\n",
    "\n",
    "a = 4.687*10**14\n",
    "\n",
    "b = 6.5217*10**14\n",
    "\n",
    "n= 10000\n",
    "\n",
    "\n",
    "ans2 = Simpson(a, b, n)\n",
    "print(\"the composite Simpson's rule's result is {:.2f}\".format(ans2))"
   ]
  },
  {
   "cell_type": "code",
   "execution_count": 63,
   "metadata": {},
   "outputs": [
    {
     "name": "stdout",
     "output_type": "stream",
     "text": [
      "670145246135.329\n",
      "599853354.5096757\n",
      "1117.181793011911\n"
     ]
    }
   ],
   "source": [
    "print(ans1)\n",
    "print(ans2)\n",
    "print(ans1/ans2)\n"
   ]
  },
  {
   "cell_type": "code",
   "execution_count": 64,
   "metadata": {},
   "outputs": [
    {
     "name": "stdout",
     "output_type": "stream",
     "text": [
      "the composite Simpson's rule's result is 4568886570.98\n"
     ]
    }
   ],
   "source": [
    "def func(x):\n",
    "    h = 6.626 * 10**-27\n",
    "    kb = 1.3807*10**-16\n",
    "    c = 3*10**10\n",
    "    T = 5778\n",
    "    \n",
    "    a1 = 2*h/(c**2)\n",
    "    a2 = x**3\n",
    "    a3 = np.exp((h*x)/(kb*T))-1\n",
    "    return a1*a2/a3\n",
    "\n",
    "def Simpson(a, b, n):\n",
    "    h = (b-a)/n\n",
    "    x = a\n",
    "    hap = func(a)+func(b)\n",
    "    for i in range(1, n-1, 2):\n",
    "        x = x + h\n",
    "        hap = hap + 4*func(x)\n",
    "        x = x + h\n",
    "        hap = hap + 2*func(x)\n",
    "        \n",
    "    hap = hap + 4*func(x+h)\n",
    "    return hap * h/3\n",
    "\n",
    "a = 4.687*10**14\n",
    "\n",
    "b = 6.5217*10**14\n",
    "\n",
    "n= 10000\n",
    "\n",
    "\n",
    "ans3 = Simpson(a, b, n)\n",
    "print(\"the composite Simpson's rule's result is {:.2f}\".format(ans3))"
   ]
  },
  {
   "cell_type": "code",
   "execution_count": 65,
   "metadata": {},
   "outputs": [
    {
     "data": {
      "text/plain": [
       "146.67583353727505"
      ]
     },
     "execution_count": 65,
     "metadata": {},
     "output_type": "execute_result"
    }
   ],
   "source": [
    "ans1/ans3"
   ]
  },
  {
   "cell_type": "code",
   "execution_count": 66,
   "metadata": {},
   "outputs": [
    {
     "data": {
      "text/plain": [
       "0.13129092727320454"
      ]
     },
     "execution_count": 66,
     "metadata": {},
     "output_type": "execute_result"
    }
   ],
   "source": [
    "ans2/ans3"
   ]
  },
  {
   "cell_type": "code",
   "execution_count": null,
   "metadata": {},
   "outputs": [],
   "source": []
  },
  {
   "cell_type": "code",
   "execution_count": null,
   "metadata": {},
   "outputs": [],
   "source": []
  },
  {
   "cell_type": "code",
   "execution_count": null,
   "metadata": {},
   "outputs": [],
   "source": []
  },
  {
   "cell_type": "code",
   "execution_count": 45,
   "metadata": {},
   "outputs": [
    {
     "name": "stdout",
     "output_type": "stream",
     "text": [
      "the composite Simpson's rule's result is inf\n"
     ]
    },
    {
     "name": "stderr",
     "output_type": "stream",
     "text": [
      "C:\\Users\\User\\Anaconda3\\lib\\site-packages\\ipykernel_launcher.py:3: RuntimeWarning: divide by zero encountered in double_scalars\n",
      "  This is separate from the ipykernel package so we can avoid doing imports until\n"
     ]
    }
   ],
   "source": [
    "# 교수님 코드\n",
    "def func(x):\n",
    "    return x**3/(np.exp(x)-1)\n",
    "def Simpson(a, b, n):\n",
    "    h = (b-a)/n\n",
    "    x = a\n",
    "    hap = func(a)+func(b)\n",
    "    for i in range(1, n-1, 2):\n",
    "        x = x + h\n",
    "        hap = hap + 4*func(x)\n",
    "        x = x + h\n",
    "        hap = hap + 2*func(x)\n",
    "        \n",
    "    hap = hap + 4*func(x+h)\n",
    "    return hap * h/3\n",
    "\n",
    "\n",
    "numb = 1000\n",
    "T = 50000\n",
    "\n",
    "a = 2.207*10**-15/T\n",
    "b = 3.07* 10**-15/T\n",
    "\n",
    "\n",
    "ans = trapezoidal(a, b, numb)\n",
    "print(\"the composite Simpson's rule's result is {:.68f}\".format(ans))"
   ]
  },
  {
   "cell_type": "code",
   "execution_count": null,
   "metadata": {},
   "outputs": [],
   "source": []
  },
  {
   "cell_type": "code",
   "execution_count": 40,
   "metadata": {},
   "outputs": [
    {
     "name": "stdout",
     "output_type": "stream",
     "text": [
      "the composite trapezoidal rule's result is inf\n"
     ]
    },
    {
     "name": "stderr",
     "output_type": "stream",
     "text": [
      "C:\\Users\\User\\Anaconda3\\lib\\site-packages\\ipykernel_launcher.py:15: RuntimeWarning: divide by zero encountered in double_scalars\n",
      "  from ipykernel import kernelapp as app\n"
     ]
    }
   ],
   "source": [
    "numb = 10000\n",
    "import numpy as np\n",
    "\n",
    "\n",
    "def func(x):\n",
    "    \n",
    "    alpha = 9.5*10**-16\n",
    "\n",
    "    c = 3*10**10\n",
    "    h = 6.626 * 10**-27\n",
    "    a3 = 2*h/(c**2)\n",
    "    \n",
    "    a1 = x**3\n",
    "    a2 = np.exp(1)**(alpha*x) - 1\n",
    "    func = a3*a1/a2\n",
    "\n",
    "    return func\n",
    "\n",
    "def trapezoidal(a,b,n):\n",
    "    h = (b-a)/n\n",
    "    hap = 0.5*(func(a)+func(b))\n",
    "    for i in range(1,n):\n",
    "        hap = hap + func(a+i*h)\n",
    "    return h*hap\n",
    "\n",
    "v1 = 460. * 10**-7\n",
    "v2 = 640. * 10**-7\n",
    "\n",
    "ans2 = trapezoidal(v1, v2, numb)\n",
    "ans = ans2 * 10**65\n",
    "print(\"the composite trapezoidal rule's result is {:.68f}\".format(ans))"
   ]
  },
  {
   "cell_type": "code",
   "execution_count": null,
   "metadata": {},
   "outputs": [],
   "source": []
  },
  {
   "cell_type": "code",
   "execution_count": 39,
   "metadata": {},
   "outputs": [
    {
     "name": "stdout",
     "output_type": "stream",
     "text": [
      "the composite trapezoidal rule's result is -4.52793388813054065167307271622121334075927734375000000000000000000000\n"
     ]
    }
   ],
   "source": [
    "numb = 10000\n",
    "import numpy as np\n",
    "\n",
    "\n",
    "def func(x):\n",
    "    \n",
    "    alpha = 1.19*10**-14\n",
    "    c = 3*10**10\n",
    "    h = 6.626 * 10**-27\n",
    "    a3 = 2*h/(c**2)\n",
    "    \n",
    "    a1 = x**3\n",
    "    a2 = np.exp(1)**alpha*x - 1\n",
    "    func = a3*a1/a2\n",
    "\n",
    "    return func\n",
    "\n",
    "def trapezoidal(a,b,n):\n",
    "    h = (b-a)/n\n",
    "    hap = 0.5*(func(a)+func(b))\n",
    "    for i in range(1,n):\n",
    "        hap = hap + func(a+i*h)\n",
    "    return h*hap\n",
    "\n",
    "v1 = 460. * 10**-7\n",
    "v2 = 640. * 10**-7\n",
    "\n",
    "ans2 = trapezoidal(v1, v2, numb)\n",
    "ans = ans2 * 10**65\n",
    "print(\"the composite trapezoidal rule's result is {:.68f}\".format(ans))"
   ]
  },
  {
   "cell_type": "code",
   "execution_count": 13,
   "metadata": {},
   "outputs": [
    {
     "name": "stdout",
     "output_type": "stream",
     "text": [
      "the composite trapezoidal rule's result is inf\n"
     ]
    },
    {
     "name": "stderr",
     "output_type": "stream",
     "text": [
      "C:\\Users\\User\\Anaconda3\\lib\\site-packages\\ipykernel_launcher.py:18: RuntimeWarning: divide by zero encountered in double_scalars\n"
     ]
    }
   ],
   "source": [
    "numb = 1000\n",
    "import numpy as np\n",
    "\n",
    "\n",
    "def func(x):\n",
    "    c = 3. * 10**10\n",
    "\n",
    "    h = 6.626 * 10**-27\n",
    "    kb = 1.3807*10**-16\n",
    "    T = 50000.\n",
    "    \n",
    "    \n",
    "    a1 = 2*h/c**2\n",
    "    a2 = x**3\n",
    "    a3 = np.exp(h*x/(kb*T)) -1\n",
    "    \n",
    "    \n",
    "    func = a1 * (a2/a3)\n",
    "    \n",
    "    return func\n",
    "\n",
    "def trapezoidal(a,b,n):\n",
    "    h = (b-a)/n\n",
    "    hap = 0.5*(func(a)+func(b))\n",
    "    for i in range(1,n):\n",
    "        hap = hap + func(a+i*h)\n",
    "    return h*hap\n",
    "\n",
    "v1 = 460. * 10**-7\n",
    "v2 = 640. * 10**-7\n",
    "\n",
    "ans2 = trapezoidal(v1, v2, numb)\n",
    "print(\"the composite trapezoidal rule's result is {:.68f}\".format(ans2))"
   ]
  },
  {
   "cell_type": "code",
   "execution_count": null,
   "metadata": {},
   "outputs": [],
   "source": []
  },
  {
   "cell_type": "code",
   "execution_count": null,
   "metadata": {},
   "outputs": [],
   "source": []
  },
  {
   "cell_type": "code",
   "execution_count": null,
   "metadata": {},
   "outputs": [],
   "source": []
  },
  {
   "cell_type": "code",
   "execution_count": null,
   "metadata": {},
   "outputs": [],
   "source": []
  },
  {
   "cell_type": "code",
   "execution_count": 8,
   "metadata": {},
   "outputs": [
    {
     "name": "stdout",
     "output_type": "stream",
     "text": [
      "the composite trapezoidal rule's result is 4.21389639950801875301067411783151328563690185546875000000000000000000\n"
     ]
    }
   ],
   "source": [
    "numb = 100000\n",
    "import numpy as np\n",
    "\n",
    "\n",
    "def func(x):\n",
    "    c = 3 * 10**10\n",
    "\n",
    "    h = 6.626 * 10**-27\n",
    "    kb = 1.3807*10**-16\n",
    "    T = 4000\n",
    "    \n",
    "    \n",
    "    a1 = 2*h/c**2\n",
    "    a2 = x**3\n",
    "    a3 = np.exp(h*x/kb*T) -1\n",
    "    \n",
    "    \n",
    "    func = a1 * (a2/a3)\n",
    "    \n",
    "    return func\n",
    "\n",
    "def trapezoidal(a,b,n):\n",
    "    h = (b-a)/n\n",
    "    hap = 0.5*(func(a)+func(b))\n",
    "    for i in range(1,n):\n",
    "        hap = hap + func(a+i*h)\n",
    "    return h*hap\n",
    "\n",
    "v1 = 460 * 10**-7\n",
    "v2 = 640 * 10**-7\n",
    "\n",
    "ans2 = trapezoidal(v1, v2, numb)\n",
    "ans =ans2 * 10**54\n",
    "print(\"the composite trapezoidal rule's result is {:.68f}\".format(ans))"
   ]
  },
  {
   "cell_type": "code",
   "execution_count": null,
   "metadata": {},
   "outputs": [],
   "source": []
  }
 ],
 "metadata": {
  "kernelspec": {
   "display_name": "Python 3",
   "language": "python",
   "name": "python3"
  },
  "language_info": {
   "codemirror_mode": {
    "name": "ipython",
    "version": 3
   },
   "file_extension": ".py",
   "mimetype": "text/x-python",
   "name": "python",
   "nbconvert_exporter": "python",
   "pygments_lexer": "ipython3",
   "version": "3.7.3"
  }
 },
 "nbformat": 4,
 "nbformat_minor": 2
}
