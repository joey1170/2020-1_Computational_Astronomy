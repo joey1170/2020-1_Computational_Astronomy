{
 "cells": [
  {
   "cell_type": "markdown",
   "metadata": {},
   "source": [
    "# PROBLEM SET #4"
   ]
  },
  {
   "cell_type": "markdown",
   "metadata": {},
   "source": [
    "## Problem 1"
   ]
  },
  {
   "cell_type": "markdown",
   "metadata": {},
   "source": [
    "### (a)"
   ]
  },
  {
   "cell_type": "code",
   "execution_count": 1,
   "metadata": {},
   "outputs": [],
   "source": [
    "import numpy as np\n",
    "import matplotlib.pyplot as plt\n",
    "import pandas as pd"
   ]
  },
  {
   "cell_type": "code",
   "execution_count": 2,
   "metadata": {},
   "outputs": [
    {
     "name": "stdout",
     "output_type": "stream",
     "text": [
      "probability that after 50 steps, he will be more than 20 units distant from the origin is 0.0125\n",
      "mean value of distance is 9.998\n",
      "standard deviation of distance is 4.276\n"
     ]
    }
   ],
   "source": [
    "def drunkwalk(N):\n",
    "    x = 0\n",
    "    y = 0\n",
    "    for i in range(N):\n",
    "        dice = np.random.rand()\n",
    "        if dice <= 1/6:\n",
    "            x = x + 1\n",
    "        elif dice <= 1/3 + 1/6:\n",
    "            x = x - 1\n",
    "        elif dice <= 1/4 + 1/3 + 1/6:\n",
    "            y = y + 1\n",
    "        elif dice <= 1/4 + 1/4 + 1/3 + 1/6:\n",
    "            y = y - 1\n",
    "    return x, y\n",
    "\n",
    "times = 100000\n",
    "a = np.zeros(times)\n",
    "b = np.zeros(times)\n",
    "distance = np.zeros(times)\n",
    "count = 0 \n",
    "probability = 0\n",
    "\n",
    "for i in range(times):\n",
    "    a[i], b[i] = drunkwalk(50)\n",
    "    distance[i] = (a[i]**2 + b[i]**2)**0.5\n",
    "    if distance[i] > 20:\n",
    "        count = count + 1\n",
    "\n",
    "probability = count/times\n",
    "    \n",
    "\n",
    "print(\"probability that after 50 steps, he will be more than 20 units distant from the origin is {}\".format(probability))\n",
    "print(\"mean value of distance is {:.3f}\".format(np.mean(distance)))\n",
    "print(\"standard deviation of distance is {:.3f}\".format(np.std(distance)))\n"
   ]
  },
  {
   "cell_type": "markdown",
   "metadata": {},
   "source": [
    "### (b)"
   ]
  },
  {
   "cell_type": "code",
   "execution_count": 19,
   "metadata": {},
   "outputs": [
    {
     "name": "stdout",
     "output_type": "stream",
     "text": [
      "loading 0.0%\n",
      "loading 0.5%\n",
      "loading 1.0%\n",
      "loading 1.5%\n",
      "loading 2.0%\n",
      "loading 2.5%\n",
      "loading 3.0%\n",
      "loading 3.5%\n",
      "loading 4.0%\n",
      "loading 4.5%\n",
      "loading 5.0%\n",
      "loading 5.5%\n",
      "loading 6.0%\n",
      "loading 6.5%\n",
      "loading 7.0%\n",
      "loading 7.5%\n",
      "loading 8.0%\n",
      "loading 8.5%\n",
      "loading 9.0%\n",
      "loading 9.5%\n",
      "loading 10.0%\n",
      "loading 10.5%\n",
      "loading 11.0%\n",
      "loading 11.5%\n",
      "loading 12.0%\n",
      "loading 12.5%\n",
      "loading 13.0%\n",
      "loading 13.5%\n",
      "loading 14.0%\n",
      "loading 14.5%\n",
      "loading 15.0%\n",
      "loading 15.5%\n",
      "loading 16.0%\n",
      "loading 16.5%\n",
      "loading 17.0%\n",
      "loading 17.5%\n",
      "loading 18.0%\n",
      "loading 18.5%\n",
      "loading 19.0%\n",
      "loading 19.5%\n",
      "loading 20.0%\n",
      "loading 20.5%\n",
      "loading 21.0%\n",
      "loading 21.5%\n",
      "loading 22.0%\n",
      "loading 22.5%\n",
      "loading 23.0%\n",
      "loading 23.5%\n",
      "loading 24.0%\n",
      "loading 24.5%\n",
      "loading 25.0%\n",
      "loading 25.5%\n",
      "loading 26.0%\n",
      "loading 26.5%\n",
      "loading 27.0%\n",
      "loading 27.5%\n",
      "loading 28.0%\n",
      "loading 28.5%\n",
      "loading 29.0%\n",
      "loading 29.5%\n",
      "loading 30.0%\n",
      "loading 30.5%\n",
      "loading 31.0%\n",
      "loading 31.5%\n",
      "loading 32.0%\n",
      "loading 32.5%\n",
      "loading 33.0%\n",
      "loading 33.5%\n",
      "loading 34.0%\n",
      "loading 34.5%\n",
      "loading 35.0%\n",
      "loading 35.5%\n",
      "loading 36.0%\n",
      "loading 36.5%\n",
      "loading 37.0%\n",
      "loading 37.5%\n",
      "loading 38.0%\n",
      "loading 38.5%\n",
      "loading 39.0%\n",
      "loading 39.5%\n",
      "loading 40.0%\n",
      "loading 40.5%\n",
      "loading 41.0%\n",
      "loading 41.5%\n",
      "loading 42.0%\n",
      "loading 42.5%\n",
      "loading 43.0%\n",
      "loading 43.5%\n",
      "loading 44.0%\n",
      "loading 44.5%\n",
      "loading 45.0%\n",
      "loading 45.5%\n",
      "loading 46.0%\n",
      "loading 46.5%\n",
      "loading 47.0%\n",
      "loading 47.5%\n",
      "loading 48.0%\n",
      "loading 48.5%\n",
      "loading 49.0%\n",
      "loading 49.5%\n",
      "loading 50.0%\n",
      "loading 50.5%\n",
      "loading 51.0%\n",
      "loading 51.5%\n",
      "loading 52.0%\n",
      "loading 52.5%\n",
      "loading 53.0%\n",
      "loading 53.5%\n",
      "loading 54.0%\n",
      "loading 54.5%\n",
      "loading 55.0%\n",
      "loading 55.5%\n",
      "loading 56.0%\n",
      "loading 56.5%\n",
      "loading 57.0%\n",
      "loading 57.5%\n",
      "loading 58.0%\n",
      "loading 58.5%\n",
      "loading 59.0%\n",
      "loading 59.5%\n",
      "loading 60.0%\n",
      "loading 60.5%\n",
      "loading 61.0%\n",
      "loading 61.5%\n",
      "loading 62.0%\n",
      "loading 62.5%\n",
      "loading 63.0%\n",
      "loading 63.5%\n",
      "loading 64.0%\n",
      "loading 64.5%\n",
      "loading 65.0%\n",
      "loading 65.5%\n",
      "loading 66.0%\n",
      "loading 66.5%\n",
      "loading 67.0%\n",
      "loading 67.5%\n",
      "loading 68.0%\n",
      "loading 68.5%\n",
      "loading 69.0%\n",
      "loading 69.5%\n",
      "loading 70.0%\n",
      "loading 70.5%\n",
      "loading 71.0%\n",
      "loading 71.5%\n",
      "loading 72.0%\n",
      "loading 72.5%\n",
      "loading 73.0%\n",
      "loading 73.5%\n",
      "loading 74.0%\n",
      "loading 74.5%\n",
      "loading 75.0%\n",
      "loading 75.5%\n",
      "loading 76.0%\n",
      "loading 76.5%\n",
      "loading 77.0%\n",
      "loading 77.5%\n",
      "loading 78.0%\n",
      "loading 78.5%\n",
      "loading 79.0%\n",
      "loading 79.5%\n",
      "loading 80.0%\n",
      "loading 80.5%\n",
      "loading 81.0%\n",
      "loading 81.5%\n",
      "loading 82.0%\n",
      "loading 82.5%\n",
      "loading 83.0%\n",
      "loading 83.5%\n",
      "loading 84.0%\n",
      "loading 84.5%\n",
      "loading 85.0%\n",
      "loading 85.5%\n",
      "loading 86.0%\n",
      "loading 86.5%\n",
      "loading 87.0%\n",
      "loading 87.5%\n",
      "loading 88.0%\n",
      "loading 88.5%\n",
      "loading 89.0%\n",
      "loading 89.5%\n",
      "loading 90.0%\n",
      "loading 90.5%\n",
      "loading 91.0%\n",
      "loading 91.5%\n",
      "loading 92.0%\n",
      "loading 92.5%\n",
      "loading 93.0%\n",
      "loading 93.5%\n",
      "loading 94.0%\n",
      "loading 94.5%\n",
      "loading 95.0%\n",
      "loading 95.5%\n",
      "loading 96.0%\n",
      "loading 96.5%\n",
      "loading 97.0%\n",
      "loading 97.5%\n",
      "loading 98.0%\n",
      "loading 98.5%\n",
      "loading 99.0%\n",
      "loading 99.5%\n",
      "the most probable position of the drunkard after 1000 steps is [[-167.    0.]]\n",
      "the most probable deviation of the drunkard after 1000 steps is [163.24827717]\n"
     ]
    }
   ],
   "source": [
    "from scipy import stats\n",
    "\n",
    "times = 2000000\n",
    "a = np.zeros(times)\n",
    "b = np.zeros(times)\n",
    "steps = 1000\n",
    "distance = np.zeros(times)\n",
    "position = [0 for x in range(times)] \n",
    "count = 0 \n",
    "probability = 0\n",
    "\n",
    "for i in range(times):\n",
    "    a[i], b[i] = drunkwalk(steps)\n",
    "    distance[i] = (a[i]**2 + b[i]**2)**0.5\n",
    "    position[i] = (a[i], b[i])\n",
    "    if i%10000 == 0:\n",
    "        print('loading {}%'.format(100*i/times))\n",
    "    \n",
    "\n",
    "mode_distance = stats.mode(distance)\n",
    "mode_position = stats.mode(position)\n",
    "print(\"the most probable position of the drunkard after 1000 steps is {}\".format(mode_position[0]))\n",
    "print(\"the most probable deviation of the drunkard after 1000 steps is {}\".format(mode_distance[0]))"
   ]
  },
  {
   "cell_type": "markdown",
   "metadata": {},
   "source": [
    "위 결과와 같은 계산값의 경우 random하게 계산된 확률에 의해 실제로 가상의 취객을 규칙에 따라 움직이면서 가장 probable한(가능성 있는) position과 deviation을 계산한 값이기 떄문에 seed에 따라(매번 계산할 때마다) 결과값이 달라질 수 있다. "
   ]
  },
  {
   "cell_type": "markdown",
   "metadata": {},
   "source": [
    "## Problem 2 "
   ]
  },
  {
   "cell_type": "code",
   "execution_count": 79,
   "metadata": {
    "scrolled": true
   },
   "outputs": [
    {
     "name": "stdout",
     "output_type": "stream",
     "text": [
      "the probability that at least two of the 10 people have the same birthday is 0.1194\n",
      "the probability that at least two of the 30 people have the same birthday is 0.7036\n",
      "the probability that at least two of the 50 people have the same birthday is 0.9691\n",
      "the smallest n for the probability to be grater than fifty-fifty is 23\n",
      "the probability that at least two of the 22 people have the same birthday is 0.476\n",
      "the probability that at least two of the 23 people have the same birthday is 0.5138\n"
     ]
    }
   ],
   "source": [
    "import random\n",
    "import collections\n",
    "\n",
    "\n",
    "def cal(n):\n",
    "    numbers = n\n",
    "    k = np.zeros(numbers)\n",
    "    for i in range(numbers):\n",
    "        k[i] = random.randrange(365)\n",
    "    duplicates = [item for item, count in collections.Counter(k).items() if count > 1]\n",
    "    if np.size(duplicates) == 0:\n",
    "        return 0 # 생일 겹치는 사람 없음\n",
    "    else:\n",
    "        return 1 # 생일 겹치는 사람 있음\n",
    "\n",
    "def find_prob(numbers, times):\n",
    "    count = 0\n",
    "    for i in range(times):\n",
    "        if cal(numbers) == 1:\n",
    "            count = count + 1\n",
    "    probability = count/times\n",
    "    return probability\n",
    "\n",
    "times = 10**4\n",
    "\n",
    "print(\"the probability that at least two of the {} people have the same birthday is {}\".format(10, find_prob(10, times)))\n",
    "print(\"the probability that at least two of the {} people have the same birthday is {}\".format(30, find_prob(30, times)))\n",
    "print(\"the probability that at least two of the {} people have the same birthday is {}\".format(50, find_prob(50, times)))\n",
    "\n",
    "t = 0\n",
    "for i in range(21, 25):\n",
    "    if find_prob(i, 10**5) > 0.5:\n",
    "        t = i\n",
    "        break\n",
    "        \n",
    "print(\"the smallest n for the probability to be grater than fifty-fifty is {}\".format(t))\n",
    "print(\"the probability that at least two of the {} people have the same birthday is {}\".format(22, find_prob(22, times)))\n",
    "print(\"the probability that at least two of the {} people have the same birthday is {}\".format(23, find_prob(23, times)))\n"
   ]
  },
  {
   "cell_type": "markdown",
   "metadata": {},
   "source": [
    "## Problem 3"
   ]
  },
  {
   "cell_type": "code",
   "execution_count": 73,
   "metadata": {
    "scrolled": false
   },
   "outputs": [
    {
     "data": {
      "text/plain": [
       "<matplotlib.legend.Legend at 0x1b85d6724a8>"
      ]
     },
     "execution_count": 73,
     "metadata": {},
     "output_type": "execute_result"
    },
    {
     "data": {
      "image/png": "[encoded data removed]",
      "text/plain": [
       "<Figure size 432x432 with 1 Axes>"
      ]
     },
     "metadata": {
      "needs_background": "light"
     },
     "output_type": "display_data"
    }
   ],
   "source": [
    "def transmission_probability(photonnumber, tau_max):\n",
    "    z_max = 1\n",
    "    count_trans = 0\n",
    "    N = 0\n",
    "    \n",
    "    while N <= photonnumber:\n",
    "        epsilon1 = np.random.rand()\n",
    "        epsilon2 = np.random.rand()\n",
    "        mu =np.sqrt(epsilon1)\n",
    "        theta = np.arccos(mu) \n",
    "        phi = np.pi*2*epsilon2        \n",
    "        \n",
    "        initial_position = np.zeros(3)\n",
    "        # Step 1\n",
    "        initial_direction_vector = np.array([np.sin(theta)*np.cos(phi), np.sin(theta)*np.sin(phi), np.cos(theta)])\n",
    "        position = initial_position\n",
    "        direction_vector = initial_direction_vector\n",
    "\n",
    "        while True:   # 입자가 slab 안에 있는 동안\n",
    "                epsilon3 = np.random.rand()\n",
    "                epsilon4 = np.random.rand()\n",
    "                epsilon5 = np.random.rand()\n",
    "                # step2\n",
    "                tau = -np.log(epsilon3)\n",
    "                interaction_probability = 1 - np.exp(tau)\n",
    "              \n",
    "                # step3\n",
    "                L = tau*z_max/tau_max\n",
    "                position = position + L*(direction_vector)\n",
    "                if position[2] < 0: # Step 4\n",
    "                    break # skip to step 7\n",
    "                    \n",
    "                if position[2] > z_max:\n",
    "                    count_trans = count_trans + 1\n",
    "                    break\n",
    "                                      \n",
    "                # step 5\n",
    "                phi2 = np.pi*2*epsilon4\n",
    "                mu2 = 2*epsilon5 - 1\n",
    "                theta2 = np.arccos(mu2)\n",
    "                direction_vector = np.array([np.sin(theta2)*np.cos(phi2), np.sin(theta2)*np.sin(phi2), np.cos(theta2)])\n",
    "        N = N + 1\n",
    "        \n",
    "    return count_trans/photonnumber \n",
    "\n",
    "tau_max= [0.01, 0.1, 1, 10]\n",
    "numberlist = [10**3, 10**4,  10**5]\n",
    "data1 = np.zeros(4)\n",
    "data2 = np.zeros(4)\n",
    "data3 = np.zeros(4)\n",
    "\n",
    "for i in range(np.size(tau_max)):\n",
    "    data1[i] = transmission_probability(numberlist[0], tau_max[i])\n",
    "for i in range(np.size(tau_max)):\n",
    "    data2[i] = transmission_probability(numberlist[1], tau_max[i])\n",
    "for i in range(np.size(tau_max)):\n",
    "    data3[i] = transmission_probability(numberlist[2], tau_max[i])\n",
    "    \n",
    "plt.figure(figsize=(6,6))\n",
    "\n",
    "plt.scatter(tau_max, data1, s=14, label = 'photonnumber = {}'.format(numberlist[0]))\n",
    "plt.scatter(tau_max, data2, s=14, label = 'photonnumber = {}'.format(numberlist[1]))\n",
    "plt.scatter(tau_max, data3, s=14, label = 'photonnumber = {}'.format(numberlist[2]))\n",
    "\n",
    "plt.ylabel('transmitted probability', size = 15)\n",
    "plt.xlabel(r'$\\tau_{max}$', size = 15)\n",
    "plt.yscale('log')\n",
    "plt.xscale('log')\n",
    "plt.ylim(2*10**0, 10**-2)\n",
    "plt.legend()\n",
    "\n"
   ]
  },
  {
   "cell_type": "code",
   "execution_count": 230,
   "metadata": {},
   "outputs": [
    {
     "data": {
      "text/html": [
       "<div>\n",
       "<style scoped>\n",
       "    .dataframe tbody tr th:only-of-type {\n",
       "        vertical-align: middle;\n",
       "    }\n",
       "\n",
       "    .dataframe tbody tr th {\n",
       "        vertical-align: top;\n",
       "    }\n",
       "\n",
       "    .dataframe thead th {\n",
       "        text-align: right;\n",
       "    }\n",
       "</style>\n",
       "<table border=\"1\" class=\"dataframe\">\n",
       "  <thead>\n",
       "    <tr style=\"text-align: right;\">\n",
       "      <th></th>\n",
       "      <th>photonnumber = $10^{3}$</th>\n",
       "      <th>photonnumber = $10^4$</th>\n",
       "      <th>photonnumber = $10^5$</th>\n",
       "    </tr>\n",
       "  </thead>\n",
       "  <tbody>\n",
       "    <tr>\n",
       "      <th>$\\tau_{max}$=0.01</th>\n",
       "      <td>0.991</td>\n",
       "      <td>0.9912</td>\n",
       "      <td>0.99020</td>\n",
       "    </tr>\n",
       "    <tr>\n",
       "      <th>$\\tau_{max}$ = 0.1</th>\n",
       "      <td>0.925</td>\n",
       "      <td>0.9150</td>\n",
       "      <td>0.91547</td>\n",
       "    </tr>\n",
       "    <tr>\n",
       "      <th>$\\tau_{max}$= 1</th>\n",
       "      <td>0.545</td>\n",
       "      <td>0.5554</td>\n",
       "      <td>0.55138</td>\n",
       "    </tr>\n",
       "    <tr>\n",
       "      <th>$\\tau_{max}$ = 10</th>\n",
       "      <td>0.116</td>\n",
       "      <td>0.1130</td>\n",
       "      <td>0.11720</td>\n",
       "    </tr>\n",
       "  </tbody>\n",
       "</table>\n",
       "</div>"
      ],
      "text/plain": [
       "                    photonnumber = $10^{3}$  photonnumber = $10^4$  \\\n",
       "$\\tau_{max}$=0.01                     0.991                 0.9912   \n",
       "$\\tau_{max}$ = 0.1                    0.925                 0.9150   \n",
       "$\\tau_{max}$= 1                       0.545                 0.5554   \n",
       "$\\tau_{max}$ = 10                     0.116                 0.1130   \n",
       "\n",
       "                    photonnumber = $10^5$  \n",
       "$\\tau_{max}$=0.01                 0.99020  \n",
       "$\\tau_{max}$ = 0.1                0.91547  \n",
       "$\\tau_{max}$= 1                   0.55138  \n",
       "$\\tau_{max}$ = 10                 0.11720  "
      ]
     },
     "execution_count": 230,
     "metadata": {},
     "output_type": "execute_result"
    }
   ],
   "source": [
    "df = pd.DataFrame(data1, columns = ['photonnumber = $10^{3}$'],\\\n",
    "                  index = ['$\\tau_{max}$=0.01', '$\\tau_{max}$ = 0.1','$\\tau_{max}$= 1',\\\n",
    "                           '$\\tau_{max}$ = 10'])\n",
    "\n",
    "df['photonnumber = $10^4$'] = data2\n",
    "df['photonnumber = $10^5$'] = data3\n",
    "df"
   ]
  },
  {
   "cell_type": "markdown",
   "metadata": {},
   "source": [
    "photon의 수가 10000에서 100000으로 즏가해도 확률 변화 값이 거의 없다. 즉, 이를 통해서 현재 결과값 transmitted probability가 수렴된 것을 알 수 있다. \n",
    "$\\tau_{max}$가 작을 때는 photon이 겪는 충돌의 횟수가 적어 대부분이 transmitted 되지만 $\\tau_{max}$가 커질 수록 photon은 충돌을 자주 일으키고 transmitted 될 확률이 감소하는 것을 확인할 수 있다. "
   ]
  },
  {
   "cell_type": "markdown",
   "metadata": {},
   "source": [
    "### (b)"
   ]
  },
  {
   "cell_type": "code",
   "execution_count": 42,
   "metadata": {},
   "outputs": [
    {
     "data": {
      "text/plain": [
       "<matplotlib.legend.Legend at 0x1b85ce995c0>"
      ]
     },
     "execution_count": 42,
     "metadata": {},
     "output_type": "execute_result"
    },
    {
     "data": {
      "image/png": "[encoded data removed]",
      "text/plain": [
       "<Figure size 432x432 with 1 Axes>"
      ]
     },
     "metadata": {
      "needs_background": "light"
     },
     "output_type": "display_data"
    }
   ],
   "source": [
    "def photonpath(tau_max):\n",
    "    z_max = 1\n",
    "    epsilon1 = np.random.rand()\n",
    "    epsilon2 = np.random.rand()\n",
    "    mu =np.sqrt(epsilon1)\n",
    "    theta = np.arccos(mu) \n",
    "    phi = np.pi*2*epsilon2        \n",
    "    initial_position = np.zeros(3)\n",
    "    initial_direction_vector = np.array([np.sin(theta)*np.cos(phi), np.sin(theta)*np.sin(phi), np.cos(theta)])\n",
    "    position = initial_position\n",
    "    direction_vector = initial_direction_vector    \n",
    "\n",
    "    position_x = []\n",
    "    position_z = []\n",
    "    \n",
    "    while position[2] <= z_max: # slab 내에 photon이 있는 동안\n",
    "        position_x.append(position[0])\n",
    "        position_z.append(position[2])\n",
    "        epsilon3 = np.random.rand()\n",
    "        epsilon4 = np.random.rand()\n",
    "        epsilon5 = np.random.rand()\n",
    "        tau = -np.log(epsilon3)\n",
    "        interaction_probability = 1 - np.exp(tau)\n",
    "        L = tau*z_max/tau_max\n",
    "        position = position + L*(direction_vector)\n",
    "        if position[2] < 0:\n",
    "            break # skip to step 7\n",
    "        if position[2] > z_max:\n",
    "            break\n",
    "\n",
    "        phi2 = np.pi*2*epsilon4\n",
    "        mu2 = 2*epsilon5 - 1\n",
    "        theta2 = np.arccos(mu2)            \n",
    "        direction_vector = np.array([np.sin(theta2)*np.cos(phi2), np.sin(theta2)*np.sin(phi2), np.cos(theta2)])\n",
    "\n",
    "    position_x.append(position[0])\n",
    "    position_z.append(position[2])  \n",
    "    return position_x, position_z\n",
    "\n",
    "plt.figure(figsize=(6, 6))\n",
    "\n",
    "transmitted_z_final = -10\n",
    "while transmitted_z_final<1:\n",
    "    transmitted_path_x, transmitted_path_z = photonpath(10)\n",
    "    transmitted_path_x = np.array(transmitted_path_x)\n",
    "    transmitted_path_z = np.array(transmitted_path_z)\n",
    "    transmitted_z_final = transmitted_path_z[-1]\n",
    "    \n",
    "plt.plot(transmitted_path_x, transmitted_path_z,  marker = 'o', color = 'blue', label = 'transmitted path')\n",
    "\n",
    "reflected_z_final = 10\n",
    "while reflected_z_final>0:\n",
    "    reflected_path_x, reflected_path_z = photonpath(10)\n",
    "    reflected_path_x = np.array(reflected_path_x)\n",
    "    reflected_path_z = np.array(reflected_path_z)\n",
    "    reflected_z_final = reflected_path_z[-1]\n",
    "\n",
    "\n",
    "plt.plot(reflected_path_x, reflected_path_z,  marker = 'o', color = 'red', label = 'reflected path')\n",
    "\n",
    "\n",
    "\n",
    "plt.axhline(0, color = 'green')\n",
    "plt.axhline(1, color = 'green')\n",
    "\n",
    "plt.xlabel('x')\n",
    "plt.ylabel('z')\n",
    "plt.legend()\n"
   ]
  },
  {
   "cell_type": "markdown",
   "metadata": {},
   "source": [
    "### (c)"
   ]
  },
  {
   "cell_type": "code",
   "execution_count": 263,
   "metadata": {
    "scrolled": false
   },
   "outputs": [
    {
     "name": "stdout",
     "output_type": "stream",
     "text": [
      "0\n",
      "1\n",
      "2\n",
      "3\n",
      "4\n",
      "5\n",
      "6\n",
      "7\n",
      "8\n",
      "9\n"
     ]
    },
    {
     "data": {
      "text/plain": [
       "'\\nfor i in range(10):\\n    print(i)\\n    probability = transmit_probabilty_direction(thetaarray2[i],thetaarray2[i+1])\\n    middle = 0.5*(thetaarray2[i] + thetaarray2[i+1])    \\n    plt.scatter(middle, probability)\\n'"
      ]
     },
     "execution_count": 263,
     "metadata": {},
     "output_type": "execute_result"
    },
    {
     "data": {
      "image/png": "[encoded data removed]",
      "text/plain": [
       "<Figure size 432x288 with 1 Axes>"
      ]
     },
     "metadata": {
      "needs_background": "light"
     },
     "output_type": "display_data"
    }
   ],
   "source": [
    "def Intensity_function(theta):\n",
    "    a = 2+3*np.cos(np.radians(theta))\n",
    "    b = 5\n",
    "    return 1.25*(a/b)\n",
    "\n",
    "def transmitdirection(tau_max):\n",
    "    j=0\n",
    "    while j==0:\n",
    "        z_max = 1\n",
    "        epsilon1 = np.random.rand()\n",
    "        epsilon2 = np.random.rand()\n",
    "        mu =np.sqrt(epsilon1)\n",
    "        theta = np.arccos(mu) \n",
    "        phi = np.pi*2*epsilon2        \n",
    "        initial_position = np.zeros(3)\n",
    "        initial_direction_vector = np.array([np.sin(theta)*np.cos(phi), np.sin(theta)*np.sin(phi), np.cos(theta)])\n",
    "        position = initial_position\n",
    "        direction_vector = initial_direction_vector    \n",
    "\n",
    "        position_x = []\n",
    "        position_z = []\n",
    "\n",
    "        \n",
    "        N = 0\n",
    "        \n",
    "        while position[2] <= z_max: # slab 내에 photon이 있는 동안\n",
    "            N = N + 1\n",
    "            position_x.append(position[0])\n",
    "            position_z.append(position[2])\n",
    "            epsilon3 = np.random.rand()\n",
    "            epsilon4 = np.random.rand()\n",
    "            epsilon5 = np.random.rand()\n",
    "            tau = -np.log(epsilon3)\n",
    "            interaction_probability = 1 - np.exp(tau)\n",
    "            L = tau*z_max/tau_max\n",
    "            position = position + L*(direction_vector)\n",
    "\n",
    "            if position[2] < 0:\n",
    "                j = 0\n",
    "                break # skip to step 7\n",
    "                \n",
    "            if position[2] > z_max:\n",
    "                if N == 1:\n",
    "                    return np.degrees(theta)\n",
    "                else:\n",
    "                    j=1\n",
    "                    break\n",
    "\n",
    "\n",
    "            phi2 = np.pi*2*epsilon4\n",
    "            mu2 = 2*epsilon5 - 1\n",
    "            theta2 = np.arccos(mu2)            \n",
    "            direction_vector = np.array([np.sin(theta2)*np.cos(phi2), np.sin(theta2)*np.sin(phi2), np.cos(theta2)])\n",
    "\n",
    "    return np.degrees(theta2)\n",
    "\n",
    "def transmit_probabilty_direction(a, b):\n",
    "    tau_max = 10\n",
    "    times = 10000\n",
    "    count = 0\n",
    "    for i in range(times):\n",
    "        if a<=transmitdirection(tau_max)<=b:\n",
    "            count = count + 1    \n",
    "    probability = count/times\n",
    "    \n",
    "    return probability\n",
    "            \n",
    "def Intensity_calculation(num, a):\n",
    "    thetaarray2 = a\n",
    "    mu = np.cos(np.radians(thetaarray2[num]))\n",
    "    energy = transmit_probabilty_direction(thetaarray2[num], thetaarray2[num+1])\n",
    "    mother = 2 * mu * 0.1\n",
    "    result = energy/mother\n",
    "    middle = 0.5*(thetaarray2[num] + thetaarray2[num+1])\n",
    "    return middle, result\n",
    "\n",
    "\n",
    "bins = np.arange(0, 1+0.1, 0.1)\n",
    "tau_max = 10\n",
    "thetaarray = np.zeros(np.size(bins))\n",
    "for i in range(np.size(bins)):\n",
    "    thetaarray[i] = np.degrees(np.arccos(bins[i]))\n",
    "\n",
    "thetaarray2 = np.zeros(np.size(bins))\n",
    "for i in range(np.size(bins)):\n",
    "    thetaarray2[i] = thetaarray[np.size(bins)-1-i]\n",
    "    \n",
    "\n",
    "\n",
    "plt.plot(thetaarray, Intensity_function(thetaarray), marker = 'o', label = 'prediction', color = 'gray')\n",
    "plt.xlabel(r'$\\theta$')\n",
    "plt.ylabel('Normalized Emergent Intensity')\n",
    "\n",
    "xdot = np.zeros(10)\n",
    "ydot = np.zeros(10)\n",
    "for i in range(10):\n",
    "    print(i)\n",
    "    xdot[i], ydot[i] = Intensity_calculation(i, thetaarray2)\n",
    "plt.scatter(xdot, ydot, label = '(c)')\n",
    "\n"
   ]
  },
  {
   "cell_type": "code",
   "execution_count": 269,
   "metadata": {},
   "outputs": [],
   "source": [
    "def Intensity_function2(theta):\n",
    "    a = 2+3*np.cos(np.radians(theta))\n",
    "    b = 5\n",
    "    return (a/b)"
   ]
  },
  {
   "cell_type": "code",
   "execution_count": 273,
   "metadata": {},
   "outputs": [
    {
     "data": {
      "text/plain": [
       "<matplotlib.legend.Legend at 0x1b8615e5438>"
      ]
     },
     "execution_count": 273,
     "metadata": {},
     "output_type": "execute_result"
    },
    {
     "data": {
      "image/png": "[encoded data removed]",
      "text/plain": [
       "<Figure size 432x288 with 1 Axes>"
      ]
     },
     "metadata": {
      "needs_background": "light"
     },
     "output_type": "display_data"
    }
   ],
   "source": [
    "plt.scatter(xdot, ydot, label = 'simulation')\n",
    "plt.plot(thetaarray, Intensity_function2(thetaarray), marker = 'o', label = 'prediction', color = 'gray')\n",
    "plt.xlabel(r'$\\theta$', size = 15)\n",
    "plt.ylabel('Normalized Emergent Intensity', size = 12)\n",
    "plt.legend()"
   ]
  },
  {
   "cell_type": "markdown",
   "metadata": {},
   "source": [
    "given normalized emergent intensity에 대한 식 $I_{i} =\\frac{E_{i}}{2\\mu_{i}\\Delta\\mu}$ 을 이용하여 prediction을 계산할 수 있다. 위 그래프는 문제에서 주어진 prediction에 대한 식 $I_{\\theta}=\\frac{2+3\\cos{\\theta}}{5}$를 plot한 것과 비교하여 나타낸 그래프이다. "
   ]
  },
  {
   "cell_type": "markdown",
   "metadata": {},
   "source": [
    "그리고 MonteCarlo 수업자료 내 Binning Photons 슬라이드 에서는 Intensity is proportial to $I_{i} =\\frac{E_{i}}{2\\mu_{i}\\Delta\\mu}$ 라고 제시하였으므로, prediction의 값에 일정 상수를 곱해서 simulation한 결과와 비교해볼 수도 있다.  "
   ]
  },
  {
   "cell_type": "code",
   "execution_count": 274,
   "metadata": {},
   "outputs": [
    {
     "data": {
      "text/plain": [
       "(0, 1.3)"
      ]
     },
     "execution_count": 274,
     "metadata": {},
     "output_type": "execute_result"
    },
    {
     "data": {
      "image/png": "[encoded data removed]",
      "text/plain": [
       "<Figure size 432x288 with 1 Axes>"
      ]
     },
     "metadata": {
      "needs_background": "light"
     },
     "output_type": "display_data"
    }
   ],
   "source": [
    "plt.scatter(xdot, ydot, label = 'simulation', color = 'red')\n",
    "plt.plot(thetaarray, Intensity_function(thetaarray), marker = 'o', label = 'prediction', color = 'gray')\n",
    "plt.xlabel(r'$\\theta$', size = 15)\n",
    "plt.ylabel('Normalized Emergent Intensity', size = 12)\n",
    "plt.legend()\n",
    "plt.ylim(0, 1.3)"
   ]
  },
  {
   "cell_type": "markdown",
   "metadata": {},
   "source": [
    "prediction 과 simulation을 통해 계산한 intensity 모두 $\\theta$의 값이 커질 수록 감소하는 경향을 갖는 것을 확인할 수 있었고 두 경우의 값은 거의 비슷하였다.  다만 문제에서 주어진 공식을 통해서 구한 prediction 보다 직접  $I_{i} =\\frac{E_{i}}{2\\mu_{i}\\Delta\\mu}$ 을 통해 계산한 intensity의 값이 $\\theta$ 값이 클 때 더 작은 것을 확인할 수 있었다. "
   ]
  },
  {
   "cell_type": "markdown",
   "metadata": {},
   "source": [
    "## Problem 4"
   ]
  },
  {
   "cell_type": "markdown",
   "metadata": {},
   "source": [
    "### (a)"
   ]
  },
  {
   "cell_type": "code",
   "execution_count": 3,
   "metadata": {
    "scrolled": false
   },
   "outputs": [
    {
     "data": {
      "text/plain": [
       "<matplotlib.legend.Legend at 0x1cbe063add8>"
      ]
     },
     "execution_count": 3,
     "metadata": {},
     "output_type": "execute_result"
    },
    {
     "data": {
      "image/png": "[encoded data removed]",
      "text/plain": [
       "<Figure size 504x504 with 1 Axes>"
      ]
     },
     "metadata": {
      "needs_background": "light"
     },
     "output_type": "display_data"
    }
   ],
   "source": [
    "def RK4(func,x,y,h): \n",
    "    hh=0.5*h \n",
    "    V1=func(x,y) \n",
    "    V2=func(x+hh,y+hh*V1)\n",
    "    V3=func(x+hh,y-hh*V2) \n",
    "    V4=func(x+h,y+h*V3)\n",
    "    return y+h*(V1+2. *V2+2. *V3+V4) /6.\n",
    "\n",
    "def dudx(x,u): \n",
    "    return (2/x -1/x**2)/(u-1/u)\n",
    "\n",
    "def BondiIntegrate(x_start,x_stop,u_initial,N):\n",
    "    dx=np.abs(x_start-x_stop)/N \n",
    "    u_result=np.array([u_initial]) \n",
    "    \n",
    "    if x_start>x_stop: # 적분 방향이 -인 경우\n",
    "        i=N \n",
    "        for i in range(N, 0, -1): \n",
    "            x_width=np. linspace(x_stop,x_start,N+1) \n",
    "            u_ans=RK4(dudx, x_width[i], u_result[0], -dx) \n",
    "            u_result=np.append(u_ans,u_result)\n",
    "            \n",
    "    elif x_start<x_stop: # 적분 방향이 +인 경우 \n",
    "        i=0 \n",
    "        for i in range(N): \n",
    "            x_width=np. linspace(x_start,x_stop,N+1)\n",
    "            u_ans=RK4(dudx,x_width[i],u_result[-1] ,dx)\n",
    "            u_result=np.append(u_result,u_ans) \n",
    "            \n",
    "    return x_width,u_result #x와 u를 동시에 출력\n",
    "\n",
    "\n",
    "\n",
    "x_1,u_1=BondiIntegrate(5, 0.1, 3, 10000) \n",
    "x_2,u_2=BondiIntegrate(5, 0.1, 0.1, 10000) \n",
    "x_3,u_3=BondiIntegrate(5, 0.1, 0.01, 10000)\n",
    "plt.figure(figsize=(7, 7))\n",
    "plt.plot(x_1, u_1,label=r' $u(x=5)=3$' ) \n",
    "plt.plot(x_2, u_2,label=r' $u(x=5)=0.1$') \n",
    "plt.plot(x_3, u_3,label=r' $u(x=5)=0.01$') \n",
    "plt.axhline(1.0 ,color = 'red', ls = '--') \n",
    "plt.xlim(0.0, 5.0)\n",
    "plt.ylim(0.0, 4.0)\n",
    "plt.xlabel('x', size = 15 ) \n",
    "plt.ylabel('u', size = 15 )\n",
    "plt.legend()"
   ]
  },
  {
   "cell_type": "markdown",
   "metadata": {},
   "source": [
    "u(5) = 0.1 일 때, u = 1 인 지점을 계산하게 된다. 이 때\n",
    "$\\frac{du}{dx}$ = $\\frac{ \\frac{2}{x}-\\frac{1}{x^{2}}}{u-\\frac{1}{u}}$ 인데 <br> u = 1일 때 분모의 계산값이 0이 되므로 문제가 발생하게 된다. <br>\n",
    "이 때 $\\frac{dx}{du}$ = $\\frac   {u-\\frac{1}{u}} {\\frac{2}{x}-\\frac{1}{x^{2}}}   $ 는 x = 0, 1/2이 아니라면 분모가 0이 되지 않고 u의 값에 전혀 구애 받지 않으므로 이를 이용하여 ODE를 풀이할 수 있다. "
   ]
  },
  {
   "cell_type": "code",
   "execution_count": 4,
   "metadata": {},
   "outputs": [
    {
     "data": {
      "text/plain": [
       "<matplotlib.legend.Legend at 0x1cbe069e9b0>"
      ]
     },
     "execution_count": 4,
     "metadata": {},
     "output_type": "execute_result"
    },
    {
     "data": {
      "image/png": "[encoded data removed]",
      "text/plain": [
       "<Figure size 432x432 with 1 Axes>"
      ]
     },
     "metadata": {
      "needs_background": "light"
     },
     "output_type": "display_data"
    }
   ],
   "source": [
    "def RK4(func,x,y,h): \n",
    "    hh=0.5*h \n",
    "    V1=func(x,y) \n",
    "    V2=func(x+hh,y+hh*V1)\n",
    "    V3=func(x+hh,y-hh*V2) \n",
    "    V4=func(x+h,y+h*V3)\n",
    "    return y+h*(V1+2. *V2+2. *V3+V4) /6.\n",
    "\n",
    "def dxdu(u,x): \n",
    "    return (u-1/u)/(2/x -1/x**2)\n",
    "\n",
    "def BondiIntegrate2(u_start,u_stop,x_initial,N):\n",
    "    du=np.abs(u_start-u_stop)/N \n",
    "    x_result=np.array([x_initial]) \n",
    "    \n",
    "    if u_start>u_stop: # 적분 방향이 -인 경우\n",
    "        i=N \n",
    "        for i in range(N, 0, -1): \n",
    "            u_width=np.linspace(u_stop,u_start,N+1) \n",
    "            x_ans=RK4(dxdu, u_width[i], x_result[0], -du) \n",
    "            x_result=np.append(x_ans,x_result)\n",
    "            \n",
    "    elif u_start<u_stop: # 적분 방향이 +인 경우 \n",
    "        i=0 \n",
    "        for i in range(N): \n",
    "            u_width=np.linspace(u_start,u_stop,N+1)\n",
    "            x_ans=RK4(dxdu,u_width[i],x_result[-1] ,du)\n",
    "            x_result=np.append(x_result,x_ans) \n",
    "            \n",
    "    return x_result, u_width \n",
    "\n",
    "\n",
    "x_2sub, u_2sub=BondiIntegrate2(0.1, 4, 5, 10000) \n",
    "plt.figure(figsize=(6, 6))\n",
    "plt.plot(x_2, u_2,label=r' $u(x=5)=0.1$ with du/dx') \n",
    "plt.plot(x_2sub,u_2sub,label=r' $u(x=5)=0.1$ with dx/du') \n",
    "plt.axhline(1.0 ,color = 'red', ls = '--') \n",
    "plt.xlim(0.0, 5.0)\n",
    "plt.ylim(0.0, 4.0)\n",
    "plt.xlabel('x', size = 15 ) \n",
    "plt.ylabel('u', size = 15 )\n",
    "plt.legend()"
   ]
  },
  {
   "cell_type": "markdown",
   "metadata": {},
   "source": [
    "dx/du로 풀이한 해애서 x=0, 1/2를 지나지 않으므로 해에 문제가 없음을 알 수 있다. "
   ]
  },
  {
   "cell_type": "markdown",
   "metadata": {},
   "source": [
    "### (b)"
   ]
  },
  {
   "cell_type": "markdown",
   "metadata": {},
   "source": [
    "$\\frac{du}{dx}$ = $\\frac{ \\frac{2}{x}-\\frac{1}{x^{2}}}{u-\\frac{1}{u}}$ 이므로 x=1/2, u=1인 근방에서\n",
    "$$\n",
    "u = 1 + \\Delta u, \\ x = 1/2 + \\Delta x \\\\\n",
    "(u - \\frac{1}{u}) du = (\\frac{2}{x} - \\frac{1}{x^2}) dx \\\\\n",
    "((1 + \\Delta u) - (1 + \\Delta u)^{-1}) \\Delta u = (2(\\frac{1}{2} + \\Delta x)^{-1} - (\\frac{1}{2} + \\Delta x)^{-2}) \\Delta x \\\\\n",
    "((1 + \\Delta u) - (1 - \\Delta u)) \\Delta u = (\\frac{4}{1 + 2\\Delta x} - \\frac{4}{(1 + 2\\Delta x)^{2}})\\Delta x = 8(\\Delta x^2) (1 + 2\\Delta x)^{-2} \\\\\n",
    "2(\\Delta u)^2 = 8(\\Delta x)^2 (1 - 4 \\Delta x) \\approx 8(\\Delta x)^2 \\\\\n",
    "\\therefore \\Delta u = \\pm 2\\Delta x\n",
    "$$"
   ]
  },
  {
   "cell_type": "code",
   "execution_count": 5,
   "metadata": {
    "scrolled": false
   },
   "outputs": [
    {
     "data": {
      "text/plain": [
       "<matplotlib.legend.Legend at 0x1cbe17f4748>"
      ]
     },
     "execution_count": 5,
     "metadata": {},
     "output_type": "execute_result"
    },
    {
     "data": {
      "image/png": "[encoded data removed]",
      "text/plain": [
       "<Figure size 432x432 with 1 Axes>"
      ]
     },
     "metadata": {
      "needs_background": "light"
     },
     "output_type": "display_data"
    }
   ],
   "source": [
    "def RK4(func,x,y,h): \n",
    "    hh=0.5*h \n",
    "    V1=func(x,y) \n",
    "    V2=func(x+hh,y+hh*V1)\n",
    "    V3=func(x+hh,y-hh*V2) \n",
    "    V4=func(x+h,y+h*V3)\n",
    "    return y+h*(V1+2. *V2+2. *V3+V4) /6.\n",
    "\n",
    "def dudx(x,u): \n",
    "    return (2/x -1/x**2)/(u-1/u)\n",
    "\n",
    "def Bonditransonic(x_start, x_stop, u_initial, N, sign):\n",
    "    dx=np.abs(x_start-x_stop)/N \n",
    "    u_result=np.array([u_initial]) \n",
    "    \n",
    "    if x_start>x_stop:\n",
    "        i=N \n",
    "        for i in range(N, 0, -1): \n",
    "            x_width=np.linspace(x_stop,x_start,N+1)             \n",
    "            if x_width[i] == 0.5 and u_result[0] == 1:\n",
    "                if sign == '+':\n",
    "                    u_ans = u_result[0] - 2*dx # du = 2dx\n",
    "                elif sign == '-':\n",
    "                    u_ans = u_result[0] + 2*dx\n",
    "            else:\n",
    "                u_ans=RK4(dudx, x_width[i], u_result[0], -dx)               \n",
    "            u_result=np.append(u_ans,u_result)\n",
    "            \n",
    "    elif x_start<x_stop: \n",
    "        i=0 \n",
    "        for i in range(N): \n",
    "            x_width=np.linspace(x_start,x_stop,N+1) \n",
    "            if x_width[i] == 0.5 and u_result[-1] == 1:\n",
    "                if sign == '+':\n",
    "                    u_ans = u_result[0] + 2*dx # du = 2dx\n",
    "                elif sign == '-':\n",
    "                    u_ans = u_result[0] - 2*dx\n",
    "            else:\n",
    "                u_ans=RK4(dudx, x_width[i], u_result[-1], dx)               \n",
    "            u_result=np.append(u_result, u_ans)\n",
    "           \n",
    "    return x_width,u_result\n",
    "\n",
    "# du/dx = 2\n",
    "x_1, transonic_1 = Bonditransonic(0.5, 0.1, 1, 10000, '+')\n",
    "x_2, transonic_2 = Bonditransonic(0.5, 5, 1, 10000, '+')\n",
    "x_data_plus2 = np.append(x_1, x_2)\n",
    "transonic_plus2 = np.append(transonic_1, transonic_2)\n",
    "\n",
    "\n",
    "# du/dx = -2\n",
    "x_3, transonic_3 = Bonditransonic(0.5, 0.1, 1, 10000, '-')\n",
    "x_4, transonic_4 = Bonditransonic(0.5, 5, 1, 10000, '-')\n",
    "x_data_minus2 = np.append(x_3, x_4)\n",
    "transonic_minus2 = np.append(transonic_3, transonic_4)\n",
    "\n",
    "\n",
    "\n",
    "\n",
    "plt.figure(figsize=(6, 6)) \n",
    "plt.plot(x_data_plus2, transonic_plus2,label=r' $du/dx|_{(x=1/2 ,u=1)}=+2$' ) \n",
    "plt.plot(x_data_minus2, transonic_minus2,label=r' $du/dx|_{(x=1/2 ,u=1)}=-2$' )\n",
    "plt.axhline(1.0, xmax=(1/2)/5, color = 'red', ls = ':')\n",
    "plt.axvline(0.5, ymax=1/4, color = 'red', ls = ':') \n",
    "plt.xlim(0.0, 5.0)\n",
    "plt.ylim(0.0, 4.0) \n",
    "plt.xlabel(r' $x$' ,fontsize=15) \n",
    "plt.ylabel(r' $u$' ,fontsize=15)\n",
    "plt.legend(fontsize=13) "
   ]
  }
 ],
 "metadata": {
  "kernelspec": {
   "display_name": "Python 3",
   "language": "python",
   "name": "python3"
  },
  "language_info": {
   "codemirror_mode": {
    "name": "ipython",
    "version": 3
   },
   "file_extension": ".py",
   "mimetype": "text/x-python",
   "name": "python",
   "nbconvert_exporter": "python",
   "pygments_lexer": "ipython3",
   "version": "3.7.3"
  }
 },
 "nbformat": 4,
 "nbformat_minor": 2
}
