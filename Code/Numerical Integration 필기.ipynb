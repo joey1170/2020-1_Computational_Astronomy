{
 "cells": [
  {
   "cell_type": "code",
   "execution_count": 1,
   "metadata": {},
   "outputs": [],
   "source": [
    "import numpy as np\n",
    "import matplotlib.pyplot as plt"
   ]
  },
  {
   "cell_type": "code",
   "execution_count": 20,
   "metadata": {},
   "outputs": [
    {
     "name": "stdout",
     "output_type": "stream",
     "text": [
      "n=   25  hap=0.99967, err=0.000329008461869\n",
      "n=   50  hap=0.99992, err=0.000082248056278\n",
      "n=   75  hap=0.99996, err=0.000036554357618\n",
      "n=  100  hap=0.99998, err=0.000020561760392\n",
      "n=  125  hap=0.99999, err=0.000013159507169\n",
      "n=  150  hap=0.99999, err=0.000009138539296\n",
      "n=  175  hap=0.99999, err=0.000006714025615\n",
      "n=  200  hap=0.99999, err=0.000005140424243\n",
      "n=  225  hap=1.00000, err=0.000004061568896\n",
      "n=  250  hap=1.00000, err=0.000003289870298\n",
      "n=  275  hap=1.00000, err=0.000002718900763\n"
     ]
    }
   ],
   "source": [
    "def func(x):\n",
    "    return np.sin(x)\n",
    "\n",
    "def trapezoidal(a,b,n):\n",
    "    h = (b-a)/n\n",
    "    hap = 0.5*(func(a)+func(b))\n",
    "    for i in range(1,n):\n",
    "        hap = hap + func(a+i*h)\n",
    "    return h*hap\n",
    "\n",
    "loop = 0\n",
    "for i in range(1, 300):\n",
    "    loop=loop+1\n",
    "    hap = trapezoidal(0, 0.5*np.pi, i)\n",
    "    err = 1 - hap\n",
    "    if loop%25 ==0:\n",
    "        print(\"n={:5d}  hap={:.5f}, err={:.15f}\".format(i,hap,err))"
   ]
  },
  {
   "cell_type": "code",
   "execution_count": null,
   "metadata": {},
   "outputs": [],
   "source": []
  },
  {
   "cell_type": "code",
   "execution_count": 8,
   "metadata": {},
   "outputs": [],
   "source": [
    "import numpy as np"
   ]
  },
  {
   "cell_type": "code",
   "execution_count": 18,
   "metadata": {},
   "outputs": [
    {
     "name": "stdout",
     "output_type": "stream",
     "text": [
      "n=    1  hap=0.3926990817, err=0.0461254183\n",
      "n=   31  hap=0.4387812117, err=0.0000432883\n",
      "n=   61  hap=0.4388133752, err=0.0000111248\n",
      "n=   91  hap=0.4388195415, err=0.0000049585\n",
      "n=  121  hap=0.4388217272, err=0.0000027728\n",
      "n=  151  hap=0.4388227457, err=0.0000017543\n",
      "n=  181  hap=0.4388233013, err=0.0000011987\n",
      "n=  211  hap=0.4388236372, err=0.0000008628\n",
      "n=  241  hap=0.4388238557, err=0.0000006443\n",
      "n=  271  hap=0.4388240058, err=0.0000004942\n"
     ]
    }
   ],
   "source": [
    "def func(x):\n",
    "    return np.arctan(x) \n",
    "\n",
    "def trapezoidal(a,b,n):\n",
    "    h = (b-a)/n\n",
    "    hap = 0.5*(func(a)+func(b))\n",
    "    for i in range(1,n):\n",
    "        hap = hap + func(a+i*h)\n",
    "    return h*hap\n",
    "\n",
    "for i in range(1, 300, 30):\n",
    "    hap = trapezoidal(0, 1, i)\n",
    "    err = 0.4388245 - hap\n",
    "    print(\"n={:5d}  hap={:.10f}, err={:.10f}\".format(i,hap,err))"
   ]
  },
  {
   "cell_type": "code",
   "execution_count": null,
   "metadata": {},
   "outputs": [],
   "source": []
  },
  {
   "cell_type": "code",
   "execution_count": null,
   "metadata": {},
   "outputs": [],
   "source": []
  },
  {
   "cell_type": "code",
   "execution_count": null,
   "metadata": {},
   "outputs": [],
   "source": []
  },
  {
   "cell_type": "code",
   "execution_count": 29,
   "metadata": {},
   "outputs": [],
   "source": [
    "\n",
    "# 내 풀이인데 에러 존재\n",
    "\n",
    "def func(x):\n",
    "    return np.sin(x)\n",
    "\n",
    "def Simpson(a, b, n):\n",
    "    h = (b-a)/n\n",
    "    x = a\n",
    "    hap = func(a)+func(b)\n",
    "    for i in range(1, n):\n",
    "        if i % 2 == 1:\n",
    "            x = x + h\n",
    "            hap = hap + 4*func(x)\n",
    "        else: \n",
    "            x = x + h\n",
    "            hap = hap + 2*func(x)\n",
    "        \n",
    "    hap =h/3 * ( hap + 4*func(x+h) )\n",
    "    return hap"
   ]
  },
  {
   "cell_type": "code",
   "execution_count": 30,
   "metadata": {},
   "outputs": [
    {
     "name": "stdout",
     "output_type": "stream",
     "text": [
      "n=    1  hap=2.0494774287, err=-1.0494774287\n",
      "n=    2  hap=1.5237333606, err=-0.5237333606\n",
      "n=    3  hap=1.2618076833, err=-0.2618076833\n",
      "n=    4  hap=1.1309002106, err=-0.1309002106\n",
      "n=    5  hap=1.0654498792, err=-0.0654498792\n",
      "n=    6  hap=1.0327249255, err=-0.0327249255\n",
      "n=    7  hap=1.0163624619, err=-0.0163624619\n",
      "n=    8  hap=1.0081812309, err=-0.0081812309\n",
      "n=    9  hap=1.0040906154, err=-0.0040906154\n",
      "n=   10  hap=1.0020453077, err=-0.0020453077\n",
      "n=   11  hap=1.0010226539, err=-0.0010226539\n",
      "n=   12  hap=1.0005113269, err=-0.0005113269\n",
      "n=   13  hap=1.0002556635, err=-0.0002556635\n",
      "n=   14  hap=1.0001278317, err=-0.0001278317\n",
      "n=   15  hap=1.0000639159, err=-0.0000639159\n",
      "n=   16  hap=1.0000319579, err=-0.0000319579\n",
      "n=   17  hap=1.0000159790, err=-0.0000159790\n",
      "n=   18  hap=1.0000079895, err=-0.0000079895\n"
     ]
    }
   ],
   "source": [
    "for i in range(1, 19):\n",
    "    n = 2**i\n",
    "    hap = Simpson(0, 0.5*np.pi, n)\n",
    "    err = 1 - hap # 원래 답 - hap\n",
    "    print(\"n={:5d}  hap={:.10f}, err={:.10f}\".format(i,hap,err)) "
   ]
  },
  {
   "cell_type": "code",
   "execution_count": null,
   "metadata": {},
   "outputs": [],
   "source": []
  },
  {
   "cell_type": "code",
   "execution_count": 27,
   "metadata": {},
   "outputs": [],
   "source": [
    "# 교수님 코드\n",
    "def func(x):\n",
    "    return np.sin(x)\n",
    "\n",
    "def Simpson(a, b, n):\n",
    "    h = (b-a)/n\n",
    "    x = a\n",
    "    hap = func(a)+func(b)\n",
    "    for i in range(1, n-1, 2):\n",
    "        x = x + h\n",
    "        hap = hap + 4*func(x)\n",
    "        x = x + h\n",
    "        hap = hap + 2*func(x)\n",
    "        \n",
    "    hap = hap + 4*func(x+h)\n",
    "    return hap * h/3"
   ]
  },
  {
   "cell_type": "code",
   "execution_count": null,
   "metadata": {},
   "outputs": [],
   "source": []
  },
  {
   "cell_type": "code",
   "execution_count": null,
   "metadata": {},
   "outputs": [],
   "source": []
  },
  {
   "cell_type": "code",
   "execution_count": null,
   "metadata": {},
   "outputs": [],
   "source": []
  },
  {
   "cell_type": "code",
   "execution_count": null,
   "metadata": {},
   "outputs": [],
   "source": []
  },
  {
   "cell_type": "code",
   "execution_count": 45,
   "metadata": {},
   "outputs": [
    {
     "name": "stdout",
     "output_type": "stream",
     "text": [
      "304.7811364779542 152.39032729729087 9\n"
     ]
    }
   ],
   "source": [
    "Jmax=10\n",
    "TOL = 1.e-10\n",
    "a=0\n",
    "b=1\n",
    "T = np.zeros((Jmax,Jmax), float)\n",
    "\n",
    "def func(x):\n",
    "    return np.exp(-x**2)\n",
    "\n",
    "def trapezoidal(a,b,n):\n",
    "    h = (b-a)/n\n",
    "    hap = 0.5*(func(a)+func(b))\n",
    "    for i in range(1,n):\n",
    "        hap = hap + func(a+i*h)\n",
    "    return h*hap\n",
    "T[0,0] = trapezoidal(a,b,1)\n",
    "\n",
    "\n",
    "def romberg(a, b):\n",
    "    for j in range(1, Jmax):\n",
    "        T[j,0] = trapezoidal(a,b,2**j)\n",
    "        for k in range(1, j+1):\n",
    "            T[j,k] = T[j,k-1] + (T[j,k-1]-T[j-1,k-1]/(4**(k)-1))\n",
    "        err=abs(T[j,j]-T[j-1,j-1])\n",
    "        if(err<TOL):break\n",
    "    print(T[j,j],err,j)\n",
    "    \n",
    "romberg(0, 1)"
   ]
  },
  {
   "cell_type": "code",
   "execution_count": null,
   "metadata": {},
   "outputs": [],
   "source": []
  },
  {
   "cell_type": "code",
   "execution_count": null,
   "metadata": {},
   "outputs": [],
   "source": []
  },
  {
   "cell_type": "code",
   "execution_count": null,
   "metadata": {},
   "outputs": [],
   "source": []
  },
  {
   "cell_type": "code",
   "execution_count": 54,
   "metadata": {},
   "outputs": [
    {
     "name": "stdout",
     "output_type": "stream",
     "text": [
      "0 -0.932469514203152 0.17132449237916975\n",
      "1 -0.6612093864662645 0.36076157304813894\n",
      "2 -0.23861918608319693 0.46791393457269137\n",
      "3 0.23861918608319693 0.46791393457269137\n",
      "4 0.6612093864662645 0.36076157304813894\n",
      "5 0.932469514203152 0.17132449237916975\n",
      " 1 nodes  hap=0.102084135580274\n",
      " 2 nodes  hap=0.386815264371366\n",
      " 4 nodes  hap=1.296126705242914\n"
     ]
    },
    {
     "ename": "IndexError",
     "evalue": "index 6 is out of bounds for axis 0 with size 6",
     "output_type": "error",
     "traceback": [
      "\u001b[1;31m---------------------------------------------------------------------------\u001b[0m",
      "\u001b[1;31mIndexError\u001b[0m                                Traceback (most recent call last)",
      "\u001b[1;32m<ipython-input-54-d4c1c5d480a2>\u001b[0m in \u001b[0;36m<module>\u001b[1;34m\u001b[0m\n\u001b[0;32m     15\u001b[0m     \u001b[0mhap\u001b[0m \u001b[1;33m=\u001b[0m \u001b[1;36m0\u001b[0m\u001b[1;33m\u001b[0m\u001b[1;33m\u001b[0m\u001b[0m\n\u001b[0;32m     16\u001b[0m     \u001b[1;32mfor\u001b[0m \u001b[0mj\u001b[0m \u001b[1;32min\u001b[0m \u001b[0mrange\u001b[0m\u001b[1;33m(\u001b[0m\u001b[0mn\u001b[0m\u001b[1;33m)\u001b[0m\u001b[1;33m:\u001b[0m\u001b[1;33m\u001b[0m\u001b[1;33m\u001b[0m\u001b[0m\n\u001b[1;32m---> 17\u001b[1;33m         \u001b[0mhap\u001b[0m \u001b[1;33m=\u001b[0m \u001b[0mhap\u001b[0m \u001b[1;33m+\u001b[0m \u001b[0mw\u001b[0m\u001b[1;33m[\u001b[0m\u001b[0mj\u001b[0m\u001b[1;33m]\u001b[0m\u001b[1;33m*\u001b[0m\u001b[0mf\u001b[0m\u001b[1;33m(\u001b[0m\u001b[0mx\u001b[0m\u001b[1;33m[\u001b[0m\u001b[0mj\u001b[0m\u001b[1;33m]\u001b[0m\u001b[1;33m)\u001b[0m\u001b[1;33m\u001b[0m\u001b[1;33m\u001b[0m\u001b[0m\n\u001b[0m\u001b[0;32m     18\u001b[0m     \u001b[0mprint\u001b[0m\u001b[1;33m(\u001b[0m\u001b[1;34m'{:2d} nodes  hap={:.15f}'\u001b[0m\u001b[1;33m.\u001b[0m\u001b[0mformat\u001b[0m\u001b[1;33m(\u001b[0m\u001b[0mn\u001b[0m\u001b[1;33m,\u001b[0m \u001b[0mhap\u001b[0m\u001b[1;33m)\u001b[0m\u001b[1;33m)\u001b[0m\u001b[1;33m\u001b[0m\u001b[1;33m\u001b[0m\u001b[0m\n\u001b[0;32m     19\u001b[0m \u001b[1;33m\u001b[0m\u001b[0m\n",
      "\u001b[1;31mIndexError\u001b[0m: index 6 is out of bounds for axis 0 with size 6"
     ]
    }
   ],
   "source": [
    "import numpy as np\n",
    "deg = 6\n",
    "x,w= np.polynomial.legendre.leggauss(deg)\n",
    "for i in range(deg):\n",
    "    print (i, x[i], w[i])\n",
    "    \n",
    "    \n",
    "def func1(x):\n",
    "    return np.cos(x)\n",
    "\n",
    "    \n",
    "for i in range(0,5):\n",
    "    n = 2**i\n",
    "    x,w= np.polynomial.legendre.leggauss(deg)\n",
    "    hap = 0\n",
    "    for j in range(n):\n",
    "        hap = hap + w[j]*f(x[j])\n",
    "    print('{:2d} nodes  hap={:.15f}'.format(n, hap))\n",
    "    "
   ]
  },
  {
   "cell_type": "code",
   "execution_count": null,
   "metadata": {},
   "outputs": [],
   "source": [
    "\n",
    "\n"
   ]
  },
  {
   "cell_type": "code",
   "execution_count": null,
   "metadata": {},
   "outputs": [],
   "source": []
  },
  {
   "cell_type": "code",
   "execution_count": 55,
   "metadata": {},
   "outputs": [
    {
     "name": "stdout",
     "output_type": "stream",
     "text": [
      "1.6829419696157932\n",
      "1.8684409237754643e-14\n"
     ]
    }
   ],
   "source": [
    "from scipy import integrate\n",
    "\n",
    "a,b=-1,1\n",
    "f = lambda x:np.cos(x)\n",
    "\n",
    "quad, quad_err = integrate.quad(f,a,b)\n",
    "print(quad)\n",
    "print(quad_err)"
   ]
  },
  {
   "cell_type": "code",
   "execution_count": null,
   "metadata": {},
   "outputs": [],
   "source": []
  },
  {
   "cell_type": "code",
   "execution_count": null,
   "metadata": {},
   "outputs": [],
   "source": []
  },
  {
   "cell_type": "code",
   "execution_count": null,
   "metadata": {},
   "outputs": [],
   "source": []
  },
  {
   "cell_type": "code",
   "execution_count": 1,
   "metadata": {},
   "outputs": [],
   "source": [
    "import numpy as np"
   ]
  },
  {
   "cell_type": "code",
   "execution_count": 4,
   "metadata": {},
   "outputs": [
    {
     "name": "stdout",
     "output_type": "stream",
     "text": [
      "GaussianQuadrature\n",
      "  1 node(s): result1 = 0.17433090, error = 1.79284583e-02\n",
      "  2 node(s): result1 = 0.19226871, error = 9.34863812e-06\n",
      "  4 node(s): result1 = 0.19225936, error = 7.20671300e-11\n",
      "  8 node(s): result1 = 0.19225936, error = 5.55111512e-17\n",
      " 16 node(s): result1 = 0.19225936, error = 2.77555756e-17\n",
      "simpson\n",
      "  1 node(s): result2 = 0.76024708, error = 5.67987720e-01\n",
      "  2 node(s): result2 = 0.19224531, error = 1.40503197e-05\n",
      "  4 node(s): result2 = 0.19225846, error = 8.97287186e-07\n",
      "  8 node(s): result2 = 0.19225930, error = 5.64037359e-08\n",
      " 16 node(s): result2 = 0.19225935, error = 3.53039595e-09\n"
     ]
    }
   ],
   "source": [
    "def GaussianQuadrature(a, b, deg, func):\n",
    "    t, w = np.polynomial.legendre.leggauss(deg)\n",
    "    \n",
    "    x = (b + a + t*(b - a))*0.5               #르장드르 쓰기 위해 구간 바꾸기\n",
    "    hap = 0\n",
    "    for i in range(deg):\n",
    "        hap = hap+ func(x[i])*w[i]\n",
    "        \n",
    "    hap = hap * (b - a)*0.5\n",
    "    return hap\n",
    "\n",
    "    \n",
    "def Simpson(a, b, n, func):\n",
    "    h = (b-a)/n\n",
    "    x = a\n",
    "    hap = func(a)+func(b)\n",
    "    for i in range(1, n-1, 2):\n",
    "        x = x + h\n",
    "        hap = hap + 4*func(x)\n",
    "        x = x + h\n",
    "        hap = hap + 2*func(x)\n",
    "        \n",
    "    hap = hap + 4*func(x+h)\n",
    "    return hap * h/3\n",
    "\n",
    "def func(x):\n",
    "    return (x**2)*np.log(x)\n",
    "a = 1\n",
    "b = 1.5\n",
    "\n",
    "original =9/8*np.log(1.5) - 19/72\n",
    "\n",
    "print(\"GaussianQuadrature\")\n",
    "for i in range(5):\n",
    "    n = 2**i\n",
    "    result1 = GaussianQuadrature(a, b, n, func)\n",
    "    error = abs(result1 -  original)\n",
    "    print(\"{:3d} node(s): result1 = {:.8f}, error = {:.8e}\".format(n, result1, error))\n",
    "    \n",
    "print(\"simpson\")   \n",
    "for i in range(5):\n",
    "    n = 2**i\n",
    "    result2 = Simpson(a, b, n, func)\n",
    "    error = abs(result2 -  original)\n",
    "    print(\"{:3d} node(s): result2 = {:.8f}, error = {:.8e}\".format(n, result2, error))\n"
   ]
  },
  {
   "cell_type": "code",
   "execution_count": 5,
   "metadata": {},
   "outputs": [
    {
     "name": "stdout",
     "output_type": "stream",
     "text": [
      "GaussianQuadrature\n",
      "  1 node(s): result1 = 0.77880078, error = 3.19766503e-02\n",
      "  2 node(s): result1 = 0.74659469, error = 2.29444530e-04\n",
      "  4 node(s): result1 = 0.74682447, error = 3.35318564e-07\n",
      "  8 node(s): result1 = 0.74682413, error = 3.55271368e-15\n",
      " 16 node(s): result1 = 0.74682413, error = 2.88657986e-15\n",
      "simpson\n",
      "  1 node(s): result2 = 0.94646574, error = 5.54564779e-01\n",
      "  2 node(s): result2 = 0.74718043, error = 1.99641602e-01\n",
      "  4 node(s): result2 = 0.74685538, error = 3.56296097e-04\n",
      "  8 node(s): result2 = 0.74682612, error = 3.12469786e-05\n",
      " 16 node(s): result2 = 0.74682426, error = 1.98771504e-06\n"
     ]
    }
   ],
   "source": [
    "def GaussianQuadrature(a, b, deg, func):\n",
    "    t, w = np.polynomial.legendre.leggauss(deg)\n",
    "    \n",
    "    x = (b + a + t*(b - a))*0.5               #르장드르 쓰기 위해 구간 바꾸기\n",
    "    hap = 0\n",
    "    for i in range(deg):\n",
    "        hap = hap+ func(x[i])*w[i]\n",
    "        \n",
    "    hap = hap * (b - a)*0.5\n",
    "    return hap\n",
    "\n",
    "    \n",
    "def Simpson(a, b, n, func):\n",
    "    h = (b-a)/n\n",
    "    x = a\n",
    "    hap = func(a)+func(b)\n",
    "    for i in range(1, n-1, 2):\n",
    "        x = x + h\n",
    "        hap = hap + 4*func(x)\n",
    "        x = x + h\n",
    "        hap = hap + 2*func(x)\n",
    "        \n",
    "    hap = hap + 4*func(x+h)\n",
    "    return hap * h/3\n",
    "\n",
    "def func(x):\n",
    "    return np.exp(-x**2)\n",
    "a = 0\n",
    "b = 1\n",
    "\n",
    "original = 0.74682413281243\n",
    "\n",
    "print(\"GaussianQuadrature\")\n",
    "for i in range(5):\n",
    "    n = 2**i\n",
    "    result1 = GaussianQuadrature(a, b, n, func)\n",
    "    error = abs(result1 -  original)\n",
    "    print(\"{:3d} node(s): result1 = {:.8f}, error = {:.8e}\".format(n, result1, error))\n",
    "    \n",
    "print(\"simpson\")   \n",
    "for i in range(5):\n",
    "    n = 2**i\n",
    "    error = abs(result2 -  original)\n",
    "    result2 = Simpson(a, b, n, func)\n",
    "    print(\"{:3d} node(s): result2 = {:.8f}, error = {:.8e}\".format(n, result2, error))\n"
   ]
  },
  {
   "cell_type": "code",
   "execution_count": null,
   "metadata": {},
   "outputs": [],
   "source": []
  },
  {
   "cell_type": "code",
   "execution_count": 6,
   "metadata": {},
   "outputs": [
    {
     "data": {
      "text/plain": [
       "18"
      ]
     },
     "execution_count": 6,
     "metadata": {},
     "output_type": "execute_result"
    }
   ],
   "source": [
    "9+9"
   ]
  },
  {
   "cell_type": "markdown",
   "metadata": {},
   "source": [
    "gaussian 코드는 양 끝값을 안쓰고 노드로 적분해서 numerical하게 적분 안되는 몇 몇 함수도 적분이 가능하다 ."
   ]
  },
  {
   "cell_type": "markdown",
   "metadata": {},
   "source": [
    "## Example 4"
   ]
  },
  {
   "cell_type": "code",
   "execution_count": 16,
   "metadata": {},
   "outputs": [
    {
     "name": "stdout",
     "output_type": "stream",
     "text": [
      "GaussianQuadrature\n",
      "  1 node(s): result1 = -0.46209812, error = 3.60368913e-01\n",
      "  2 node(s): result1 = -0.70795666, error = 1.14510371e-01\n",
      "  4 node(s): result1 = -0.79029464, error = 3.21723914e-02\n",
      "  8 node(s): result1 = -0.81365623, error = 8.81079843e-03\n",
      " 16 node(s): result1 = -0.82014294, error = 2.32409714e-03\n",
      " 32 node(s): result1 = -0.82186895, error = 5.98086958e-04\n",
      " 64 node(s): result1 = -0.82231525, error = 1.51786624e-04\n",
      "128 node(s): result1 = -0.82242879, error = 3.82385483e-05\n"
     ]
    }
   ],
   "source": [
    "def GaussianQuadrature(a, b, deg, func):\n",
    "    t, w = np.polynomial.legendre.leggauss(deg)\n",
    "    \n",
    "    x = (b + a + t*(b - a))*0.5               #르장드르 쓰기 위해 구간 바꾸기\n",
    "    hap = 0\n",
    "    for i in range(deg):\n",
    "        hap = hap+ func(x[i])*w[i]\n",
    "        \n",
    "    hap = hap * (b - a)*0.5\n",
    "    return hap\n",
    "\n",
    "\n",
    "def func(x):\n",
    "    return np.log(x)/(1+x)\n",
    "\n",
    "a = 0\n",
    "b = 1\n",
    "\n",
    "original = -np.pi**2/12\n",
    "\n",
    "print(\"GaussianQuadrature\")\n",
    "for i in range(8):\n",
    "    n = 2**i\n",
    "    result1 = GaussianQuadrature(a, b, n, func)\n",
    "    error = abs(result1 -  original)\n",
    "    print(\"{:3d} node(s): result1 = {:.8f}, error = {:.8e}\".format(n, result1, error))\n",
    "    \n"
   ]
  },
  {
   "cell_type": "code",
   "execution_count": 13,
   "metadata": {},
   "outputs": [],
   "source": [
    "# excercise"
   ]
  },
  {
   "cell_type": "code",
   "execution_count": 2,
   "metadata": {},
   "outputs": [
    {
     "name": "stdout",
     "output_type": "stream",
     "text": [
      "GaussianQuadrature\n",
      "  1 node(s): result1 = 0.66604930, error = 5.82789010e+00\n",
      "  2 node(s): result1 = 2.41247137, error = 4.08146803e+00\n",
      "  4 node(s): result1 = 4.27477830, error = 2.21916111e+00\n",
      "  8 node(s): result1 = 5.49898267, error = 9.94956731e-01\n",
      " 16 node(s): result1 = 6.10289088, error = 3.91048519e-01\n"
     ]
    }
   ],
   "source": [
    "def GaussianQuadrature(a, b, deg, func):\n",
    "    t, w = np.polynomial.legendre.leggauss(deg)\n",
    "    \n",
    "    x = (b + a + t*(b - a))*0.5               #르장드르 쓰기 위해 구간 바꾸기\n",
    "    hap = 0\n",
    "    for i in range(deg):\n",
    "        hap = hap+ func(x[i])*w[i]\n",
    "        \n",
    "    hap = hap * (b - a)*0.5\n",
    "    return hap\n",
    "\n",
    "\n",
    "def func(x):\n",
    "    return np.log(x)**3/(x-1)\n",
    "\n",
    "a = 0\n",
    "b = 1\n",
    "\n",
    "original = np.pi**4/15\n",
    "print(\"GaussianQuadrature\")\n",
    "for i in range(5):\n",
    "    n = 2**i\n",
    "    result1 = GaussianQuadrature(a, b, n, func)\n",
    "    error = abs(result1 -  original)\n",
    "    print(\"{:3d} node(s): result1 = {:.8f}, error = {:.8e}\".format(n, result1, error))\n",
    "    \n"
   ]
  },
  {
   "cell_type": "code",
   "execution_count": null,
   "metadata": {},
   "outputs": [],
   "source": []
  },
  {
   "cell_type": "code",
   "execution_count": null,
   "metadata": {},
   "outputs": [],
   "source": []
  },
  {
   "cell_type": "code",
   "execution_count": null,
   "metadata": {},
   "outputs": [],
   "source": []
  },
  {
   "cell_type": "code",
   "execution_count": null,
   "metadata": {},
   "outputs": [],
   "source": []
  }
 ],
 "metadata": {
  "kernelspec": {
   "display_name": "Python 3",
   "language": "python",
   "name": "python3"
  },
  "language_info": {
   "codemirror_mode": {
    "name": "ipython",
    "version": 3
   },
   "file_extension": ".py",
   "mimetype": "text/x-python",
   "name": "python",
   "nbconvert_exporter": "python",
   "pygments_lexer": "ipython3",
   "version": "3.7.3"
  }
 },
 "nbformat": 4,
 "nbformat_minor": 2
}
