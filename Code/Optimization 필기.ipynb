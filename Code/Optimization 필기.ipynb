{
 "cells": [
  {
   "cell_type": "code",
   "execution_count": 8,
   "metadata": {},
   "outputs": [
    {
     "data": {
      "text/plain": [
       "1.2808171938012334"
      ]
     },
     "execution_count": 8,
     "metadata": {},
     "output_type": "execute_result"
    }
   ],
   "source": [
    "def golden(f, a, b, TOL):\n",
    "    R = 0.618\n",
    "    \n",
    "    error = 1\n",
    "    while error > TOL:\n",
    "        x1 = b - R*(b - a)\n",
    "        x2 = a + R*(b - a)\n",
    "    \n",
    "        if f(x1) > f(x2):\n",
    "            a = x1\n",
    "        \n",
    "        else:\n",
    "            b = x2\n",
    "            \n",
    "        error = abs(b - a)\n",
    "        \n",
    "    return b\n",
    "\n",
    "\n",
    "def f(x):\n",
    "    return x*(x-2)*(x+2)**2\n",
    "TOL = 1e-4\n",
    "\n",
    "golden(f, 0, 2, TOL)"
   ]
  },
  {
   "cell_type": "code",
   "execution_count": 3,
   "metadata": {},
   "outputs": [
    {
     "data": {
      "text/plain": [
       "-1.9999726373813809"
      ]
     },
     "execution_count": 3,
     "metadata": {},
     "output_type": "execute_result"
    }
   ],
   "source": [
    "golden(f, -3, - 1, TOL)"
   ]
  },
  {
   "cell_type": "code",
   "execution_count": 6,
   "metadata": {},
   "outputs": [
    {
     "data": {
      "text/plain": [
       "-1.9999221871850865"
      ]
     },
     "execution_count": 6,
     "metadata": {},
     "output_type": "execute_result"
    }
   ],
   "source": [
    "\n",
    "# 횟수로 해봄\n",
    "def golden(f, a, b, n):\n",
    "    R = 0.618\n",
    "    \n",
    "    error = 1\n",
    "    for i in range(n):\n",
    "        x1 = b - R*(b - a)\n",
    "        x2 = a + R*(b - a)\n",
    "    \n",
    "        if f(x1) > f(x2):\n",
    "            a = x1\n",
    "        \n",
    "        else:\n",
    "            b = x2\n",
    "            \n",
    "        error = abs(b - a)\n",
    "        \n",
    "    return b\n",
    "\n",
    "\n",
    "def f(x):\n",
    "    return x*(x-2)*(x+2)**2\n",
    "TOL = 1e-4\n",
    "\n",
    "golden(f, 0, 2, 20)\n",
    "golden(f, -3, -1, 20)"
   ]
  },
  {
   "cell_type": "code",
   "execution_count": null,
   "metadata": {},
   "outputs": [],
   "source": []
  },
  {
   "cell_type": "code",
   "execution_count": 12,
   "metadata": {},
   "outputs": [
    {
     "name": "stdout",
     "output_type": "stream",
     "text": [
      "     fun: -9.914949590828146\n",
      "    nfev: 43\n",
      "     nit: 38\n",
      " success: True\n",
      "       x: 1.280776401465682\n",
      "     fun: -9.914949590828147\n",
      "    nfev: 15\n",
      "     nit: 11\n",
      " success: True\n",
      "       x: 1.2807764040333458\n",
      "     fun: 3.2836517984978577e-13\n",
      " message: 'Solution found.'\n",
      "    nfev: 12\n",
      "  status: 0\n",
      " success: True\n",
      "       x: -2.000000202597239\n"
     ]
    }
   ],
   "source": [
    "import numpy as np\n",
    "import scipy.optimize as opt\n",
    "\n",
    "\n",
    "def func(x):\n",
    "    return x*(x-2)*(x+2)**2\n",
    "\n",
    "res1 = opt.minimize_scalar(func, method='Golden')\n",
    "print(res1)\n",
    "\n",
    "\n",
    "res2 = opt.minimize_scalar(func, method='Brent')\n",
    "print(res2)\n",
    "\n",
    "\n",
    "res3 = opt.minimize_scalar(func, bounds = (-3, -1), method='bounded')\n",
    "print(res3)\n"
   ]
  },
  {
   "cell_type": "code",
   "execution_count": null,
   "metadata": {},
   "outputs": [],
   "source": []
  },
  {
   "cell_type": "code",
   "execution_count": null,
   "metadata": {},
   "outputs": [],
   "source": []
  },
  {
   "cell_type": "code",
   "execution_count": 45,
   "metadata": {},
   "outputs": [
    {
     "name": "stdout",
     "output_type": "stream",
     "text": [
      "theta 0 : 0.1, answer = 3.1416092, iteration = 15\n",
      "theta 0 : 0.5, answer = 1.0471904, iteration = 3\n",
      "theta 0 : 1, answer = 1.0471975, iteration = 2\n"
     ]
    }
   ],
   "source": [
    "def f(x):\n",
    "    return -4*np.sin(x)*(1+np.cos(x))\n",
    "\n",
    "\n",
    "def df(x):\n",
    "    return -4*(np.cos(x)*(1 + np.cos(x)) - (np.sin(x))**2)\n",
    "\n",
    "def ddf(x):\n",
    "    return 4*np.sin(x)*(1 + 4*np.cos(x))\n",
    "\n",
    "\n",
    "def Newton(f, df, ddf, x0, TOL):\n",
    "    error = 10\n",
    "    count = 0 \n",
    "    while error > TOL:\n",
    "        x1 = x0 - df(x0)/ddf(x0)\n",
    "        x0 = x1\n",
    "        \n",
    "        error = abs(df(x0)/ddf(x0))\n",
    "        count = count+1\n",
    "        \n",
    "    return [x0, count]\n",
    "\n",
    "\n",
    "\n",
    "TOL = 10**-5\n",
    "\n",
    "x0 = [0.1, 0.5, 1]\n",
    "\n",
    "for i in range(3):\n",
    "    print('theta 0 : {}, answer = {:.7f}, iteration = {}'.format(x0[i], Newton(f,df,ddf,x0[i],TOL)[0], Newton(f,df,ddf,x0[i],TOL)[1]))"
   ]
  },
  {
   "cell_type": "code",
   "execution_count": null,
   "metadata": {},
   "outputs": [],
   "source": []
  },
  {
   "cell_type": "code",
   "execution_count": null,
   "metadata": {},
   "outputs": [],
   "source": []
  },
  {
   "cell_type": "code",
   "execution_count": 57,
   "metadata": {},
   "outputs": [
    {
     "name": "stdout",
     "output_type": "stream",
     "text": [
      "[1. 1.]\n"
     ]
    }
   ],
   "source": [
    "import numpy as np\n",
    "\n",
    "def Newton2D(X, grad, Hesse, TOL):\n",
    "    error = 1\n",
    "    i = 0\n",
    "    while error > TOL:\n",
    "        G = grad(X)\n",
    "        H = Hesse(X)\n",
    "        \n",
    "        det = np.linalg.det(H)\n",
    "        \n",
    "        h = np.zeros([2, 2])\n",
    "        h[0][0] =  H[1][1]\n",
    "        h[0][1] = -H[1][0]\n",
    "        h[1][0] = -H[0][1]\n",
    "        h[1][1] =  H[0][0]\n",
    "        \n",
    "        s = -h.dot(G)/det\n",
    "        error = np.sum(s**2)\n",
    "        X = X + s\n",
    "        i += 1\n",
    "    return X\n",
    "\n",
    "\n",
    "def grad(X):\n",
    "    x = X[0]\n",
    "    y = X[1]\n",
    "    \n",
    "    df0 = -400*x*(y - x**2) - 2*(1 - x)\n",
    "    df1 = 200*(y - x**2)\n",
    "\n",
    "    gradf = np.array([df0, df1])\n",
    "    \n",
    "    return gradf\n",
    "\n",
    "def Hesse(X):\n",
    "    x = X[0]\n",
    "    y = X[1]\n",
    "    \n",
    "    df0 = -400*x*(y - x**2) - 2*(1 - x)\n",
    "    df1 = 200*(y - x**2)\n",
    "\n",
    "    gradf = np.array([df0, df1])\n",
    "\n",
    "    H00 = -400*y + 1200*x**2 + 2\n",
    "    H01 = -400*x\n",
    "    H10 = -400*x\n",
    "    H11 = 200\n",
    "\n",
    "    H = np.array([[H00, H01],\n",
    "                  [H10, H11]])\n",
    "    \n",
    "    return H\n",
    "\n",
    "\n",
    "X = np.array([-2, 2])\n",
    "TOL = 10**-5\n",
    "\n",
    "print(Newton2D(X, grad, Hesse, TOL))"
   ]
  },
  {
   "cell_type": "code",
   "execution_count": null,
   "metadata": {},
   "outputs": [],
   "source": []
  },
  {
   "cell_type": "code",
   "execution_count": null,
   "metadata": {},
   "outputs": [],
   "source": []
  },
  {
   "cell_type": "markdown",
   "metadata": {},
   "source": [
    "교수님의 코드\n"
   ]
  },
  {
   "cell_type": "code",
   "execution_count": null,
   "metadata": {},
   "outputs": [],
   "source": [
    "def hessian_grad(x):\n",
    "    H = [[-400.*x[1]] + 1200.*x[0]*x[0] + 2, -400.*x[0]], [-400. *x[0], 200.]\n",
    "    df = [-400. * x[0]*x[1]]\n",
    "    \n",
    "    \n",
    "    \n",
    "x = np.array([-2, 2])\n",
    "s = np.zeros(2)\n",
    "\n",
    "err, TOL = 1, 1.e-5\n",
    "\n",
    "\n",
    "\n"
   ]
  },
  {
   "cell_type": "code",
   "execution_count": 53,
   "metadata": {},
   "outputs": [],
   "source": [
    "a = np.array([[1,1],[1,1]])\n",
    "b = np.array([[1,1],[1,1]])\n",
    "c = a.dot(b)"
   ]
  },
  {
   "cell_type": "code",
   "execution_count": 54,
   "metadata": {},
   "outputs": [
    {
     "data": {
      "text/plain": [
       "array([[2, 2],\n",
       "       [2, 2]])"
      ]
     },
     "execution_count": 54,
     "metadata": {},
     "output_type": "execute_result"
    }
   ],
   "source": [
    "c"
   ]
  },
  {
   "cell_type": "code",
   "execution_count": null,
   "metadata": {},
   "outputs": [],
   "source": []
  },
  {
   "cell_type": "code",
   "execution_count": 65,
   "metadata": {},
   "outputs": [
    {
     "name": "stdout",
     "output_type": "stream",
     "text": [
      "...best so far:\n",
      "...best so far:\n",
      "...best so far:\n",
      "...best so far:\n",
      "...best so far:\n",
      "...best so far:\n",
      "...best so far:\n",
      "...best so far:\n",
      "...best so far:\n",
      "...best so far:\n",
      "...best so far:\n",
      "...best so far:\n",
      "...best so far:\n",
      "...best so far:\n",
      "...best so far:\n",
      "...best so far:\n",
      "...best so far:\n",
      "...best so far:\n",
      "...best so far:\n",
      "...best so far:\n",
      "...best so far:\n",
      "...best so far:\n",
      "...best so far:\n",
      "...best so far:\n",
      "...best so far:\n",
      "...best so far:\n",
      "...best so far:\n",
      "...best so far:\n",
      "...best so far:\n",
      "...best so far:\n",
      "...best so far:\n",
      "...best so far:\n",
      "...best so far:\n",
      "...best so far:\n",
      "...best so far:\n",
      "...best so far:\n",
      "...best so far:\n",
      "...best so far:\n",
      "...best so far:\n",
      "...best so far:\n",
      "...best so far:\n",
      "...best so far:\n",
      "...best so far:\n",
      "...best so far:\n",
      "...best so far:\n",
      "...best so far:\n",
      "...best so far:\n",
      "...best so far:\n",
      "...best so far:\n",
      "...best so far:\n",
      "...best so far:\n",
      "...best so far:\n",
      "...best so far:\n",
      "...best so far:\n",
      "[array([0.99993753, 0.99989065]), 2.819604519573922e-08]\n"
     ]
    }
   ],
   "source": [
    "import numpy as np\n",
    "import math\n",
    "\n",
    "from nelder_mead import *\n",
    "\n",
    "def f(x):\n",
    "    return 100*(x[1]-x[0]**2)**2 + (1-x[0])**2\n",
    "\n",
    "x1 = np.array([-0.5, 0.5])\n",
    "\n",
    "print(nelder_mead(f, x1, step=1.5))"
   ]
  },
  {
   "cell_type": "code",
   "execution_count": null,
   "metadata": {},
   "outputs": [],
   "source": []
  },
  {
   "cell_type": "code",
   "execution_count": 73,
   "metadata": {},
   "outputs": [
    {
     "name": "stdout",
     "output_type": "stream",
     "text": [
      "Optimization terminated successfully.\n",
      "         Current function value: 0.000000\n",
      "         Iterations: 121\n",
      "         Function evaluations: 226\n"
     ]
    },
    {
     "data": {
      "image/png": "[encoded data removed]",
      "text/plain": [
       "<Figure size 432x288 with 1 Axes>"
      ]
     },
     "metadata": {
      "needs_background": "light"
     },
     "output_type": "display_data"
    }
   ],
   "source": [
    "import numpy as np\n",
    "from scipy.optimize import minimize\n",
    "import matplotlib.pyplot as plt\n",
    "\n",
    "\n",
    "def rosen(x):\n",
    "    return 100*(x[1]-x[0]**2)**2 +(1-x[0])**2\n",
    "\n",
    "def callbackF(x):\n",
    "    global xt, yt\n",
    "    xt.append(x[0])\n",
    "    yt.append(x[1])\n",
    "    \n",
    "    \n",
    "x0 = np.array([2,-2])\n",
    "xt, yt = [x0[0]],[x0[1]]\n",
    "res = minimize(rosen, x0, method='nelder-mead',\\\n",
    "               options = {'xtol': 1e-8, 'disp' : True}, callback=callbackF)\n",
    "\n",
    "\n",
    "\n",
    "x=np.linspace(-3,3,400)\n",
    "y=np.linspace(-3,3,400)\n",
    "X, Y =np.meshgrid(x,y)\n",
    "E=np.log10(100*(Y-X**2)**2 + (1.-X)**2)\n",
    "dmax=np.max(E)\n",
    "dmin=-3.\n",
    "levels=(dmax-dmin)*np.arange(20)/19.+dmin\n",
    "cmap=plt.cm.gist_heat\n",
    "con=plt.contourf(x, y, E, levels,cmap=cmap)  # to draw filled contours\n",
    "plt.xlabel('x')\n",
    "plt.ylabel('y')\n",
    "plt.plot(xt,yt,'k')\n",
    "plt.plot(xt,yt,'o',ms=7,mec='b',color='yellow')\n",
    "plt.xticks(np.linspace(-3,3,4))\n",
    "plt.yticks(np.linspace(-3,3,4))\n",
    "\n",
    "plt.plot(xt, yt)\n",
    "plt.xlim(-3,3)\n",
    "plt.show()\n"
   ]
  },
  {
   "cell_type": "code",
   "execution_count": null,
   "metadata": {},
   "outputs": [],
   "source": []
  },
  {
   "cell_type": "code",
   "execution_count": 5,
   "metadata": {},
   "outputs": [],
   "source": [
    "import numpy as np\n",
    "import matplotlib.pyplot as plt"
   ]
  },
  {
   "cell_type": "code",
   "execution_count": 10,
   "metadata": {},
   "outputs": [
    {
     "name": "stdout",
     "output_type": "stream",
     "text": [
      "7.364510696595629e-06\n",
      "25\n",
      "[-1.64480792  2.71038415]\n"
     ]
    }
   ],
   "source": [
    "def func(x): \n",
    "    x1 = x[0]\n",
    "    x2 = x[1]\n",
    "    \n",
    "    f = 100*(x2-x1**2)**2 + (1-x1)**2\n",
    "    # define your own function here # \n",
    "    return f\n",
    "\n",
    "\n",
    "def func_prime(x):\n",
    "    x= x[0]\n",
    "    y = x[1]\n",
    "    \n",
    "    dfdx = -400 *x * (y-x**2) - 2 * (1-x)\n",
    "    dfdy = 200*(y-x**2)\n",
    "    return np.array([dfdx, dfdy])\n",
    "\n",
    "\n",
    "def golden2D(x,dr,TOL):\n",
    "    R,err,loop=0.61803399,10.,-1\n",
    "    a= x-dr # initialize the range \n",
    "    b= x+dr\n",
    "    while(err > TOL): \n",
    "        loop += 1 \n",
    "        x1= b-R*(b-a) \n",
    "        x2= a+R*(b-a) \n",
    "        f1=func(x1)\n",
    "        f2=func(x2) \n",
    "        if(f2>f1): b=x2 \n",
    "        else: a=x1 \n",
    "        err=sum((a-b)**2) \n",
    "        err=np.sqrt(err)\n",
    "    xmin=a \n",
    "    return xmin,err,loop\n",
    "\n",
    "\n",
    "# main loop \n",
    "TOL=1.e-5 \n",
    "x=np.array([-2,2])\n",
    "dr=np.array([0.447, 0.894])\n",
    "xmin,err,loop=golden2D(x,dr,TOL)\n",
    "\n",
    "print(err)\n",
    "print(loop)\n",
    "print(xmin)"
   ]
  },
  {
   "cell_type": "code",
   "execution_count": null,
   "metadata": {},
   "outputs": [],
   "source": []
  },
  {
   "cell_type": "code",
   "execution_count": 24,
   "metadata": {},
   "outputs": [
    {
     "data": {
      "image/png": "[encoded data removed]",
      "text/plain": [
       "<Figure size 432x432 with 1 Axes>"
      ]
     },
     "metadata": {
      "needs_background": "light"
     },
     "output_type": "display_data"
    },
    {
     "data": {
      "image/png": "[encoded data removed]",
      "text/plain": [
       "<Figure size 432x432 with 1 Axes>"
      ]
     },
     "metadata": {
      "needs_background": "light"
     },
     "output_type": "display_data"
    }
   ],
   "source": [
    "def func(x):\n",
    "    return 100*(x[1] - x[0]**2)**2 + (1 - x[0])**2\n",
    "\n",
    "def golden2D(x,dr,TOL):\n",
    "    R, err, loop = 0.61803399, 10., -1\n",
    "    a = x - dr \n",
    "    b = x + dr\n",
    "    \n",
    "    while(err > TOL):\n",
    "        loop += 1\n",
    "        x1 = b - R*(b - a)\n",
    "        x2 = a + R*(b - a)\n",
    "        \n",
    "        f1=func(x1)\n",
    "        f2=func(x2)\n",
    "        \n",
    "        if(f2 > f1):\n",
    "                b = x2\n",
    "                \n",
    "        else:\n",
    "            a = x1\n",
    "            \n",
    "        err = sum((a - b)**2)\n",
    "        err = np.sqrt(err)\n",
    "        \n",
    "        xmin = a\n",
    "        \n",
    "    return xmin, err, loop\n",
    "\n",
    "def gradf(x):\n",
    "    dfdx = -400*x[0]*(x[1] - x[0]**2) - 2*(1 - x[0])\n",
    "    dfdy = 200*(x[1] - x[0]**2)\n",
    "    \n",
    "    return np.array([dfdx, dfdy])\n",
    "\n",
    "#==========================================================\n",
    "\n",
    "TOL = 1.e-5\n",
    "x = np.array([-2, 2])\n",
    "error = 1\n",
    "\n",
    "res = [x]\n",
    "\n",
    "i = 0\n",
    "while error > TOL:\n",
    "    dr = -gradf(x)/np.sqrt(np.sum(gradf(x)**2))\n",
    "    xmin, err, loop = golden2D(x, dr, TOL)\n",
    "    error = np.sqrt(np.sum((xmin - x)**2))\n",
    "    \n",
    "    x = xmin\n",
    "    res.append(x)\n",
    "    \n",
    "    i += 1\n",
    "res = np.array(res)\n",
    "\n",
    "\n",
    "#==========================================================\n",
    "\n",
    "fig = plt.figure(1,figsize=(6,6))\n",
    "x = np.linspace(-2, 2, 1000)\n",
    "y = np.linspace(-3, 3, 1000)\n",
    "\n",
    "X, Y = np.meshgrid(x, y)\n",
    "E = np.log10(100*(Y - X**2)**2 + (1. - X)**2)\n",
    "\n",
    "dmax = np.max(E)\n",
    "dmin = -3.\n",
    "\n",
    "levels = (dmax - dmin)*np.arange(20)/19. + dmin\n",
    "cmap = plt.cm.gist_heat\n",
    "con = plt.contourf(x, y, E, levels,cmap = cmap) \n",
    "plt.xlabel('x')\n",
    "plt.ylabel('y')\n",
    "\n",
    "plt.plot(res[:, 0], res[:, 1])\n",
    "plt.plot(res[:, 0], res[:, 1], 'b.')\n",
    "plt.show()\n",
    "\n",
    "#===============================================\n",
    "\n",
    "fig = plt.figure(2, figsize=(6,6))\n",
    "x = np.linspace(-0.40, -0.20, 1000)\n",
    "y = np.linspace(0, 0.2, 1000)\n",
    "\n",
    "X, Y = np.meshgrid(x, y)\n",
    "E = np.log10(100*(Y - X**2)**2 + (1. - X)**2)\n",
    "\n",
    "dmax = np.max(E)\n",
    "dmin = -3.\n",
    "\n",
    "levels = (dmax - dmin)*np.arange(20)/19. + dmin\n",
    "cmap = plt.cm.gist_heat\n",
    "con = plt.contourf(x, y, E, levels,cmap = cmap)  \n",
    "\n",
    "plt.xlabel('x')\n",
    "plt.ylabel('y')\n",
    "\n",
    "plt.xlim(-0.40, -0.20)\n",
    "plt.ylim(0, 0.2)\n",
    "\n",
    "plt.plot(res[:, 0], res[:, 1])\n",
    "plt.plot(res[:, 0], res[:, 1], 'b.')\n",
    "plt.show()"
   ]
  },
  {
   "cell_type": "code",
   "execution_count": null,
   "metadata": {},
   "outputs": [],
   "source": []
  },
  {
   "cell_type": "code",
   "execution_count": null,
   "metadata": {},
   "outputs": [],
   "source": []
  },
  {
   "cell_type": "markdown",
   "metadata": {},
   "source": [
    "powell's Method"
   ]
  },
  {
   "cell_type": "code",
   "execution_count": 68,
   "metadata": {},
   "outputs": [
    {
     "data": {
      "text/plain": [
       "Text(0, 0.5, 'y')"
      ]
     },
     "execution_count": 68,
     "metadata": {},
     "output_type": "execute_result"
    },
    {
     "data": {
      "image/png": "[encoded data removed]",
      "text/plain": [
       "<Figure size 432x288 with 1 Axes>"
      ]
     },
     "metadata": {
      "needs_background": "light"
     },
     "output_type": "display_data"
    }
   ],
   "source": [
    "def func(x):\n",
    "    f = 2*(x[0]**2) + x[1]**2 - 2*x[0]*x[1] + abs(x[0] - 3) + abs(x[1] - 2)\n",
    "    return f\n",
    "\n",
    "def golden2D(x,dr,TOL):\n",
    "    R, err, loop = 0.61803399, 10., -1\n",
    "    a = x - dr # initialize the range\n",
    "    b = x + dr\n",
    "    \n",
    "    while(err > TOL):\n",
    "        loop += 1\n",
    "        x1 = b - R*(b - a)\n",
    "        x2 = a + R*(b - a)\n",
    "        \n",
    "        f1=func(x1)\n",
    "        f2=func(x2)\n",
    "        \n",
    "        if(f2 > f1):\n",
    "                b = x2\n",
    "                \n",
    "        else:\n",
    "            a = x1\n",
    "            \n",
    "        err = sum((a - b)**2)\n",
    "        err = np.sqrt(err)\n",
    "        \n",
    "        xmin = a\n",
    "        \n",
    "    return xmin\n",
    "\n",
    "x0 = np.array([0, 0])\n",
    "error = 1\n",
    "TOL = 10**-5\n",
    "\n",
    "x = [x0]\n",
    "\n",
    "d0 = np.array([1, 0])\n",
    "d1 = np.array([0, 1])\n",
    "\n",
    "while error > TOL:\n",
    "    dr = d0\n",
    "    x1 = golden2D(x0, dr, TOL)\n",
    "    x.append(x1)\n",
    "    \n",
    "    dr = d1\n",
    "    x2 = golden2D(x1, dr, TOL)\n",
    "    x.append(x2)\n",
    "    \n",
    "    d0 = d1\n",
    "    d1 = (x2 - x0)/np.sum((x2 - x0)**2)\n",
    "    \n",
    "    dr = d1\n",
    "    x3 = golden2D(x2, dr, TOL)\n",
    "    x.append(x3)\n",
    "    \n",
    "    x0 = x3\n",
    "    error = np.sum((x3 - x2)**2)\n",
    "    \n",
    "x = np.array(x)\n",
    "\n",
    "\n",
    "plt.xlim(-0.5, 2)\n",
    "plt.ylim(-0.5, 2)\n",
    "plt.plot(x[:, 0], x[:, 1])\n",
    "plt.plot(x[:, 0], x[:, 1], '.')\n",
    "\n",
    "x = np.linspace(-0.5, 2.0, 1000)\n",
    "y = np.linspace(-0.5, 2.0, 1000)\n",
    "\n",
    "X, Y = np.meshgrid(x, y)\n",
    "E = (2*X**2 + Y**2 - 2*X*Y + abs(X - 3) + abs(Y - 3))\n",
    "\n",
    "dmax = np.max(E)\n",
    "dmin = -3.\n",
    "\n",
    "levels = 40\n",
    "# (dmax - dmin)*np.arange(10)/100. + dmin\n",
    "cmap = plt.cm.BuPu\n",
    "con = plt.contourf(x, y, E, levels,cmap = cmap)  # to draw filled contours\n",
    "\n",
    "plt.xlabel('x')\n",
    "plt.ylabel('y')"
   ]
  },
  {
   "cell_type": "code",
   "execution_count": null,
   "metadata": {},
   "outputs": [],
   "source": []
  },
  {
   "cell_type": "markdown",
   "metadata": {},
   "source": [
    "교수님 powell's method 코드 \n"
   ]
  },
  {
   "cell_type": "code",
   "execution_count": 50,
   "metadata": {},
   "outputs": [
    {
     "ename": "ValueError",
     "evalue": "not enough values to unpack (expected 3, got 2)",
     "output_type": "error",
     "traceback": [
      "\u001b[1;31m---------------------------------------------------------------------------\u001b[0m",
      "\u001b[1;31mValueError\u001b[0m                                Traceback (most recent call last)",
      "\u001b[1;32m<ipython-input-50-5957aec70f64>\u001b[0m in \u001b[0;36m<module>\u001b[1;34m\u001b[0m\n\u001b[0;32m     11\u001b[0m     \u001b[0miter2\u001b[0m \u001b[1;33m+=\u001b[0m \u001b[1;36m1\u001b[0m\u001b[1;33m\u001b[0m\u001b[1;33m\u001b[0m\u001b[0m\n\u001b[0;32m     12\u001b[0m     \u001b[0mP0\u001b[0m \u001b[1;33m=\u001b[0m \u001b[0mP\u001b[0m\u001b[1;33m\u001b[0m\u001b[1;33m\u001b[0m\u001b[0m\n\u001b[1;32m---> 13\u001b[1;33m     \u001b[0mP\u001b[0m\u001b[1;33m,\u001b[0m \u001b[0merr\u001b[0m\u001b[1;33m,\u001b[0m\u001b[0mloop\u001b[0m \u001b[1;33m=\u001b[0m \u001b[0mgolden2D\u001b[0m\u001b[1;33m(\u001b[0m\u001b[0mP\u001b[0m\u001b[1;33m,\u001b[0m \u001b[0mu1\u001b[0m\u001b[1;33m,\u001b[0m \u001b[0mTOL\u001b[0m\u001b[1;33m)\u001b[0m\u001b[1;33m\u001b[0m\u001b[1;33m\u001b[0m\u001b[0m\n\u001b[0m\u001b[0;32m     14\u001b[0m     \u001b[0mxt\u001b[0m\u001b[1;33m.\u001b[0m\u001b[0mappend\u001b[0m\u001b[1;33m(\u001b[0m\u001b[0mP\u001b[0m\u001b[1;33m[\u001b[0m\u001b[1;36m0\u001b[0m\u001b[1;33m]\u001b[0m\u001b[1;33m)\u001b[0m\u001b[1;33m\u001b[0m\u001b[1;33m\u001b[0m\u001b[0m\n\u001b[0;32m     15\u001b[0m     \u001b[0myt\u001b[0m\u001b[1;33m.\u001b[0m\u001b[0mappend\u001b[0m\u001b[1;33m(\u001b[0m\u001b[0mP\u001b[0m\u001b[1;33m[\u001b[0m\u001b[1;36m1\u001b[0m\u001b[1;33m]\u001b[0m\u001b[1;33m)\u001b[0m\u001b[1;33m\u001b[0m\u001b[1;33m\u001b[0m\u001b[0m\n",
      "\u001b[1;31mValueError\u001b[0m: not enough values to unpack (expected 3, got 2)"
     ]
    }
   ],
   "source": [
    "TOL = 1.e-5\n",
    "P = np.array([0,0])\n",
    "\n",
    "u1 = np.array([1,0])\n",
    "u2 = np.array([0,1])\n",
    "\n",
    "iter2 = 0\n",
    "xt,yt = [P[0]], [P[1]]\n",
    "\n",
    "while True:\n",
    "    iter2 += 1\n",
    "    P0 = P\n",
    "    P, err,loop = golden2D(P, u1, TOL)\n",
    "    xt.append(P[0])\n",
    "    yt.append(P[1])\n",
    "    P,err,loop = golden2D(P, u2, TOL)\n",
    "    xt.append(P[0])\n",
    "    yt.append(P[1])\n",
    "    \n",
    "    u1= u2\n",
    "    \n",
    "    u2 = P-P0\n",
    "    amp = np.sqrt(sum(u2**2))\n",
    "    \n",
    "    if(amp<TOL): break\n",
    "    u2 = u2/amp\n",
    "    \n",
    "    P,err,loop = golden2D(P, u2, TOL)\n",
    "    print(P, u2, u1)\n",
    "    xt.append(P[0])\n",
    "    yt.append(P[1])\n",
    "    \n",
    "    \n",
    "print(iter2, 'iteration')"
   ]
  },
  {
   "cell_type": "code",
   "execution_count": null,
   "metadata": {},
   "outputs": [],
   "source": []
  },
  {
   "cell_type": "code",
   "execution_count": null,
   "metadata": {},
   "outputs": [],
   "source": []
  },
  {
   "cell_type": "code",
   "execution_count": null,
   "metadata": {},
   "outputs": [],
   "source": [
    "from scipy.optimize import minimize \n",
    "\n",
    "def rosen(x): \n",
    "    return 100*(x[1]-x[0]**2)**2+(1-x[0])**2\n",
    "def callbackF(x): \n",
    "    global xt,yt xt.append(x[0]) yt.append(x[1])\n",
    "x0=np.array([-2,2]) xt,yt=[x0[0]],[x0[1]] res = minimize(rosen, x0, method='Powell',\\ options={'xtol': 1e-5, 'disp': True}, \\ callback=callbackF)\n",
    "plt.plot(xt,yt)"
   ]
  },
  {
   "cell_type": "code",
   "execution_count": null,
   "metadata": {},
   "outputs": [],
   "source": []
  },
  {
   "cell_type": "code",
   "execution_count": null,
   "metadata": {},
   "outputs": [],
   "source": []
  },
  {
   "cell_type": "code",
   "execution_count": null,
   "metadata": {},
   "outputs": [],
   "source": []
  },
  {
   "cell_type": "code",
   "execution_count": 93,
   "metadata": {},
   "outputs": [
    {
     "data": {
      "text/plain": [
       "Text(0, 0.5, 'y')"
      ]
     },
     "execution_count": 93,
     "metadata": {},
     "output_type": "execute_result"
    },
    {
     "data": {
      "image/png": "[encoded data removed]",
      "text/plain": [
       "<Figure size 432x288 with 1 Axes>"
      ]
     },
     "metadata": {
      "needs_background": "light"
     },
     "output_type": "display_data"
    }
   ],
   "source": [
    "'''\n",
    "def func(x):\n",
    "    x = x[0]\n",
    "    y = x[1]\n",
    "    f = 100*(y-x**2)**2 + (1-x)**2\n",
    "    \n",
    "    return f\n",
    "\n",
    "'''\n",
    "def func(x):\n",
    "    f = 100*(x[1]-x[0]**2)**2 + (1-x[0])**2\n",
    "    return f\n",
    "\n",
    "\n",
    "def golden2D(x,dr,TOL):\n",
    "    R, err, loop = 0.61803399, 10., -1\n",
    "    a = x - dr # initialize the range\n",
    "    b = x + dr\n",
    "    \n",
    "    while(err > TOL):\n",
    "        loop += 1\n",
    "        x1 = b - R*(b - a)\n",
    "        x2 = a + R*(b - a)\n",
    "        \n",
    "        f1=func(x1)\n",
    "        f2=func(x2)\n",
    "        \n",
    "        if(f2 > f1):\n",
    "                b = x2\n",
    "                \n",
    "        else:\n",
    "            a = x1\n",
    "            \n",
    "        err = sum((a - b)**2)\n",
    "        err = np.sqrt(err)\n",
    "        \n",
    "        xmin = a\n",
    "        \n",
    "    return xmin\n",
    "\n",
    "\n",
    "\n",
    "\n",
    "x0 = np.array([-2,2])\n",
    "error = 1\n",
    "TOL = 10**-5\n",
    "\n",
    "x = [x0]\n",
    "\n",
    "d0 = np.array([1, 0])\n",
    "d1 = np.array([0, 1])\n",
    "\n",
    "while error > TOL:\n",
    "    dr = d0\n",
    "    x1 = golden2D(x0, dr, TOL)\n",
    "    x.append(x1)\n",
    "    \n",
    "    dr = d1\n",
    "    x2 = golden2D(x1, dr, TOL)\n",
    "    x.append(x2)\n",
    "    \n",
    "    d0 = d1\n",
    "    d1 = (x2 - x0)/np.sum((x2 - x0)**2)\n",
    "    \n",
    "    dr = d1\n",
    "    x3 = golden2D(x2, dr, TOL)\n",
    "    x.append(x3)\n",
    "    \n",
    "    x0 = x3\n",
    "    error = np.sum((x3 - x2)**2)\n",
    "    \n",
    "x = np.array(x)\n",
    "\n",
    "\n",
    "plt.plot(x[:, 0], x[:, 1])\n",
    "plt.plot(x[:, 0], x[:, 1], '.')\n",
    "\n",
    "x = np.linspace(-2, 2.0, 1000)\n",
    "y = np.linspace(-1, 3.0, 1000)\n",
    "\n",
    "X, Y = np.meshgrid(x, y)\n",
    "E = (100*(Y-X**2)**2 + (1-X)**2)\n",
    "\n",
    "dmax = np.max(E)\n",
    "dmin = -3.\n",
    "\n",
    "levels = 12\n",
    "cmap = plt.cm.BuPu\n",
    "con = plt.contourf(x, y, E, levels,cmap = cmap)  # to draw filled contours\n",
    "\n",
    "plt.xlabel('x')\n",
    "plt.ylabel('y')"
   ]
  },
  {
   "cell_type": "code",
   "execution_count": null,
   "metadata": {},
   "outputs": [],
   "source": []
  },
  {
   "cell_type": "code",
   "execution_count": 2,
   "metadata": {},
   "outputs": [],
   "source": [
    "import numpy as np\n",
    "import matplotlib.pyplot as plt"
   ]
  },
  {
   "cell_type": "code",
   "execution_count": 3,
   "metadata": {},
   "outputs": [
    {
     "data": {
      "image/png": "[encoded data removed]",
      "text/plain": [
       "<Figure size 504x504 with 1 Axes>"
      ]
     },
     "metadata": {
      "needs_background": "light"
     },
     "output_type": "display_data"
    },
    {
     "name": "stdout",
     "output_type": "stream",
     "text": [
      "0.9999954080527111 0.9999906557643715\n"
     ]
    }
   ],
   "source": [
    "def func(x):\n",
    "    return 100*(x[1]-x[0]**2)**2+(1-x[0])**2\n",
    "\n",
    "def golden2D(x,dr,TOL):\n",
    "    R,err,loop=0.61803399,10.,-1\n",
    "    a= x-dr # initialize the range\n",
    "    b= x+dr\n",
    "    while(err > TOL):\n",
    "        loop += 1\n",
    "        x1= b-R*(b-a)\n",
    "        x2= a+R*(b-a)\n",
    "        f1=func(x1)\n",
    "        f2=func(x2)\n",
    "        if(f2>f1): b=x2\n",
    "        else: a=x1\n",
    "        err=sum((a-b)**2)\n",
    "        err=np.sqrt(err)\n",
    "    xmin=a\n",
    "    return xmin,err,loop\n",
    "\n",
    "TOL=1e-5\n",
    "P=np.array([-2,2])\n",
    "\n",
    "u1=np.array([1,0])\n",
    "u2=np.array([0,1])\n",
    "\n",
    "iter2=0\n",
    "xt,yt=[P[0]],[P[1]]\n",
    "while True:\n",
    "    iter2+=1\n",
    "    P0=P\n",
    "    P,err,loop=golden2D(P,u1,TOL)\n",
    "    xt.append(P[0])\n",
    "    yt.append(P[1])\n",
    "    P,err,loop=golden2D(P,u2,TOL)\n",
    "    xt.append(P[0])\n",
    "    yt.append(P[1])\n",
    "    \n",
    "    u1=u2\n",
    "    u2=P-P0\n",
    "    amp=np.sqrt(sum(u2**2))\n",
    "    if(amp<TOL):break\n",
    "    P,err,loop=golden2D(P,u2/amp,TOL)\n",
    "    xt.append(P[0])\n",
    "    yt.append(P[1])\n",
    "\n",
    "    \n",
    "fig=plt.figure(figsize=(7,7))\n",
    "plt.subplots_adjust(left=0.15,right=0.96,top=0.95,bottom=0.15,wspace=0.2,hspace=0.1)\n",
    "\n",
    "x=np.linspace(-2,2,400)\n",
    "y=np.linspace(-1,3,400)\n",
    "X,Y=np.meshgrid(x,y)\n",
    "E=np.log(100*(Y-X**2)**2+(1-X)**2)\n",
    "dmax=np.max(E)\n",
    "dmin=np.min(E)\n",
    "levels=(dmax-dmin)*np.arange(50)/49.+dmin\n",
    "#cmap=plt.cm.gist_heat\n",
    "cmap=plt.cm.BuPu\n",
    "con=plt.contourf(x,y,E,levels,cmap=cmap)\n",
    "plt.xticks(np.linspace(-2,2,5))\n",
    "plt.yticks(np.linspace(-1,3,5))\n",
    "plt.xlim(-2,2)\n",
    "plt.xlabel('x')\n",
    "plt.ylabel('y')\n",
    "plt.plot(xt,yt,'b')\n",
    "plt.scatter(xt,yt,color='yellow',edgecolors='k',alpha=1)\n",
    "plt.show()\n",
    "print(xt[-1],yt[-1])"
   ]
  },
  {
   "cell_type": "code",
   "execution_count": null,
   "metadata": {},
   "outputs": [],
   "source": []
  },
  {
   "cell_type": "code",
   "execution_count": null,
   "metadata": {},
   "outputs": [],
   "source": []
  },
  {
   "cell_type": "code",
   "execution_count": 37,
   "metadata": {},
   "outputs": [
    {
     "name": "stdout",
     "output_type": "stream",
     "text": [
      "[0.99999838 0.99999838] 1\n",
      "[0.99999838 1.4999949 ] 2\n",
      "[1.00000015 1.49999161] 3\n"
     ]
    },
    {
     "data": {
      "image/png": "[encoded data removed]",
      "text/plain": [
       "<Figure size 432x432 with 1 Axes>"
      ]
     },
     "metadata": {
      "needs_background": "light"
     },
     "output_type": "display_data"
    }
   ],
   "source": [
    "def func(x):\n",
    "    f = 2*(x[0]**2) + x[1]**2 - 2*x[0]*x[1] + abs(x[0] - 3) + abs(x[1] - 2)\n",
    "    return f\n",
    "\n",
    "def gradf(x):\n",
    "    df = np.array([4*x[0] - 2*x[1] - 1, 2*x[1] - 2*x[0] - 1])\n",
    "    return df\n",
    "\n",
    "def golden2D(x,dr,TOL):\n",
    "    R, err, loop = 0.61803399, 10., -1\n",
    "    a = x - 2*dr # initialize the range\n",
    "    b = x + 2*dr\n",
    "    \n",
    "    while(err > TOL):\n",
    "        loop += 1\n",
    "        x1 = b - R*(b - a)\n",
    "        x2 = a + R*(b - a)\n",
    "        \n",
    "        f1=func(x1)\n",
    "        f2=func(x2)\n",
    "        \n",
    "        if(f2 > f1):\n",
    "                b = x2\n",
    "                \n",
    "        else:\n",
    "            a = x1\n",
    "            \n",
    "        err = sum((a - b)**2)\n",
    "        err = np.sqrt(err)\n",
    "        \n",
    "        xmin = a\n",
    "        \n",
    "    return xmin\n",
    "\n",
    "x0 = np.array([0, 0])\n",
    "error = 1\n",
    "TOL = 10**-5\n",
    "\n",
    "res = [x0]\n",
    "\n",
    "dr0 = -gradf(x0)\n",
    "\n",
    "i = 0\n",
    "while error > TOL:\n",
    "    x1 = golden2D(x0, dr0, TOL)\n",
    "\n",
    "    lam = np.sum(gradf(x1)**2)/np.sum(gradf(x0)**2)\n",
    "    dr1 = -gradf(x1) + lam*dr0\n",
    "\n",
    "    error = np.sum((x1 - x0)**2)\n",
    "    x0 = x1\n",
    "    dr0 = dr1\n",
    "    \n",
    "    res.append(x1)\n",
    "    \n",
    "    i += 1\n",
    "    print(x1, i)\n",
    "    \n",
    "res = np.array(res)\n",
    "\n",
    "\n",
    "fig = plt.figure(2, figsize=(6,6))\n",
    "x = np.linspace(0, 2.0, 1000)\n",
    "y = np.linspace(0, 2.0, 1000)\n",
    "\n",
    "X, Y = np.meshgrid(x, y)\n",
    "\n",
    "E=np.log(100*(Y-X**2)**2+(1-X)**2)\n",
    "dmax=np.max(E)\n",
    "dmin=np.min(E)\n",
    "levels=(dmax-dmin)*np.arange(50)/49.+dmin\n",
    "cmap=plt.cm.BuPu\n",
    "con=plt.contourf(x,y,E,levels,cmap=cmap)\n",
    "\n",
    "\n",
    "plt.xlabel('x')\n",
    "plt.ylabel('y')\n",
    "\n",
    "plt.plot(res[:, 0], res[:,1], color = 'blue')\n",
    "plt.scatter(res[:, 0], res[:,1],color='yellow',edgecolors='k',alpha=1)\n",
    "\n",
    "plt.xlim(0,2)\n",
    "plt.ylim(0,2)\n",
    "plt.show()"
   ]
  },
  {
   "cell_type": "code",
   "execution_count": null,
   "metadata": {},
   "outputs": [],
   "source": []
  },
  {
   "cell_type": "code",
   "execution_count": 33,
   "metadata": {},
   "outputs": [
    {
     "name": "stdout",
     "output_type": "stream",
     "text": [
      "[0.50872019 0.24936433] 1\n",
      "[0.50615733 0.25456618] 2\n",
      "[0.62828004 0.37906145] 3\n",
      "[0.76884922 0.57503121] 4\n",
      "[0.99655988 0.99291432] 5\n",
      "[0.99649058 0.99296504] 6\n"
     ]
    },
    {
     "data": {
      "image/png": "[encoded data removed]",
      "text/plain": [
       "<Figure size 432x432 with 1 Axes>"
      ]
     },
     "metadata": {
      "needs_background": "light"
     },
     "output_type": "display_data"
    }
   ],
   "source": [
    "def func(x):\n",
    "    f = 100*(x[1] - x[0]**2)**2 + (1 - x[0])**2\n",
    "    return f\n",
    "\n",
    "def gradf(x):\n",
    "    df = np.array([-400*(x[1] - x[0]**2)*(x[0]) - 2*(1 - x[0]), 200*(x[1] - x[0]**2)])\n",
    "    return df\n",
    "\n",
    "def golden2D(x,dr,TOL):\n",
    "    R, err, loop = 0.61803399, 10., -1\n",
    "    a = x - 2*dr # initialize the range\n",
    "    b = x + 2*dr\n",
    "    \n",
    "    while(err > TOL):\n",
    "        loop += 1\n",
    "        x1 = b - R*(b - a)\n",
    "        x2 = a + R*(b - a)\n",
    "        \n",
    "        f1=func(x1)\n",
    "        f2=func(x2)\n",
    "        \n",
    "        if(f2 > f1):\n",
    "                b = x2\n",
    "                \n",
    "        else:\n",
    "            a = x1\n",
    "            \n",
    "        err = sum((a - b)**2)\n",
    "        err = np.sqrt(err)\n",
    "        \n",
    "        xmin = a\n",
    "        \n",
    "    return xmin\n",
    "\n",
    "x0 = np.array([-1, -0.5])\n",
    "error = 1\n",
    "TOL = 10**-5\n",
    "\n",
    "res = [x0]\n",
    "\n",
    "dr0 = -gradf(x0)\n",
    "\n",
    "i = 0\n",
    "while error > TOL:\n",
    "    x1 = golden2D(x0, dr0, TOL)\n",
    "\n",
    "    lam = np.sum(gradf(x1)**2)/np.sum(gradf(x0)**2)\n",
    "    dr1 = -gradf(x1) + lam*dr0\n",
    "\n",
    "    error = np.sum((x1 - x0)**2)\n",
    "    x0 = x1\n",
    "    dr0 = dr1\n",
    "    \n",
    "    res.append(x1)\n",
    "    \n",
    "    i += 1\n",
    "    print(x1, i)\n",
    "    \n",
    "res = np.array(res)\n",
    "\n",
    "\n",
    "fig = plt.figure(2, figsize=(6,6))\n",
    "x = np.linspace(-2, 2.0, 1000)\n",
    "y = np.linspace(-2, 6.0, 1000)\n",
    "\n",
    "X, Y = np.meshgrid(x, y)\n",
    "\n",
    "E=np.log(100*(Y-X**2)**2+(1-X)**2)\n",
    "dmax=np.max(E)\n",
    "dmin=np.min(E)\n",
    "levels=(dmax-dmin)*np.arange(50)/49.+dmin\n",
    "cmap=plt.cm.BuPu\n",
    "con=plt.contourf(x,y,E,levels,cmap=cmap)\n",
    "\n",
    "\n",
    "plt.xlabel('x')\n",
    "plt.ylabel('y')\n",
    "\n",
    "plt.plot(res[:, 0], res[:,1], color = 'blue')\n",
    "plt.scatter(res[:, 0], res[:,1],color='yellow',edgecolors='k',alpha=1)\n",
    "\n",
    "\n",
    "plt.xlim(-2,2)\n",
    "plt.ylim(-1,3)\n",
    "plt.show()"
   ]
  },
  {
   "cell_type": "code",
   "execution_count": null,
   "metadata": {},
   "outputs": [],
   "source": []
  },
  {
   "cell_type": "code",
   "execution_count": null,
   "metadata": {},
   "outputs": [],
   "source": []
  },
  {
   "cell_type": "code",
   "execution_count": null,
   "metadata": {},
   "outputs": [],
   "source": []
  },
  {
   "cell_type": "code",
   "execution_count": null,
   "metadata": {},
   "outputs": [],
   "source": []
  },
  {
   "cell_type": "code",
   "execution_count": null,
   "metadata": {},
   "outputs": [],
   "source": []
  },
  {
   "cell_type": "code",
   "execution_count": null,
   "metadata": {},
   "outputs": [],
   "source": []
  }
 ],
 "metadata": {
  "kernelspec": {
   "display_name": "Python 3",
   "language": "python",
   "name": "python3"
  },
  "language_info": {
   "codemirror_mode": {
    "name": "ipython",
    "version": 3
   },
   "file_extension": ".py",
   "mimetype": "text/x-python",
   "name": "python",
   "nbconvert_exporter": "python",
   "pygments_lexer": "ipython3",
   "version": "3.7.3"
  }
 },
 "nbformat": 4,
 "nbformat_minor": 2
}
