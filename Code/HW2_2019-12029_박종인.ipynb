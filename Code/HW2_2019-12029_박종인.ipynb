{
 "cells": [
  {
   "cell_type": "markdown",
   "metadata": {},
   "source": [
    "# Problem Set #2"
   ]
  },
  {
   "cell_type": "markdown",
   "metadata": {},
   "source": [
    "## Problem 1 "
   ]
  },
  {
   "cell_type": "code",
   "execution_count": 4,
   "metadata": {},
   "outputs": [],
   "source": [
    "import numpy as np\n",
    "import matplotlib.pyplot as plt\n",
    "import pandas as pd\n"
   ]
  },
  {
   "cell_type": "markdown",
   "metadata": {},
   "source": [
    "\n",
    "\n"
   ]
  },
  {
   "cell_type": "markdown",
   "metadata": {},
   "source": [
    "floating point types에 따라서 machine epsilon 이 달라질 수 있는데 이는 numpy.finfo()함수로 구할 수 있다. "
   ]
  },
  {
   "cell_type": "code",
   "execution_count": 7,
   "metadata": {},
   "outputs": [
    {
     "name": "stdout",
     "output_type": "stream",
     "text": [
      "datatype = float 일 때 machine epsilon = 2.220446049250313e-16 이다.\n",
      "datatype = float16 일 때 machine epsilon = 0.0009765625 이다.\n",
      "datatype = float32 일 때 machine epsilon = 1.1920928955078125e-07 이다.\n"
     ]
    }
   ],
   "source": [
    "print(\"datatype = float 일 때 machine epsilon = {} 이다.\".format(np.finfo(np.float).eps))\n",
    "print(\"datatype = float16 일 때 machine epsilon = {} 이다.\".format(np.finfo(np.float16).eps))\n",
    "print(\"datatype = float32 일 때 machine epsilon = {} 이다.\".format(np.finfo(np.float32).eps))\n"
   ]
  },
  {
   "cell_type": "markdown",
   "metadata": {},
   "source": [
    "혹은 아래와 같은 프로그램으로 float type 에 대해서 machine epsilon을 직접 계산해볼 수도 있다."
   ]
  },
  {
   "cell_type": "code",
   "execution_count": 8,
   "metadata": {},
   "outputs": [
    {
     "name": "stdout",
     "output_type": "stream",
     "text": [
      "Machine Epsilon is 2.220446049250313e-16\n"
     ]
    }
   ],
   "source": [
    "n = 0\n",
    "\n",
    "while (1 + 2**n) != 1:\n",
    "    n = n - 1\n",
    "\n",
    "epsilon = 2**(n+1)\n",
    "print(\"Machine Epsilon is\", epsilon)"
   ]
  },
  {
   "cell_type": "markdown",
   "metadata": {},
   "source": [
    "## Problem 2"
   ]
  },
  {
   "cell_type": "markdown",
   "metadata": {},
   "source": [
    "### 2-(a)"
   ]
  },
  {
   "cell_type": "code",
   "execution_count": 136,
   "metadata": {},
   "outputs": [
    {
     "data": {
      "text/plain": [
       "<function matplotlib.pyplot.show(*args, **kw)>"
      ]
     },
     "execution_count": 136,
     "metadata": {},
     "output_type": "execute_result"
    },
    {
     "data": {
      "image/png": "[encoded data removed]",
      "text/plain": [
       "<Figure size 432x288 with 1 Axes>"
      ]
     },
     "metadata": {
      "needs_background": "light"
     },
     "output_type": "display_data"
    }
   ],
   "source": [
    "def golden(n):\n",
    "    if n == 0:\n",
    "        return 1\n",
    "    elif n == 1:\n",
    "        return 0.5*(5**0.5-1)\n",
    "    \n",
    "    else:\n",
    "        a = golden(1)*golden(n-1)\n",
    "    return a    \n",
    "\n",
    "a = np.zeros(51)\n",
    "b = np.linspace(0, 50, 51)\n",
    "for i in range(0, 51):\n",
    "    a[i] = golden(i)\n",
    "plt.xlabel('n', fontsize = 20)\n",
    "plt.ylabel('$ \\phi^{n} $', fontsize = 20)\n",
    "plt.plot(b,a, 'p')\n",
    "plt.yscale('log')\n",
    "plt.show"
   ]
  },
  {
   "cell_type": "markdown",
   "metadata": {},
   "source": [
    "### 2-(b)\n"
   ]
  },
  {
   "cell_type": "markdown",
   "metadata": {},
   "source": [
    "$\\phi = \\frac{\\sqrt{5}-1}{2}$ 은 방정식 $\\phi^{2} + \\phi - 1= 0$ 의 근이다. "
   ]
  },
  {
   "cell_type": "markdown",
   "metadata": {},
   "source": [
    "$\\phi^{2}=1-\\phi^{1}$ 의 의 양변에 $\\phi^{n-1}$을 곱하면"
   ]
  },
  {
   "cell_type": "markdown",
   "metadata": {},
   "source": [
    "Equation (2)인 $\\phi^{n+1}=\\phi^{n-1}-\\phi^{n}$ 이 얻어진다."
   ]
  },
  {
   "cell_type": "markdown",
   "metadata": {},
   "source": [
    "### 2-(c)"
   ]
  },
  {
   "cell_type": "code",
   "execution_count": 137,
   "metadata": {},
   "outputs": [
    {
     "data": {
      "image/png": "[encoded data removed]",
      "text/plain": [
       "<Figure size 432x288 with 1 Axes>"
      ]
     },
     "metadata": {
      "needs_background": "light"
     },
     "output_type": "display_data"
    }
   ],
   "source": [
    "phi_involution = np.zeros(51)\n",
    "phi_involution[0] = 1\n",
    "phi_involution[1] = 0.5*(5**0.5-1)\n",
    "\n",
    "for i in range(2, 51):\n",
    "    phi_involution[i] = phi_involution[i-2] - phi_involution[i-1]\n",
    "\n",
    "    \n",
    "def golden(n):\n",
    "    if n == 0:\n",
    "        return 1\n",
    "    elif n == 1:\n",
    "        return 0.5*(5**0.5-1)\n",
    "    \n",
    "    else:\n",
    "        a = golden(1)*golden(n-1)\n",
    "    return a    \n",
    "\n",
    "a = np.zeros(51)\n",
    "b = np.linspace(0, 50, 51)\n",
    "for i in range(0, 51):\n",
    "    a[i] = golden(i)\n",
    "    \n",
    "    \n",
    "plt.xlabel('n', fontsize = 20)\n",
    "plt.ylabel('$ \\phi^{n} $', fontsize = 20)\n",
    "plt.plot(b, phi_involution, 'ro', label = '2-(c)')\n",
    "plt.plot(b, a, 'p', label = '2-(a)')\n",
    "plt.legend(loc=1, numpoints=2)\n",
    "plt.yscale('log')\n",
    "plt.show()"
   ]
  },
  {
   "cell_type": "markdown",
   "metadata": {},
   "source": [
    "### 2-(d)"
   ]
  },
  {
   "cell_type": "markdown",
   "metadata": {},
   "source": [
    "$\\phi^{n}$ 의 오차를 $\\epsilon_{n}$ 이라고 하자. 그리고 $\\widehat{\\phi^{n}} = \\phi^{n} + \\epsilon_{n}$으로 두자. 이를 Equation (2)인 $\\phi^{n+1}=\\phi^{n-1}-\\phi^{n}$ 에 대입하면 아래와 같은 식을 얻을 수 있다. <br>\n",
    " $\\phi^{n+1} + \\epsilon_{n+1} = \\phi^{n-1}+\\epsilon_{n-1} -(\\phi^{n}+\\epsilon_{n})  $"
   ]
  },
  {
   "cell_type": "markdown",
   "metadata": {},
   "source": [
    "즉, $\\epsilon_{n+1} = \\epsilon_{n-1} - \\epsilon_{n}$ 즉, 오차는 왼쪽에서 구한 식을 만족한다. 계산의 편의성을 위해서 $\\epsilon_{n} = Cr^{n}$이라고 오차의 크기는 공비 r에 따라 n제곱에 비례해서 커진다고 가정해보자."
   ]
  },
  {
   "cell_type": "markdown",
   "metadata": {},
   "source": [
    "이 때 $\\epsilon_{n} = Cr^{n}$을 $\\epsilon_{n+1} = \\epsilon_{n-1} - \\epsilon_{n}$에 대입하면 $r^{n+1} + r^{n} - r^{n-1}=0$을 얻는다. \n",
    "즉, $r^2+r-1=0$으로서 $r=\\frac{-1\\pm\\sqrt{5}}{2}$ 이다. 따라서 정확한 $\\epsilon_{n}$의 값을 일반화해서 나타내면 임의의 상수 $C_{1}과 C_{2}$에 대해서 \n",
    "$\\epsilon_{n} = C_{1}r_{+}^{n} + C_{2}r_{-}^{n}$이다.\n",
    "(단, $r_{+} = \\frac{\\sqrt5-1}{2}  r_{-} =  \\frac{-\\sqrt5-1}{2}$ 이다.)\n",
    "\n",
    "\n",
    "\n"
   ]
  },
  {
   "cell_type": "markdown",
   "metadata": {},
   "source": [
    "$\\epsilon_{n} = C_{1}r_{+}^{n} + C_{2}r_{-}^{n}$ 에서 이 때 $\\mid r_{+} \\mid < 1$ 이지만, $\\mid r_{-} \\mid > 1$ 이기 때문에 n이 커질수록 그 오차의 크기가 지수함수적으로 증가한다. 그리고 $r_{-}$의 값이 음수이기 때문에 오차의 값이 양음의 부호가 번갈아가면서 커지게 된다. 이는 2-(c)에서 구한 값들에 대해서 정확하게 값이 구해진 2-(a)의 값들을 뺀 값들을 plot한 아래 그래프를 보면서 확인할 수 있다. \n"
   ]
  },
  {
   "cell_type": "code",
   "execution_count": 138,
   "metadata": {},
   "outputs": [
    {
     "data": {
      "image/png": "[encoded data removed]",
      "text/plain": [
       "<Figure size 432x288 with 1 Axes>"
      ]
     },
     "metadata": {
      "needs_background": "light"
     },
     "output_type": "display_data"
    }
   ],
   "source": [
    "plt.xlabel('n', fontsize = 20)\n",
    "plt.ylabel('$error$', fontsize = 20)\n",
    "c = phi_involution-a\n",
    "plt.xlim(25,50)\n",
    "plt.axhline(0, color='red')\n",
    "plt.title(\"sign and value of the error\")\n",
    "plt.plot(b, c, label = '(c)-(a)')\n",
    "plt.legend(loc=1, numpoints=2)\n",
    "plt.show()\n"
   ]
  },
  {
   "cell_type": "markdown",
   "metadata": {},
   "source": [
    "n = 0일 때 $\\epsilon_{0} = C_{1} + C_{2} = $ machine epsilon $\\epsilon $만큼의 값을 가지므로 \n",
    "$ C_{1} \\sim C_{2} \\sim \\frac{\\epsilon}{2}  $으로 둘 수 있다. 이 때 $r_{+} = \\phi$ 이므로 $\\phi^{n}$의 상대 오차는 아래와 같은 식으로 나타낼 수 있다. "
   ]
  },
  {
   "cell_type": "markdown",
   "metadata": {},
   "source": [
    "$\\frac{\\mid\\epsilon_{n}\\mid}{\\phi^{n}} = C_{1} + C_{2}\\mid\\frac{r_{-}}{r_{+}}\\mid^{n} \\sim \\frac{\\epsilon}{2}(\\frac{\\sqrt{5}+1}{\\sqrt{5}-1})^{n}$   "
   ]
  },
  {
   "cell_type": "markdown",
   "metadata": {},
   "source": [
    "위 식에서 상대 오차의 값이 $(\\frac{\\sqrt{5}+1}{\\sqrt{5}-1})>1$이므로 n이 커지면서 오차가 기하급수적으로 매우 크게 증가하게 된다. 대략 $n = 38$일 경우부터는"
   ]
  },
  {
   "cell_type": "code",
   "execution_count": 139,
   "metadata": {},
   "outputs": [
    {
     "data": {
      "text/plain": [
       "0.848146528438544"
      ]
     },
     "execution_count": 139,
     "metadata": {},
     "output_type": "execute_result"
    }
   ],
   "source": [
    "import numpy as np\n",
    "(np.finfo(float).eps/2)*pow((5**0.5+1)/(5**0.5-1), 38)"
   ]
  },
  {
   "cell_type": "markdown",
   "metadata": {},
   "source": [
    "오차의 비율이 무시못할 정도로 커지는 모습을 관찰할 수 있다. 이는 2-(c)의 그래프에서 오차가 크게 발생하기 시작하는 지점과 일치한다. "
   ]
  },
  {
   "cell_type": "markdown",
   "metadata": {},
   "source": [
    "따라서 위와 같은 이유로 Equation (2)인 $ \\phi^{n+1}=\\phi^{n-1}-\\phi^{n} $ 에 대한 또 다른 하나의 근의 크기가 1보다 크기 때문에 ( $\\mid r_{-} \\mid>1$) 오차가 증폭되어  큰 값의 n에 대해서 두 가지 서로 다른 방법으로 구한 값이 다르게 나타난다. "
   ]
  },
  {
   "cell_type": "markdown",
   "metadata": {},
   "source": [
    "## Problem 3"
   ]
  },
  {
   "cell_type": "markdown",
   "metadata": {},
   "source": [
    "### 3 - (a)"
   ]
  },
  {
   "cell_type": "code",
   "execution_count": 140,
   "metadata": {},
   "outputs": [],
   "source": [
    "h = 6.626e-34\n",
    "kb = 1.381e-23\n",
    "c = 2.998e8"
   ]
  },
  {
   "cell_type": "markdown",
   "metadata": {},
   "source": [
    "$ B_{\\lambda}=\\frac{\\frac{2hc^{2}}{\\lambda^{5}}}{e^{\\frac{hc}{\\lambda kT}}-1} $ 이므로 "
   ]
  },
  {
   "cell_type": "markdown",
   "metadata": {},
   "source": [
    "$x = \\frac{hc}{\\lambda kT}$로 정의하면 $\\frac{dB_{\\lambda}}{d\\lambda} = 0$은 다음과 같이 쓸 수 있다."
   ]
  },
  {
   "cell_type": "markdown",
   "metadata": {},
   "source": [
    "$ 5(e^{x}-1)-xe^{x}=0$ "
   ]
  },
  {
   "cell_type": "code",
   "execution_count": 141,
   "metadata": {},
   "outputs": [
    {
     "name": "stdout",
     "output_type": "stream",
     "text": [
      "loop= 1  f=1.65643e-01  df=1.38662e+02   err=3.36897e-02\n",
      "loop= 2  f=2.01202e-04  df=1.38325e+02   err=1.19458e-03\n",
      "loop= 3  f=2.97890e-10  df=1.38325e+02   err=1.45456e-06\n",
      "loop= 4  f=-3.99680e-14  df=1.38325e+02   err=2.15355e-12\n",
      "loop= 5  f=-3.99680e-14  df=1.38325e+02   err=2.88943e-16\n",
      "4.965114231744276\n"
     ]
    }
   ],
   "source": [
    "import numpy as np\n",
    "import sympy as sp\n",
    "import matplotlib.pyplot as plt\n",
    "\n",
    "\n",
    "def f(x):\n",
    "    f = (x-5)*np.exp(x) + 5\n",
    "    return f\n",
    "\n",
    "def df(x):\n",
    "    df = (x-4)*np.exp(x)\n",
    "    return df\n",
    "\n",
    "# Use Newton-Rhapson Method\n",
    "\n",
    "TOL = 1.e-12\n",
    "err = TOL + 1\n",
    "loop = 0 \n",
    "k = 5\n",
    "\n",
    "\n",
    "while (err >= TOL):  \n",
    "    loop += 1\n",
    "    if (loop > 1000): break\n",
    "    err=abs(f(k)/df(k))\n",
    "    k = k - f(k)/df(k)\n",
    "    print(\"loop={:2d}  f={:.5e}  df={:.5e}   err={:.5e}\".format(loop,f(k),df(k),err))\n",
    "print(k)"
   ]
  },
  {
   "cell_type": "markdown",
   "metadata": {},
   "source": [
    "이 값은 $x = \\frac{hc}{\\lambda kT}$ = 1.2458038891510255e-16 라는 의미이므로 이는 x에 해당하는 값이 일정하다는 의미를 내포한다. 따라서 x내에 존재하는 변수인 $\\lambda와 T$간의 곱이 일정하다는 것을 의미한다. 이 때 일정한 두 변수를 곱한 값을 구하면 \n"
   ]
  },
  {
   "cell_type": "code",
   "execution_count": 142,
   "metadata": {},
   "outputs": [
    {
     "name": "stdout",
     "output_type": "stream",
     "text": [
      "wien constant is 0.0028970776571844666 m*K\n"
     ]
    }
   ],
   "source": [
    "wien_constant  = (h*c)/(k*kb)\n",
    "print(\"wien constant is {} m*K\".format(wien_constant))"
   ]
  },
  {
   "cell_type": "markdown",
   "metadata": {},
   "source": [
    "즉, 빈의 변위 법칙이 증명되고 번의 변위법칙 상수까지 계산되었다. "
   ]
  },
  {
   "cell_type": "markdown",
   "metadata": {},
   "source": [
    "### 3 - (b)"
   ]
  },
  {
   "cell_type": "code",
   "execution_count": 143,
   "metadata": {},
   "outputs": [],
   "source": [
    "T = 10000\n",
    "B_lambda = 10**13\n",
    "h = 6.626e-34\n",
    "kb = 1.381e-23\n",
    "c = 2.998e8"
   ]
  },
  {
   "cell_type": "markdown",
   "metadata": {},
   "source": [
    "$ B_{\\lambda}=\\frac{\\frac{2hc^{2}}{\\lambda^{5}}}{e^{\\frac{hc}{\\lambda kT}}-1} $ 이므로  $x = \\frac{hc}{\\lambda kT}$ 로 치환하면 위 식을 다음과 같이 정의할 수 있다."
   ]
  },
  {
   "cell_type": "markdown",
   "metadata": {},
   "source": [
    "$ \\frac{2x^{5}}{e^{x}-1} = \\frac{B_{\\lambda}h^{4}c^{3}}{(kT)^{5}} = Constant $"
   ]
  },
  {
   "cell_type": "markdown",
   "metadata": {},
   "source": [
    "따라서 $ f(x) = \\frac{2x^{5}}{e^{x}-1} - \\frac{B_{\\lambda}h^{4}c^{3}}{(kT)^{5}} = 0$ 을 만족하는 x를 찾으면 된다."
   ]
  },
  {
   "cell_type": "code",
   "execution_count": 144,
   "metadata": {},
   "outputs": [
    {
     "name": "stdout",
     "output_type": "stream",
     "text": [
      "loop= 1  f=2.7956629e+00  df=8.2929011e+00   err=1.5618401e+00\n",
      "loop= 2  f=5.7825458e-01  df=4.9061135e+00   err=3.3711519e-01\n",
      "loop= 3  f=6.4257064e-02  df=3.8305839e+00   err=1.1786409e-01\n",
      "loop= 4  f=1.2221695e-03  df=3.6852211e+00   err=1.6774744e-02\n",
      "loop= 5  f=4.7300923e-07  df=3.6823687e+00   err=3.3164075e-04\n",
      "loop= 6  f=7.1054274e-14  df=3.6823676e+00   err=1.2845244e-07\n",
      "loop= 7  f=-2.2204460e-16  df=3.6823676e+00   err=1.9295812e-14\n",
      "wavelength = 1.4889460176e-06 m 일 때 B_lambda = 10^13 Js-1m-3이다.\n"
     ]
    }
   ],
   "source": [
    "const = (B_lambda*h**4*c**3)/(kb*T)**5\n",
    "\n",
    "def f(x):\n",
    "    f = (2*pow(x,5))/(np.exp(x)-1)-const\n",
    "    return f\n",
    "\n",
    "def df(x):\n",
    "    a = -2*x**4*(np.exp(x)*x-5*np.exp(x)+5)\n",
    "    b = (np.exp(x)-1)**2\n",
    "    df = a/b\n",
    "    return df\n",
    "\n",
    "# Use Newton-Rhapson Method\n",
    "\n",
    "TOL = 1.e-12\n",
    "err = TOL + 1\n",
    "loop = 0 \n",
    "k = 3\n",
    "\n",
    "\n",
    "while (err >= TOL):  \n",
    "    loop += 1\n",
    "    if (loop > 100): break\n",
    "    err=abs(f(k)/df(k))\n",
    "    k = k - f(k)/df(k)\n",
    "    print(\"loop={:2d}  f={:.7e}  df={:.7e}   err={:.7e}\".format(loop,f(k),df(k),err))\n",
    "\n",
    "# 이 때 k는 x값을 구한 것\n",
    "# 조건을 만족하는 wavelength는 따로 구해야 한다. \n",
    "\n",
    "wavelength = (h*c)/(k*kb*T)\n",
    "print(\"wavelength = {:.10e} m 일 때 B_lambda = 10^13 Js-1m-3이다.\".format(wavelength))\n",
    "\n"
   ]
  },
  {
   "cell_type": "code",
   "execution_count": 145,
   "metadata": {},
   "outputs": [
    {
     "name": "stdout",
     "output_type": "stream",
     "text": [
      "loop= 1  f=2.4553466e+00  df=-2.0073474e+00   err=1.7720896e+00\n",
      "loop= 2  f=6.4935789e-01  df=-1.0356978e+00   err=1.2231797e+00\n",
      "loop= 3  f=1.0414435e-01  df=-7.2041123e-01   err=6.2697623e-01\n",
      "loop= 4  f=4.3322922e-03  df=-6.6123670e-01   err=1.4456237e-01\n",
      "loop= 5  f=8.4398384e-06  df=-6.5866187e-01   err=6.5518024e-03\n",
      "loop= 6  f=3.2205349e-11  df=-6.5865684e-01   err=1.2813613e-05\n",
      "loop= 7  f=-4.4408921e-16  df=-6.5865684e-01   err=4.8895491e-11\n",
      "loop= 8  f=-4.4408921e-16  df=-6.5865684e-01   err=6.7423457e-16\n",
      "wavelength = 1.0443572498e-07 m 일 때 B_lambda = 10^13 Js-1m-3이다.\n"
     ]
    }
   ],
   "source": [
    "const = (B_lambda*h**4*c**3)/(kb*T)**5\n",
    "\n",
    "def f(x):\n",
    "    f = (2*pow(x,5))/(np.exp(x)-1)-const\n",
    "    return f\n",
    "\n",
    "def df(x):\n",
    "    a = -2*x**4*(np.exp(x)*x-5*np.exp(x)+5)\n",
    "    b = (np.exp(x)-1)**2\n",
    "    df = a/b\n",
    "    return df\n",
    "\n",
    "# Use Newton-Rhapson Method\n",
    "\n",
    "TOL = 1.e-12\n",
    "err = TOL + 1\n",
    "loop = 0 \n",
    "k = 10\n",
    "\n",
    "\n",
    "while (err >= TOL):  \n",
    "    loop += 1\n",
    "    if (loop > 100): break\n",
    "    err=abs(f(k)/df(k))\n",
    "    k = k - f(k)/df(k)\n",
    "    print(\"loop={:2d}  f={:.7e}  df={:.7e}   err={:.7e}\".format(loop,f(k),df(k),err))\n",
    "\n",
    "# 이 때 k는 x값을 구한 것\n",
    "# 조건을 만족하는 wavelength는 따로 구해야 한다. \n",
    "\n",
    "wavelength = (h*c)/(k*kb*T)\n",
    "print(\"wavelength = {:.10e} m 일 때 B_lambda = 10^13 Js-1m-3이다.\".format(wavelength))\n",
    "\n"
   ]
  },
  {
   "cell_type": "markdown",
   "metadata": {},
   "source": [
    "### 따라서 wavelength가 \n",
    "1.4889460176e-06 m , 1.0443572498e-07 m 일 때 B_lambda = 10^13 Js-1m-3이다"
   ]
  },
  {
   "cell_type": "markdown",
   "metadata": {},
   "source": [
    "## Problem 4"
   ]
  },
  {
   "cell_type": "code",
   "execution_count": 146,
   "metadata": {},
   "outputs": [
    {
     "data": {
      "image/png": "[encoded data removed]",
      "text/plain": [
       "<Figure size 432x288 with 1 Axes>"
      ]
     },
     "metadata": {
      "needs_background": "light"
     },
     "output_type": "display_data"
    },
    {
     "data": {
      "text/html": [
       "<div>\n",
       "<style scoped>\n",
       "    .dataframe tbody tr th:only-of-type {\n",
       "        vertical-align: middle;\n",
       "    }\n",
       "\n",
       "    .dataframe tbody tr th {\n",
       "        vertical-align: top;\n",
       "    }\n",
       "\n",
       "    .dataframe thead th {\n",
       "        text-align: right;\n",
       "    }\n",
       "</style>\n",
       "<table border=\"1\" class=\"dataframe\">\n",
       "  <thead>\n",
       "    <tr style=\"text-align: right;\">\n",
       "      <th></th>\n",
       "      <th>mean anomaly</th>\n",
       "      <th>ecentric anomaly</th>\n",
       "    </tr>\n",
       "  </thead>\n",
       "  <tbody>\n",
       "    <tr>\n",
       "      <th>0</th>\n",
       "      <td>0.000000</td>\n",
       "      <td>0.000000</td>\n",
       "    </tr>\n",
       "    <tr>\n",
       "      <th>1</th>\n",
       "      <td>0.108331</td>\n",
       "      <td>0.660470</td>\n",
       "    </tr>\n",
       "    <tr>\n",
       "      <th>2</th>\n",
       "      <td>0.216662</td>\n",
       "      <td>0.947341</td>\n",
       "    </tr>\n",
       "    <tr>\n",
       "      <th>3</th>\n",
       "      <td>0.324992</td>\n",
       "      <td>1.144413</td>\n",
       "    </tr>\n",
       "    <tr>\n",
       "      <th>4</th>\n",
       "      <td>0.433323</td>\n",
       "      <td>1.300692</td>\n",
       "    </tr>\n",
       "    <tr>\n",
       "      <th>5</th>\n",
       "      <td>0.541654</td>\n",
       "      <td>1.433140</td>\n",
       "    </tr>\n",
       "    <tr>\n",
       "      <th>6</th>\n",
       "      <td>0.649985</td>\n",
       "      <td>1.549786</td>\n",
       "    </tr>\n",
       "    <tr>\n",
       "      <th>7</th>\n",
       "      <td>0.758315</td>\n",
       "      <td>1.655118</td>\n",
       "    </tr>\n",
       "    <tr>\n",
       "      <th>8</th>\n",
       "      <td>0.866646</td>\n",
       "      <td>1.751923</td>\n",
       "    </tr>\n",
       "    <tr>\n",
       "      <th>9</th>\n",
       "      <td>0.974977</td>\n",
       "      <td>1.842065</td>\n",
       "    </tr>\n",
       "    <tr>\n",
       "      <th>10</th>\n",
       "      <td>1.083308</td>\n",
       "      <td>1.926857</td>\n",
       "    </tr>\n",
       "    <tr>\n",
       "      <th>11</th>\n",
       "      <td>1.191639</td>\n",
       "      <td>2.007264</td>\n",
       "    </tr>\n",
       "    <tr>\n",
       "      <th>12</th>\n",
       "      <td>1.299969</td>\n",
       "      <td>2.084019</td>\n",
       "    </tr>\n",
       "    <tr>\n",
       "      <th>13</th>\n",
       "      <td>1.408300</td>\n",
       "      <td>2.157696</td>\n",
       "    </tr>\n",
       "    <tr>\n",
       "      <th>14</th>\n",
       "      <td>1.516631</td>\n",
       "      <td>2.228751</td>\n",
       "    </tr>\n",
       "    <tr>\n",
       "      <th>15</th>\n",
       "      <td>1.624962</td>\n",
       "      <td>2.297558</td>\n",
       "    </tr>\n",
       "    <tr>\n",
       "      <th>16</th>\n",
       "      <td>1.733292</td>\n",
       "      <td>2.364428</td>\n",
       "    </tr>\n",
       "    <tr>\n",
       "      <th>17</th>\n",
       "      <td>1.841623</td>\n",
       "      <td>2.429619</td>\n",
       "    </tr>\n",
       "    <tr>\n",
       "      <th>18</th>\n",
       "      <td>1.949954</td>\n",
       "      <td>2.493357</td>\n",
       "    </tr>\n",
       "    <tr>\n",
       "      <th>19</th>\n",
       "      <td>2.058285</td>\n",
       "      <td>2.555834</td>\n",
       "    </tr>\n",
       "    <tr>\n",
       "      <th>20</th>\n",
       "      <td>2.166616</td>\n",
       "      <td>2.617219</td>\n",
       "    </tr>\n",
       "    <tr>\n",
       "      <th>21</th>\n",
       "      <td>2.274946</td>\n",
       "      <td>2.677664</td>\n",
       "    </tr>\n",
       "    <tr>\n",
       "      <th>22</th>\n",
       "      <td>2.383277</td>\n",
       "      <td>2.737305</td>\n",
       "    </tr>\n",
       "    <tr>\n",
       "      <th>23</th>\n",
       "      <td>2.491608</td>\n",
       "      <td>2.796264</td>\n",
       "    </tr>\n",
       "    <tr>\n",
       "      <th>24</th>\n",
       "      <td>2.599939</td>\n",
       "      <td>2.854654</td>\n",
       "    </tr>\n",
       "    <tr>\n",
       "      <th>25</th>\n",
       "      <td>2.708270</td>\n",
       "      <td>2.912582</td>\n",
       "    </tr>\n",
       "    <tr>\n",
       "      <th>26</th>\n",
       "      <td>2.816600</td>\n",
       "      <td>2.970147</td>\n",
       "    </tr>\n",
       "    <tr>\n",
       "      <th>27</th>\n",
       "      <td>2.924931</td>\n",
       "      <td>3.027443</td>\n",
       "    </tr>\n",
       "    <tr>\n",
       "      <th>28</th>\n",
       "      <td>3.033262</td>\n",
       "      <td>3.084562</td>\n",
       "    </tr>\n",
       "    <tr>\n",
       "      <th>29</th>\n",
       "      <td>3.141593</td>\n",
       "      <td>3.141593</td>\n",
       "    </tr>\n",
       "  </tbody>\n",
       "</table>\n",
       "</div>"
      ],
      "text/plain": [
       "    mean anomaly  ecentric anomaly\n",
       "0       0.000000          0.000000\n",
       "1       0.108331          0.660470\n",
       "2       0.216662          0.947341\n",
       "3       0.324992          1.144413\n",
       "4       0.433323          1.300692\n",
       "5       0.541654          1.433140\n",
       "6       0.649985          1.549786\n",
       "7       0.758315          1.655118\n",
       "8       0.866646          1.751923\n",
       "9       0.974977          1.842065\n",
       "10      1.083308          1.926857\n",
       "11      1.191639          2.007264\n",
       "12      1.299969          2.084019\n",
       "13      1.408300          2.157696\n",
       "14      1.516631          2.228751\n",
       "15      1.624962          2.297558\n",
       "16      1.733292          2.364428\n",
       "17      1.841623          2.429619\n",
       "18      1.949954          2.493357\n",
       "19      2.058285          2.555834\n",
       "20      2.166616          2.617219\n",
       "21      2.274946          2.677664\n",
       "22      2.383277          2.737305\n",
       "23      2.491608          2.796264\n",
       "24      2.599939          2.854654\n",
       "25      2.708270          2.912582\n",
       "26      2.816600          2.970147\n",
       "27      2.924931          3.027443\n",
       "28      3.033262          3.084562\n",
       "29      3.141593          3.141593"
      ]
     },
     "execution_count": 146,
     "metadata": {},
     "output_type": "execute_result"
    }
   ],
   "source": [
    "import numpy as np\n",
    "import sympy as sp\n",
    "import matplotlib.pyplot as plt\n",
    "\n",
    "ec=0.9\n",
    "\n",
    "def f(y, x):\n",
    "    f = y - ec*np.sin(y) - x\n",
    "    return f\n",
    "\n",
    "def df(y):\n",
    "    df = 1 - ec*np.cos(y)\n",
    "    return df\n",
    "\n",
    "# Use Newton-Rhapson Method\n",
    "\n",
    "\n",
    "x = np.linspace(0, np.pi, 30)\n",
    "y = np.zeros(30)\n",
    "y[0]=0\n",
    "\n",
    "def sol_f(x, u): #여기서 입력받은 u는 이전 지점의 결과값을 starting point로 삼기 위해서\n",
    "    TOL = 1.e-12\n",
    "    err = TOL + 1\n",
    "    loop = 0 \n",
    "    k = u\n",
    "    while (err >= TOL):  \n",
    "        loop += 1\n",
    "        if (loop > 1000): break\n",
    "        err=abs(f(k,x)/df(k))\n",
    "        k = k - f(k,x)/df(k)\n",
    "        # print(\"loop={:2d}  f={:.5e}  df={:.5e}   err={:.5e}\".format(loop,f(k),df(k),err))\n",
    "    return k\n",
    "\n",
    "\n",
    "for i in range(1, 30):\n",
    "    y[i] = sol_f(x[i], y[i-1])\n",
    "    \n",
    "    \n",
    "\n",
    "x1 = x.tolist()\n",
    "y1 = y.tolist()\n",
    "\n",
    "plt.xlabel(\"mean anomaly\")\n",
    "plt.ylabel(\"Eccentric Anomaly\")\n",
    "plt.plot(x1,y1, 'ro')\n",
    "plt.plot(x,x,'-')\n",
    "plt.show()\n",
    "\n",
    "\n",
    "table1 = pd.DataFrame(x1, columns=['mean anomaly'])\n",
    "table1['ecentric anomaly'] = y1\n",
    "table1"
   ]
  },
  {
   "cell_type": "code",
   "execution_count": null,
   "metadata": {},
   "outputs": [],
   "source": []
  },
  {
   "cell_type": "code",
   "execution_count": null,
   "metadata": {},
   "outputs": [],
   "source": []
  }
 ],
 "metadata": {
  "kernelspec": {
   "display_name": "Python 3",
   "language": "python",
   "name": "python3"
  },
  "language_info": {
   "codemirror_mode": {
    "name": "ipython",
    "version": 3
   },
   "file_extension": ".py",
   "mimetype": "text/x-python",
   "name": "python",
   "nbconvert_exporter": "python",
   "pygments_lexer": "ipython3",
   "version": "3.7.3"
  }
 },
 "nbformat": 4,
 "nbformat_minor": 2
}
