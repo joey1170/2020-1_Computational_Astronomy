{
 "cells": [
  {
   "cell_type": "code",
   "execution_count": 2,
   "metadata": {},
   "outputs": [
    {
     "name": "stdout",
     "output_type": "stream",
     "text": [
      "[[ 3 -2 -1]\n",
      " [ 0  2  4]\n",
      " [ 0  0 -4]]\n",
      "[1. 1. 1.]\n"
     ]
    }
   ],
   "source": [
    "import numpy as np\n",
    "A = np.array(([3,-2,-1],[6,-2,2],[-9,7,1]))\n",
    "B = np.array([0, 6, -1])\n",
    "\n",
    "\n",
    "N = len(A)\n",
    "x = np.zeros(N)\n",
    "for j in range(N):\n",
    "    for i in range(j+1, N):\n",
    "        coef = A[i][j]/A[j][j]\n",
    "        for k in range(N):\n",
    "            A[i][k] -= coef*A[j][k]\n",
    "        B[i] -= coef*B[j]\n",
    "        \n",
    "        \n",
    "x[N-1] = B[N-1]/A[N-1][N-1]\n",
    "for k in range(N-1, -1, -1):\n",
    "    sum = np.dot(A[k][k+1:], x[k+1:])\n",
    "    x[k] = (B[k]-sum)/A[k][k]\n",
    "    \n",
    "print(A)\n",
    "print(x)"
   ]
  },
  {
   "cell_type": "code",
   "execution_count": null,
   "metadata": {},
   "outputs": [],
   "source": []
  },
  {
   "cell_type": "code",
   "execution_count": 3,
   "metadata": {},
   "outputs": [
    {
     "name": "stdout",
     "output_type": "stream",
     "text": [
      "[[ 2  1 -1  2]\n",
      " [ 0  3 -1  2]\n",
      " [ 0  0 -1  4]\n",
      " [ 0  0  0  2]]\n",
      "[ 1. -2.  1.  3.]\n"
     ]
    }
   ],
   "source": [
    "import numpy as np\n",
    "A = np.array(([2, 1, -1, 2],[4, 5, -3, 6],[-2,5,-2, 6],[4, 11, -4, 8]))\n",
    "B = np.array([5, 9, 4, 2])\n",
    "\n",
    "\n",
    "N = len(A)\n",
    "x = np.zeros(N)\n",
    "for j in range(N):\n",
    "    for i in range(j+1, N):\n",
    "        coef = A[i][j]/A[j][j]\n",
    "        for k in range(N):\n",
    "            A[i][k] -= coef*A[j][k]\n",
    "        B[i] -= coef*B[j]\n",
    "        \n",
    "        \n",
    "x[N-1] = B[N-1]/A[N-1][N-1]\n",
    "for k in range(N-1, -1, -1):\n",
    "    sum = np.dot(A[k][k+1:], x[k+1:])\n",
    "    x[k] = (B[k]-sum)/A[k][k]\n",
    "    \n",
    "print(A)\n",
    "print(x)"
   ]
  },
  {
   "cell_type": "code",
   "execution_count": 7,
   "metadata": {},
   "outputs": [
    {
     "name": "stdout",
     "output_type": "stream",
     "text": [
      "[-0.34796778+1.64756534j -0.34796778-1.64756534j 12.69593557+0.j        ]\n",
      "[ 0.33445343+0.19938239j  0.86750926+0.j         -0.28678368+0.11649193j] [ 0.33445343-0.19938239j  0.86750926-0.j         -0.28678368-0.11649193j] [-0.11969754+0.j  0.08573917+0.j  0.98910126+0.j]\n",
      "[ 2.66666667  4.33333333 -0.66666667]\n",
      "True\n"
     ]
    }
   ],
   "source": [
    "import numpy as np\n",
    "from scipy import linalg\n",
    "\n",
    "A = np.array(([3,-2,-1],[6, -2,2],[-9,7,11]))\n",
    "\n",
    "A.T\n",
    "D = linalg.inv(A)\n",
    "A.dot(D)\n",
    "linalg.det(A)\n",
    "la, v =linalg.eig(A)\n",
    "print(la)\n",
    "print(v[:,0], v[:,1], v[:,2])\n",
    "\n",
    "B = np.array([0, 6, -1])\n",
    "x = np.linalg.solve(A,B)\n",
    "print(x)\n",
    "print(np.allclose(np.dot(A,x), B))"
   ]
  },
  {
   "cell_type": "code",
   "execution_count": null,
   "metadata": {},
   "outputs": [],
   "source": []
  },
  {
   "cell_type": "code",
   "execution_count": null,
   "metadata": {},
   "outputs": [],
   "source": []
  },
  {
   "cell_type": "code",
   "execution_count": null,
   "metadata": {},
   "outputs": [],
   "source": []
  },
  {
   "cell_type": "code",
   "execution_count": 8,
   "metadata": {},
   "outputs": [
    {
     "name": "stdout",
     "output_type": "stream",
     "text": [
      "[13.17736094+0.j  1.31844976+0.j  0.37015638+0.j -1.86596708+0.j]\n",
      "[-0.13844491 -0.46487948 -0.43484096 -0.75870509] [ 0.02940625 -0.08436574 -0.90334339 -0.41950974] [-0.10081371 -0.05502179 -0.92803291 -0.35435027]\n",
      "[ 1. -2.  1.  3.]\n",
      "True\n"
     ]
    }
   ],
   "source": [
    "import numpy as np\n",
    "from scipy import linalg\n",
    "\n",
    "A = np.array(([2, 1, -1, 2],[4, 5, -3, 6],[-2, 5, -2, 6], [4, 11, -4, 8]))\n",
    "\n",
    "A.T\n",
    "D = linalg.inv(A)\n",
    "A.dot(D)\n",
    "linalg.det(A)\n",
    "la, v =linalg.eig(A)\n",
    "print(la)\n",
    "print(v[:,0], v[:,1], v[:,2])\n",
    "\n",
    "B = np.array([5, 9, 4, 2])\n",
    "x = np.linalg.solve(A,B)\n",
    "print(x)\n",
    "print(np.allclose(np.dot(A,x), B))"
   ]
  },
  {
   "cell_type": "code",
   "execution_count": null,
   "metadata": {},
   "outputs": [],
   "source": []
  },
  {
   "cell_type": "code",
   "execution_count": null,
   "metadata": {},
   "outputs": [],
   "source": []
  },
  {
   "cell_type": "code",
   "execution_count": 11,
   "metadata": {},
   "outputs": [
    {
     "name": "stdout",
     "output_type": "stream",
     "text": [
      "[[0. 0. 0. 1.]\n",
      " [1. 0. 0. 0.]\n",
      " [0. 1. 0. 0.]\n",
      " [0. 0. 1. 0.]]\n",
      "[[ 1.          0.          0.          0.        ]\n",
      " [-0.5         1.          0.          0.        ]\n",
      " [ 1.          0.8         1.          0.        ]\n",
      " [ 0.5        -0.2        -0.11111111  1.        ]]\n",
      "[[ 4.          5.         -3.          6.        ]\n",
      " [ 0.          7.5        -3.5         9.        ]\n",
      " [ 0.          0.          1.8        -5.2       ]\n",
      " [ 0.          0.          0.          0.22222222]]\n"
     ]
    }
   ],
   "source": [
    "from scipy import linalg\n",
    "A = np.array(([2, 1, -1, 2],[4, 5, -3, 6],[-2, 5, -2, 6], [4, 11, -4, 8]))\n",
    "\n",
    "\n",
    "P,L,U = linalg.lu(A)\n",
    "print(P)\n",
    "print(L)\n",
    "print(U)\n",
    "\n",
    "LU = linalg.lu_factor(A)\n",
    "x = linalg.lu_solve(LU, B)"
   ]
  },
  {
   "cell_type": "code",
   "execution_count": null,
   "metadata": {},
   "outputs": [],
   "source": []
  },
  {
   "cell_type": "code",
   "execution_count": 17,
   "metadata": {},
   "outputs": [
    {
     "ename": "NameError",
     "evalue": "name 'r' is not defined",
     "output_type": "error",
     "traceback": [
      "\u001b[1;31m---------------------------------------------------------------------------\u001b[0m",
      "\u001b[1;31mNameError\u001b[0m                                 Traceback (most recent call last)",
      "\u001b[1;32m<ipython-input-17-2f8fb5fb5270>\u001b[0m in \u001b[0;36m<module>\u001b[1;34m\u001b[0m\n\u001b[0;32m      2\u001b[0m \u001b[1;33m\u001b[0m\u001b[0m\n\u001b[0;32m      3\u001b[0m \u001b[0mbet\u001b[0m \u001b[1;33m=\u001b[0m \u001b[0mb\u001b[0m\u001b[1;33m[\u001b[0m\u001b[1;36m0\u001b[0m\u001b[1;33m]\u001b[0m\u001b[1;33m\u001b[0m\u001b[1;33m\u001b[0m\u001b[0m\n\u001b[1;32m----> 4\u001b[1;33m \u001b[0mrho\u001b[0m\u001b[1;33m[\u001b[0m\u001b[1;36m0\u001b[0m\u001b[1;33m]\u001b[0m\u001b[1;33m=\u001b[0m\u001b[0mr\u001b[0m\u001b[1;33m[\u001b[0m\u001b[1;36m0\u001b[0m\u001b[1;33m]\u001b[0m\u001b[1;33m/\u001b[0m\u001b[0mbet\u001b[0m\u001b[1;33m\u001b[0m\u001b[1;33m\u001b[0m\u001b[0m\n\u001b[0m\u001b[0;32m      5\u001b[0m \u001b[1;32mfor\u001b[0m \u001b[0mi\u001b[0m \u001b[1;32min\u001b[0m \u001b[0mrange\u001b[0m\u001b[1;33m(\u001b[0m\u001b[1;36m1\u001b[0m\u001b[1;33m,\u001b[0m\u001b[0mn\u001b[0m\u001b[1;33m)\u001b[0m\u001b[1;33m:\u001b[0m\u001b[1;33m\u001b[0m\u001b[1;33m\u001b[0m\u001b[0m\n\u001b[0;32m      6\u001b[0m     \u001b[0mgam\u001b[0m\u001b[1;33m[\u001b[0m\u001b[0mi\u001b[0m\u001b[1;33m-\u001b[0m\u001b[1;36m1\u001b[0m\u001b[1;33m]\u001b[0m \u001b[1;33m=\u001b[0m \u001b[0mc\u001b[0m\u001b[1;33m[\u001b[0m\u001b[0mi\u001b[0m\u001b[1;33m-\u001b[0m\u001b[1;36m1\u001b[0m\u001b[1;33m]\u001b[0m\u001b[1;33m/\u001b[0m\u001b[0mbet\u001b[0m\u001b[1;33m\u001b[0m\u001b[1;33m\u001b[0m\u001b[0m\n",
      "\u001b[1;31mNameError\u001b[0m: name 'r' is not defined"
     ]
    }
   ],
   "source": [
    "b = np.array(([9.7, 6, 0,0,0,0],[2.1, 9.5, 1.2, 0, 0, 0], [0, 9.4, 5.2, 0.7, 0, 0],             [0, 0, 3.3, 3.5, 3.0, 0], [0,0,0,7.5,5.1,1.5],[0,0,0,0,8.8,6.0]))\n",
    "\n",
    "bet = b[0]\n",
    "rho[0]=r[0]/bet\n",
    "for i in range(1,n):\n",
    "    gam[i-1] = c[i-1]/bet\n",
    "    bet = b[i]-a[i]*gam[i-1]\n",
    "    rho[i] = (r[i]-a[i]*rho[i-1])/bet"
   ]
  },
  {
   "cell_type": "code",
   "execution_count": null,
   "metadata": {},
   "outputs": [],
   "source": []
  },
  {
   "cell_type": "code",
   "execution_count": null,
   "metadata": {},
   "outputs": [],
   "source": []
  },
  {
   "cell_type": "code",
   "execution_count": null,
   "metadata": {},
   "outputs": [],
   "source": []
  },
  {
   "cell_type": "code",
   "execution_count": null,
   "metadata": {},
   "outputs": [],
   "source": []
  },
  {
   "cell_type": "code",
   "execution_count": null,
   "metadata": {},
   "outputs": [],
   "source": []
  },
  {
   "cell_type": "markdown",
   "metadata": {},
   "source": [
    "forward substitution"
   ]
  },
  {
   "cell_type": "code",
   "execution_count": 2,
   "metadata": {},
   "outputs": [
    {
     "ename": "NameError",
     "evalue": "name 'b' is not defined",
     "output_type": "error",
     "traceback": [
      "\u001b[1;31m---------------------------------------------------------------------------\u001b[0m",
      "\u001b[1;31mNameError\u001b[0m                                 Traceback (most recent call last)",
      "\u001b[1;32m<ipython-input-2-d617ba6b5ccd>\u001b[0m in \u001b[0;36m<module>\u001b[1;34m\u001b[0m\n\u001b[1;32m----> 1\u001b[1;33m \u001b[0mbet\u001b[0m \u001b[1;33m=\u001b[0m \u001b[0mb\u001b[0m\u001b[1;33m[\u001b[0m\u001b[1;36m0\u001b[0m\u001b[1;33m]\u001b[0m\u001b[1;33m\u001b[0m\u001b[1;33m\u001b[0m\u001b[0m\n\u001b[0m\u001b[0;32m      2\u001b[0m \u001b[0mrho\u001b[0m\u001b[1;33m[\u001b[0m\u001b[1;36m0\u001b[0m\u001b[1;33m]\u001b[0m \u001b[1;33m=\u001b[0m \u001b[0mr\u001b[0m\u001b[1;33m[\u001b[0m\u001b[1;36m0\u001b[0m\u001b[1;33m]\u001b[0m\u001b[1;33m/\u001b[0m\u001b[0mbet\u001b[0m\u001b[1;33m\u001b[0m\u001b[1;33m\u001b[0m\u001b[0m\n\u001b[0;32m      3\u001b[0m \u001b[1;32mfor\u001b[0m \u001b[0mi\u001b[0m \u001b[1;32min\u001b[0m \u001b[0mrange\u001b[0m\u001b[1;33m(\u001b[0m\u001b[1;36m1\u001b[0m\u001b[1;33m,\u001b[0m \u001b[0mn\u001b[0m\u001b[1;33m)\u001b[0m\u001b[1;33m:\u001b[0m\u001b[1;33m\u001b[0m\u001b[1;33m\u001b[0m\u001b[0m\n\u001b[0;32m      4\u001b[0m     \u001b[0mgam\u001b[0m\u001b[1;33m[\u001b[0m\u001b[0mi\u001b[0m\u001b[1;33m-\u001b[0m\u001b[1;36m1\u001b[0m\u001b[1;33m]\u001b[0m \u001b[1;33m=\u001b[0m \u001b[0mc\u001b[0m\u001b[1;33m[\u001b[0m\u001b[0mi\u001b[0m\u001b[1;33m-\u001b[0m\u001b[1;36m1\u001b[0m\u001b[1;33m]\u001b[0m\u001b[1;33m/\u001b[0m\u001b[0mbet\u001b[0m\u001b[1;33m\u001b[0m\u001b[1;33m\u001b[0m\u001b[0m\n\u001b[0;32m      5\u001b[0m     \u001b[0mbet\u001b[0m \u001b[1;33m=\u001b[0m \u001b[0mb\u001b[0m\u001b[1;33m[\u001b[0m\u001b[0mi\u001b[0m\u001b[1;33m]\u001b[0m \u001b[1;33m-\u001b[0m \u001b[0ma\u001b[0m\u001b[1;33m[\u001b[0m\u001b[0mi\u001b[0m\u001b[1;33m]\u001b[0m\u001b[1;33m*\u001b[0m\u001b[0mgam\u001b[0m\u001b[1;33m[\u001b[0m\u001b[0mi\u001b[0m\u001b[1;33m-\u001b[0m\u001b[1;36m1\u001b[0m\u001b[1;33m]\u001b[0m\u001b[1;33m\u001b[0m\u001b[1;33m\u001b[0m\u001b[0m\n",
      "\u001b[1;31mNameError\u001b[0m: name 'b' is not defined"
     ]
    }
   ],
   "source": [
    "bet = b[0]\n",
    "rho[0] = r[0]/bet\n",
    "for i in range(1, n):\n",
    "    gam[i-1] = c[i-1]/bet\n",
    "    bet = b[i] - a[i]*gam[i-1]\n",
    "    rho[i] = (r[i]-a[i]*rho[i-1])/bet"
   ]
  },
  {
   "cell_type": "code",
   "execution_count": 5,
   "metadata": {},
   "outputs": [],
   "source": [
    "import numpy as np"
   ]
  },
  {
   "cell_type": "markdown",
   "metadata": {},
   "source": [
    "계산량 크면이게 더 빠름\n"
   ]
  },
  {
   "cell_type": "code",
   "execution_count": 14,
   "metadata": {},
   "outputs": [
    {
     "name": "stdout",
     "output_type": "stream",
     "text": [
      "[-0.48385952  1.11557288 -1.73486451 -1.23584238  5.81683373 -7.06468947]\n"
     ]
    }
   ],
   "source": [
    "def tridiagonal(n,r,a,b,c): \n",
    "    rho=np.zeros(n) \n",
    "    gam=np.zeros(n-1) # forward substitution \n",
    "    bet=b[0]\n",
    "    rho[0]=r[0]/bet \n",
    "    for i in range(1,n): \n",
    "        gam[i-1] = c[i-1]/bet\n",
    "        bet = b[i]-a[i]*gam[i-1] \n",
    "        rho[i] = (r[i]-a[i]*rho[i-1])/bet\n",
    "    # backward substitution \n",
    "    x=np.zeros(n) \n",
    "    x[n-1]=rho[n-1] \n",
    "    for i in range(n-2,-1,-1): \n",
    "        x[i]=rho[i]-gam[i]*x[i+1]\n",
    "    return x\n",
    "\n",
    "\n",
    "n = 6\n",
    "r = np.array([2, 7.5, 0.6, 7.4, 9.8, 8.8])\n",
    "a = np.array([0, 2.1, 9.4, 3.3, 7.5, 8.8]) #a2 부터 적힘, ㅁ1 = 0\n",
    "b= np.array([9.7, 9.5, 5.2, 3.5, 5.1, 6])\n",
    "c=np.array([6, 1.2, 0.7, 3, 1.5])\n",
    "\n",
    "print(tridiagonal(n, r, a, b,c))"
   ]
  },
  {
   "cell_type": "code",
   "execution_count": null,
   "metadata": {},
   "outputs": [],
   "source": []
  },
  {
   "cell_type": "code",
   "execution_count": 82,
   "metadata": {},
   "outputs": [
    {
     "data": {
      "text/plain": [
       "<matplotlib.legend.Legend at 0x1afe5b45dd8>"
      ]
     },
     "execution_count": 82,
     "metadata": {},
     "output_type": "execute_result"
    },
    {
     "data": {
      "image/png": "[encoded data removed]",
      "text/plain": [
       "<Figure size 360x360 with 1 Axes>"
      ]
     },
     "metadata": {
      "needs_background": "light"
     },
     "output_type": "display_data"
    }
   ],
   "source": [
    "import numpy as np\n",
    "import matplotlib.pyplot as plt\n",
    "\n",
    "\n",
    "def tridiagonal(n,r,a,b,c): \n",
    "    rho=np.zeros(n) \n",
    "    gam=np.zeros(n-1) # forward substitution \n",
    "    bet=b[0]\n",
    "    rho[0]=r[0]/bet \n",
    "    for i in range(1,n): \n",
    "        gam[i-1] = c[i-1]/bet\n",
    "        bet = b[i]-a[i]*gam[i-1] \n",
    "        rho[i] = (r[i]-a[i]*rho[i-1])/bet\n",
    "    # backward substitution \n",
    "    x=np.zeros(n) \n",
    "    x[n-1]=rho[n-1] \n",
    "    for i in range(n-2,-1,-1): \n",
    "        x[i]=rho[i]-gam[i]*x[i+1]\n",
    "    return x\n",
    "\n",
    "\n",
    "def Tf(x):\n",
    "    return 4*x*(1-x)\n",
    "\n",
    "\n",
    "def heateq(a, b, j):\n",
    "    tstep = a\n",
    "    xstep = b\n",
    "    D = 1\n",
    "    alpha = D*tstep/xstep**2\n",
    "    \n",
    "    n = 101\n",
    "    a = np.zeros(n)\n",
    "    b = np.zeros(n)\n",
    "    c = np.zeros(n)\n",
    "    T1= np.zeros(n)\n",
    "    x = np.zeros(n)\n",
    "\n",
    "    t = 0\n",
    "    for i in range(n):\n",
    "        a[i] = -alpha\n",
    "        b[i] = 1+2*alpha\n",
    "        c[i] = -alpha\n",
    "        x[i] = i*xstep\n",
    "        T1[i] =Tf(x[i])\n",
    "\n",
    "\n",
    "    tmax = j\n",
    "    while(t<=tmax):\n",
    "        t = t + tstep\n",
    "        T1 = tridiagonal(n,T1,a,b,c)\n",
    "    return T1\n",
    "\n",
    "x = np.linspace(0, 1, 101)\n",
    "plt.figure(1, figsize = (5,5))\n",
    "plt.plot(x, heateq(0.01, 0.01, 0.1), label = '$\\delta t$ = 0.01')\n",
    "plt.plot(x, heateq(0.001, 0.01, 0.1), label = '$\\delta t$ = 0.001')\n",
    "plt.legend()\n",
    "\n"
   ]
  },
  {
   "cell_type": "code",
   "execution_count": null,
   "metadata": {},
   "outputs": [],
   "source": []
  },
  {
   "cell_type": "code",
   "execution_count": null,
   "metadata": {},
   "outputs": [],
   "source": []
  },
  {
   "cell_type": "code",
   "execution_count": 3,
   "metadata": {},
   "outputs": [
    {
     "data": {
      "text/plain": [
       "<matplotlib.legend.Legend at 0x2a594c418d0>"
      ]
     },
     "execution_count": 3,
     "metadata": {},
     "output_type": "execute_result"
    },
    {
     "data": {
      "image/png": "[encoded data removed]",
      "text/plain": [
       "<Figure size 360x360 with 1 Axes>"
      ]
     },
     "metadata": {
      "needs_background": "light"
     },
     "output_type": "display_data"
    }
   ],
   "source": [
    "import numpy as np\n",
    "import matplotlib.pyplot as plt\n",
    "\n",
    "\n",
    "def tridiagonal(n,r,a,b,c): \n",
    "    rho=np.zeros(n) \n",
    "    gam=np.zeros(n-1) # forward substitution \n",
    "    bet=b[0]\n",
    "    rho[0]=r[0]/bet \n",
    "    for i in range(1,n): \n",
    "        gam[i-1] = c[i-1]/bet\n",
    "        bet = b[i]-a[i]*gam[i-1] \n",
    "        rho[i] = (r[i]-a[i]*rho[i-1])/bet\n",
    "    # backward substitution \n",
    "    x=np.zeros(n) \n",
    "    x[n-1]=rho[n-1] \n",
    "    for i in range(n-2,-1,-1): \n",
    "        x[i]=rho[i]-gam[i]*x[i+1]\n",
    "    return x\n",
    "\n",
    "\n",
    "def Tf(x):\n",
    "    return 4*x*(1-x)\n",
    "\n",
    "\n",
    "tstep = 0.01\n",
    "xstep = 0.01\n",
    "D = 1\n",
    "alpha = D*tstep/xstep**2\n",
    "\n",
    "n = 101\n",
    "a = np.zeros(n)\n",
    "b = np.zeros(n)\n",
    "c = np.zeros(n)\n",
    "T1= np.zeros(n)\n",
    "x = np.zeros(n)\n",
    "\n",
    "t = 0\n",
    "for i in range(n):\n",
    "    a[i] = -alpha\n",
    "    b[i] = 1+2*alpha\n",
    "    c[i] = -alpha\n",
    "    x[i] = i*xstep\n",
    "    T1[i] =Tf(x[i])\n",
    "\n",
    "\n",
    "tmax = 0.1\n",
    "while(t<=tmax):\n",
    "    t = t + tstep\n",
    "    T1 = tridiagonal(n,T1,a,b,c)\n",
    "\n",
    "x = np.linspace(0, 1, 101)\n",
    "plt.figure(1, figsize = (5,5))\n",
    "plt.plot(x, T1, label = '$\\delta t$ = 0.01')\n",
    "#plt.plot(x, heateq(0.001, 0.01, 0.1), label = '$\\delta t$ = 0.001')\n",
    "plt.legend()\n",
    "\n"
   ]
  },
  {
   "cell_type": "code",
   "execution_count": null,
   "metadata": {},
   "outputs": [],
   "source": []
  },
  {
   "cell_type": "code",
   "execution_count": 16,
   "metadata": {},
   "outputs": [
    {
     "data": {
      "text/plain": [
       "<matplotlib.colorbar.Colorbar at 0x2a596a4e240>"
      ]
     },
     "execution_count": 16,
     "metadata": {},
     "output_type": "execute_result"
    },
    {
     "data": {
      "image/png": "[encoded data removed]",
      "text/plain": [
       "<Figure size 432x288 with 2 Axes>"
      ]
     },
     "metadata": {
      "needs_background": "light"
     },
     "output_type": "display_data"
    }
   ],
   "source": [
    "ans = []\n",
    "\n",
    "x = np.linspace(0, 1, 101)\n",
    "\n",
    "tstep = 0.001 \n",
    "temp = Tf(x)\n",
    "n = 101\n",
    "\n",
    "for i in range(200):\n",
    "    temp =  tridiagonal(n,temp,a,b,c)\n",
    "    ans.append(temp)\n",
    "    \n",
    "    \n",
    "plt.imshow(ans, extent=[0,1,0,0.2], origin='lower', aspect='auto')\n",
    "plt.colorbar()"
   ]
  },
  {
   "cell_type": "code",
   "execution_count": null,
   "metadata": {},
   "outputs": [],
   "source": []
  },
  {
   "cell_type": "markdown",
   "metadata": {},
   "source": [
    "이선재 코드"
   ]
  },
  {
   "cell_type": "code",
   "execution_count": 13,
   "metadata": {},
   "outputs": [
    {
     "data": {
      "text/plain": [
       "<matplotlib.colorbar.Colorbar at 0x2a59656c390>"
      ]
     },
     "execution_count": 13,
     "metadata": {},
     "output_type": "execute_result"
    },
    {
     "data": {
      "image/png": "[encoded data removed]",
      "text/plain": [
       "<Figure size 432x288 with 2 Axes>"
      ]
     },
     "metadata": {
      "needs_background": "light"
     },
     "output_type": "display_data"
    }
   ],
   "source": [
    "ans=[]\n",
    "dt=0.001\n",
    "\n",
    "dx = 0.01 \n",
    "alpha=D*dt/dx/dx\n",
    "\n",
    "n=101\n",
    "x=np.linspace(0, 1, n)\n",
    "init_temp=4*x*(1-x)\n",
    "\n",
    "a=-alpha*np.ones(n)\n",
    "b=(1+2*alpha)*np.ones(n)\n",
    "c=-alpha*np.ones(n)\n",
    "temp=init_temp\n",
    "\n",
    "\n",
    "for i in range(200):\n",
    "    temp=tridiagonal(n, temp, a, b, c)\n",
    "    ans.append(temp)\n",
    "    \n",
    "plt.imshow(ans, extent=[0,1,0,0.2], origin='lower', aspect='auto')\n",
    "plt.colorbar()"
   ]
  },
  {
   "cell_type": "code",
   "execution_count": null,
   "metadata": {},
   "outputs": [],
   "source": []
  },
  {
   "cell_type": "code",
   "execution_count": null,
   "metadata": {},
   "outputs": [],
   "source": []
  }
 ],
 "metadata": {
  "kernelspec": {
   "display_name": "Python 3",
   "language": "python",
   "name": "python3"
  },
  "language_info": {
   "codemirror_mode": {
    "name": "ipython",
    "version": 3
   },
   "file_extension": ".py",
   "mimetype": "text/x-python",
   "name": "python",
   "nbconvert_exporter": "python",
   "pygments_lexer": "ipython3",
   "version": "3.7.3"
  }
 },
 "nbformat": 4,
 "nbformat_minor": 2
}
