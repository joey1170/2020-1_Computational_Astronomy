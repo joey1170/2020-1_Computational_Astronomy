{
 "cells": [
  {
   "cell_type": "markdown",
   "metadata": {},
   "source": [
    "## Convergence Rate\n"
   ]
  },
  {
   "cell_type": "markdown",
   "metadata": {},
   "source": [
    "## 내 방법"
   ]
  },
  {
   "cell_type": "code",
   "execution_count": 27,
   "metadata": {},
   "outputs": [],
   "source": [
    "import numpy as np\n",
    "import sympy as sp\n",
    "import matplotlib.pyplot as plt\n",
    "\n",
    "\n",
    "def func(x):\n",
    "    f = pow(x,6) - x -1\n",
    "    return f\n",
    "\n",
    "def func_prime(x):\n",
    "    f = 6*x**5-1\n",
    "    return f\n",
    "\n",
    "\n"
   ]
  },
  {
   "cell_type": "code",
   "execution_count": 30,
   "metadata": {},
   "outputs": [
    {
     "name": "stdout",
     "output_type": "stream",
     "text": [
      "계산중\n",
      "1.1347241384015194\n"
     ]
    },
    {
     "data": {
      "text/plain": [
       "-8.881784197001252e-16"
      ]
     },
     "execution_count": 30,
     "metadata": {},
     "output_type": "execute_result"
    }
   ],
   "source": [
    "k = 2\n",
    "eps = 10**-19\n",
    "err = eps + 1\n",
    "loop = 0 \n",
    "while (err >= eps):  #epsilon\n",
    "    loop += 1\n",
    "    k = k - func(k)/func_prime(k)\n",
    "    if (loop > 100): break\n",
    "    if func(k) - 0 < eps: break    \n",
    "    if loop % 4 ==0: print(\"계산중\")\n",
    "    \n",
    "print(k)\n",
    "f(1.1347241384015194)"
   ]
  },
  {
   "cell_type": "code",
   "execution_count": 15,
   "metadata": {},
   "outputs": [
    {
     "data": {
      "image/png": "[encoded data removed]",
      "text/plain": [
       "<Figure size 432x288 with 1 Axes>"
      ]
     },
     "metadata": {
      "needs_background": "light"
     },
     "output_type": "display_data"
    }
   ],
   "source": [
    "x = np.linspace(-100,200,1000)\n",
    "f = pow(x,6) - x -1\n",
    "\n",
    "# plt.xlim(-1,1)\n",
    "# plt.ylim(-1,0.1)\n",
    "plt.plot(x,f)\n",
    "plt.show()"
   ]
  },
  {
   "cell_type": "code",
   "execution_count": null,
   "metadata": {},
   "outputs": [],
   "source": [
    "\n"
   ]
  },
  {
   "cell_type": "code",
   "execution_count": null,
   "metadata": {},
   "outputs": [],
   "source": [
    "\n",
    "\n"
   ]
  },
  {
   "cell_type": "code",
   "execution_count": null,
   "metadata": {},
   "outputs": [],
   "source": []
  },
  {
   "cell_type": "code",
   "execution_count": null,
   "metadata": {},
   "outputs": [],
   "source": []
  },
  {
   "cell_type": "code",
   "execution_count": 23,
   "metadata": {},
   "outputs": [],
   "source": [
    "def find(x0, TOL, f, df):\n",
    "    count = 0\n",
    "    error = 1\n",
    "    while error >= TOL:\n",
    "        x1 = x0 - f(x0)/df(x0)\n",
    "        \n",
    "        error = abs(x1 - x0)\n",
    "        \n",
    "        x0 = x1\n",
    "\n",
    "        count += 1\n",
    "        if(count > 100):\n",
    "            print('break')\n",
    "            break\n",
    "            \n",
    "    return x1\n"
   ]
  },
  {
   "cell_type": "code",
   "execution_count": 25,
   "metadata": {},
   "outputs": [
    {
     "name": "stdout",
     "output_type": "stream",
     "text": [
      "break\n",
      "-0.5766645986247398\n"
     ]
    },
    {
     "data": {
      "text/plain": [
       "-0.3865614967278337"
      ]
     },
     "execution_count": 25,
     "metadata": {},
     "output_type": "execute_result"
    }
   ],
   "source": [
    "def f(x):\n",
    "    return pow(x,6) - x -1\n",
    "\n",
    "def df(x):\n",
    "    return x**5-1\n",
    "\n",
    "x = 4\n",
    "TOL = 10**-18\n",
    "root = find(x, TOL, f, df)\n",
    "\n",
    "print(root)\n",
    "\n",
    "\n",
    "f(-0.5766645986247398)"
   ]
  },
  {
   "cell_type": "code",
   "execution_count": null,
   "metadata": {},
   "outputs": [],
   "source": []
  },
  {
   "cell_type": "code",
   "execution_count": null,
   "metadata": {},
   "outputs": [],
   "source": []
  },
  {
   "cell_type": "code",
   "execution_count": null,
   "metadata": {},
   "outputs": [],
   "source": []
  },
  {
   "cell_type": "code",
   "execution_count": null,
   "metadata": {},
   "outputs": [],
   "source": []
  },
  {
   "cell_type": "markdown",
   "metadata": {},
   "source": [
    "## 교수님의 코드 뉴턴 방법"
   ]
  },
  {
   "cell_type": "code",
   "execution_count": 34,
   "metadata": {},
   "outputs": [],
   "source": [
    "def NR(x):\n",
    "    f = pow(x,6)-x-1\n",
    "    df = 6*pow(x,5)-1\n",
    "    return f,df"
   ]
  },
  {
   "cell_type": "code",
   "execution_count": 38,
   "metadata": {},
   "outputs": [
    {
     "name": "stdout",
     "output_type": "stream",
     "text": [
      "loop= 1   x=1.68063  f=61.00000   err=3.193717e-01\n",
      "loop= 2   x=1.43074  f=19.85294   err=2.498893e-01\n",
      "loop= 3   x=1.25497  f=6.14680   err=1.757680e-01\n",
      "loop= 4   x=1.16154  f=1.65166   err=9.343252e-02\n",
      "loop= 5   x=1.13635  f=0.29431   err=2.518516e-02\n",
      "loop= 6   x=1.13473  f=0.01683   err=1.622746e-03\n",
      "loop= 7   x=1.13472  f=0.00007   err=6.389843e-06\n",
      "loop= 8   x=1.13472  f=0.00000   err=9.870163e-11\n",
      "loop= 9   x=1.13472  f=-0.00000   err=8.633461e-17\n"
     ]
    }
   ],
   "source": [
    "TOL = 1.e-15\n",
    "x = 2\n",
    "err = 1\n",
    "loop = 0\n",
    "while (err > TOL):\n",
    "    loop+=1\n",
    "    if(loop>100):break\n",
    "    f0,f1=NR(x)\n",
    "    err=abs(f0/f1)\n",
    "    x = x - (f0/f1)\n",
    "    print(\"loop={:2d}   x={:.5f}  f={:.5f}   err={:5e}\".format(loop,x,f0,err))"
   ]
  },
  {
   "cell_type": "markdown",
   "metadata": {},
   "source": [
    "### 방정식의 근이 여러개 일 경우 접선에 따라서 가까운 곳으로 찾아갈 수도 있다. "
   ]
  },
  {
   "cell_type": "code",
   "execution_count": null,
   "metadata": {},
   "outputs": [],
   "source": []
  },
  {
   "cell_type": "code",
   "execution_count": null,
   "metadata": {},
   "outputs": [],
   "source": []
  },
  {
   "cell_type": "code",
   "execution_count": null,
   "metadata": {},
   "outputs": [],
   "source": []
  },
  {
   "cell_type": "code",
   "execution_count": null,
   "metadata": {},
   "outputs": [],
   "source": []
  },
  {
   "cell_type": "code",
   "execution_count": null,
   "metadata": {},
   "outputs": [],
   "source": []
  },
  {
   "cell_type": "markdown",
   "metadata": {},
   "source": [
    "### Secant Method"
   ]
  },
  {
   "cell_type": "markdown",
   "metadata": {},
   "source": [
    "### 내가 푼 방법"
   ]
  },
  {
   "cell_type": "code",
   "execution_count": null,
   "metadata": {},
   "outputs": [],
   "source": [
    "\n",
    "def func(x):\n",
    "    return pow(x,6)-x-1"
   ]
  },
  {
   "cell_type": "code",
   "execution_count": 58,
   "metadata": {},
   "outputs": [
    {
     "name": "stdout",
     "output_type": "stream",
     "text": [
      "loop= 1   x3=2.99492  f=717.63155   err=5.078738e-03\n",
      "loop= 2   x3=2.98989  f=710.39412   err=7.010109e+00\n",
      "loop= 3   x3=2.49610  f=238.36589   err=4.988253e-01\n",
      "loop= 4   x3=2.24674  f=125.37519   err=7.431521e-01\n",
      "loop= 5   x3=1.97005  f=55.49052   err=5.260462e-01\n",
      "loop= 6   x3=1.75035  f=26.00709   err=4.963878e-01\n",
      "loop= 7   x3=1.55656  f=11.66634   err=4.134939e-01\n",
      "loop= 8   x3=1.39890  f=5.09526   err=3.514488e-01\n",
      "loop= 9   x3=1.27666  f=2.05289   err=2.799001e-01\n",
      "loop=10   x3=1.19417  f=0.70580   err=2.047338e-01\n",
      "loop=11   x3=1.15095  f=0.17359   err=1.257061e-01\n",
      "loop=12   x3=1.13685  f=0.02201   err=5.731546e-02\n",
      "loop=13   x3=1.13481  f=0.00084   err=1.614381e-02\n",
      "loop=14   x3=1.13472  f=0.00000   err=2.127942e-03\n",
      "loop=15   x3=1.13472  f=0.00000   err=8.160760e-05\n",
      "loop=16   x3=1.13472  f=0.00000   err=4.187180e-07\n",
      "loop=17   x3=1.13472  f=-0.00000   err=8.259349e-11\n",
      "loop=18   x3=1.13472  f=-0.00000   err=2.220446e-16\n"
     ]
    }
   ],
   "source": [
    "TOL = 1.e-15\n",
    "x1 = 3\n",
    "x2 = 10\n",
    "\n",
    "err = 1\n",
    "loop = 0\n",
    "while (err > TOL):\n",
    "    loop+=1\n",
    "    if(loop>100):break\n",
    "    f1 = func(x1)\n",
    "    f2 = func(x2)\n",
    "    x3 = x2 - f2 * ((x2-x1)/(f2-f1))\n",
    "    err=abs(x3-x1)\n",
    "    x1 = x2\n",
    "    x2 = x3\n",
    "    print(\"loop={:2d}   x3={:.5f}  f={:.5f}   err={:5e}\".format(loop,x3,func(x3),err))"
   ]
  },
  {
   "cell_type": "code",
   "execution_count": null,
   "metadata": {},
   "outputs": [],
   "source": []
  },
  {
   "cell_type": "code",
   "execution_count": null,
   "metadata": {},
   "outputs": [],
   "source": []
  },
  {
   "cell_type": "markdown",
   "metadata": {},
   "source": [
    "## 교수님의 풀이법\n"
   ]
  },
  {
   "cell_type": "code",
   "execution_count": 43,
   "metadata": {},
   "outputs": [
    {
     "ename": "ZeroDivisionError",
     "evalue": "division by zero",
     "output_type": "error",
     "traceback": [
      "\u001b[1;31m---------------------------------------------------------------------------\u001b[0m",
      "\u001b[1;31mZeroDivisionError\u001b[0m                         Traceback (most recent call last)",
      "\u001b[1;32m<ipython-input-43-27687a9f2cb1>\u001b[0m in \u001b[0;36m<module>\u001b[1;34m\u001b[0m\n\u001b[0;32m      4\u001b[0m \u001b[0mx\u001b[0m \u001b[1;33m=\u001b[0m \u001b[1;33m[\u001b[0m\u001b[1;33m-\u001b[0m\u001b[1;36m10\u001b[0m\u001b[1;33m,\u001b[0m \u001b[1;36m10\u001b[0m\u001b[1;33m]\u001b[0m\u001b[1;33m\u001b[0m\u001b[1;33m\u001b[0m\u001b[0m\n\u001b[0;32m      5\u001b[0m \u001b[0mTOL\u001b[0m \u001b[1;33m=\u001b[0m \u001b[1;36m10\u001b[0m\u001b[1;33m**\u001b[0m\u001b[1;33m-\u001b[0m\u001b[1;36m5\u001b[0m\u001b[1;33m\u001b[0m\u001b[1;33m\u001b[0m\u001b[0m\n\u001b[1;32m----> 6\u001b[1;33m \u001b[0mroot\u001b[0m \u001b[1;33m=\u001b[0m \u001b[0mSecant\u001b[0m\u001b[1;33m(\u001b[0m\u001b[0mx\u001b[0m\u001b[1;33m,\u001b[0m \u001b[0mTOL\u001b[0m\u001b[1;33m,\u001b[0m \u001b[0mf\u001b[0m\u001b[1;33m)\u001b[0m\u001b[1;33m\u001b[0m\u001b[1;33m\u001b[0m\u001b[0m\n\u001b[0m\u001b[0;32m      7\u001b[0m \u001b[1;33m\u001b[0m\u001b[0m\n\u001b[0;32m      8\u001b[0m \u001b[0mprint\u001b[0m\u001b[1;33m(\u001b[0m\u001b[0mroot\u001b[0m\u001b[1;33m)\u001b[0m\u001b[1;33m\u001b[0m\u001b[1;33m\u001b[0m\u001b[0m\n",
      "\u001b[1;32m<ipython-input-42-143ecb43198c>\u001b[0m in \u001b[0;36mSecant\u001b[1;34m(x, TOL, func)\u001b[0m\n\u001b[0;32m     10\u001b[0m         \u001b[0mf2\u001b[0m \u001b[1;33m=\u001b[0m \u001b[0mfunc\u001b[0m\u001b[1;33m(\u001b[0m\u001b[0mx2\u001b[0m\u001b[1;33m)\u001b[0m\u001b[1;33m\u001b[0m\u001b[1;33m\u001b[0m\u001b[0m\n\u001b[0;32m     11\u001b[0m \u001b[1;33m\u001b[0m\u001b[0m\n\u001b[1;32m---> 12\u001b[1;33m         \u001b[0mx3\u001b[0m \u001b[1;33m=\u001b[0m \u001b[0mx2\u001b[0m \u001b[1;33m-\u001b[0m \u001b[0mf2\u001b[0m\u001b[1;33m*\u001b[0m\u001b[1;33m(\u001b[0m\u001b[0mx2\u001b[0m \u001b[1;33m-\u001b[0m \u001b[0mx1\u001b[0m\u001b[1;33m)\u001b[0m\u001b[1;33m/\u001b[0m\u001b[1;33m(\u001b[0m\u001b[0mf2\u001b[0m \u001b[1;33m-\u001b[0m \u001b[0mf1\u001b[0m\u001b[1;33m)\u001b[0m\u001b[1;33m\u001b[0m\u001b[1;33m\u001b[0m\u001b[0m\n\u001b[0m\u001b[0;32m     13\u001b[0m \u001b[1;33m\u001b[0m\u001b[0m\n\u001b[0;32m     14\u001b[0m         \u001b[0merror\u001b[0m \u001b[1;33m=\u001b[0m \u001b[0mabs\u001b[0m\u001b[1;33m(\u001b[0m\u001b[0mx3\u001b[0m \u001b[1;33m-\u001b[0m \u001b[0mx1\u001b[0m\u001b[1;33m)\u001b[0m\u001b[1;33m\u001b[0m\u001b[1;33m\u001b[0m\u001b[0m\n",
      "\u001b[1;31mZeroDivisionError\u001b[0m: division by zero"
     ]
    }
   ],
   "source": []
  },
  {
   "cell_type": "code",
   "execution_count": null,
   "metadata": {},
   "outputs": [],
   "source": []
  },
  {
   "cell_type": "code",
   "execution_count": null,
   "metadata": {},
   "outputs": [],
   "source": []
  },
  {
   "cell_type": "code",
   "execution_count": null,
   "metadata": {},
   "outputs": [],
   "source": []
  },
  {
   "cell_type": "markdown",
   "metadata": {},
   "source": [
    "# Example  tan pi x - 6"
   ]
  },
  {
   "cell_type": "code",
   "execution_count": null,
   "metadata": {},
   "outputs": [],
   "source": []
  },
  {
   "cell_type": "code",
   "execution_count": 64,
   "metadata": {},
   "outputs": [],
   "source": [
    "\n",
    "def func(x):\n",
    "    return np.tan(np.pi*x) - 6"
   ]
  },
  {
   "cell_type": "code",
   "execution_count": 79,
   "metadata": {},
   "outputs": [
    {
     "name": "stdout",
     "output_type": "stream",
     "text": [
      "loop= 1   x3=0.418240449937923  f=-2.19275   err=1.824045e-02\n",
      "loop= 2   x3=0.429444232066420  f=-1.56266   err=5.055577e-02\n",
      "loop= 3   x3=0.457230361057407  f=1.39758   err=3.898991e-02\n",
      "loop= 4   x3=0.444112050716810  f=-0.36315   err=1.466782e-02\n",
      "loop= 5   x3=0.446817662750469  f=-0.07054   err=1.041270e-02\n",
      "loop= 6   x3=0.447469927757017  f=0.00447   err=3.357877e-03\n",
      "loop= 7   x3=0.447431099172228  f=-0.00005   err=6.134364e-04\n",
      "loop= 8   x3=0.447431542967413  f=-0.00000   err=3.838479e-05\n",
      "loop= 9   x3=0.447431543288749  f=0.00000   err=4.441165e-07\n",
      "loop=10   x3=0.447431543288747  f=-0.00000   err=3.213338e-10\n",
      "loop=11   x3=0.447431543288747  f=0.00000   err=2.664535e-15\n",
      "loop=12   x3=0.447431543288747  f=0.00000   err=5.551115e-17\n"
     ]
    }
   ],
   "source": [
    "TOL = 1.e-15\n",
    "x1 = 0.4\n",
    "x2 = 0.48\n",
    "\n",
    "err = 1\n",
    "loop = 0\n",
    "while (err > TOL):\n",
    "    loop+=1\n",
    "    if(loop> 200): \n",
    "        print(\"loop에 빠졌습니다.\") \n",
    "        break \n",
    "    f1 = func(x1)\n",
    "    f2 = func(x2)\n",
    "    x3 = x2 - f2 * ((x2-x1)/(f2-f1))\n",
    "    err=abs(x3-x1)\n",
    "    x1 = x2\n",
    "    x2 = x3\n",
    "    print(\"loop={:2d}   x3={:.15f}  f={:.5f}   err={:5e}\".format(loop,x3,func(x3),err))"
   ]
  },
  {
   "cell_type": "code",
   "execution_count": null,
   "metadata": {},
   "outputs": [],
   "source": []
  },
  {
   "cell_type": "markdown",
   "metadata": {},
   "source": [
    "## False Position Method"
   ]
  },
  {
   "cell_type": "code",
   "execution_count": 81,
   "metadata": {},
   "outputs": [
    {
     "name": "stdout",
     "output_type": "stream",
     "text": [
      "loop= 1   x3=0.418240449937923  f=-2.19275   err=1.824045e-02\n",
      "loop= 2   x3=0.429444232066420  f=-1.56266   err=1.120378e-02\n",
      "loop= 3   x3=0.436339600149082  f=-1.06672   err=6.895368e-03\n",
      "loop= 4   x3=0.440588508043461  f=-0.70464   err=4.248908e-03\n",
      "loop= 5   x3=0.443208623690410  f=-0.45470   err=2.620116e-03\n",
      "loop= 6   x3=0.444825074298542  f=-0.28879   err=1.616451e-03\n",
      "loop= 7   x3=0.445822606443629  f=-0.18152   err=9.975321e-04\n",
      "loop= 8   x3=0.446438303216452  f=-0.11333   err=6.156968e-04\n",
      "loop= 9   x3=0.446818364333244  f=-0.07046   err=3.800611e-04\n",
      "loop=10   x3=0.447052986342669  f=-0.04369   err=2.346220e-04\n",
      "loop=11   x3=0.447197830773805  f=-0.02705   err=1.448444e-04\n",
      "loop=12   x3=0.447287253067831  f=-0.01673   err=8.942229e-05\n",
      "loop=13   x3=0.447342460376054  f=-0.01034   err=5.520731e-05\n",
      "loop=14   x3=0.447376544451021  f=-0.00639   err=3.408407e-05\n",
      "loop=15   x3=0.447397587517539  f=-0.00394   err=2.104307e-05\n",
      "loop=16   x3=0.447410579281903  f=-0.00244   err=1.299176e-05\n",
      "loop=17   x3=0.447418600276507  f=-0.00150   err=8.020995e-06\n",
      "loop=18   x3=0.447423552370963  f=-0.00093   err=4.952094e-06\n",
      "loop=19   x3=0.447426609754971  f=-0.00057   err=3.057384e-06\n",
      "loop=20   x3=0.447428497360717  f=-0.00035   err=1.887606e-06\n",
      "loop=21   x3=0.447429662754601  f=-0.00022   err=1.165394e-06\n",
      "loop=22   x3=0.447430382260346  f=-0.00013   err=7.195057e-07\n",
      "loop=23   x3=0.447430826478040  f=-0.00008   err=4.442177e-07\n",
      "loop=24   x3=0.447431100734882  f=-0.00005   err=2.742568e-07\n",
      "loop=25   x3=0.447431270059114  f=-0.00003   err=1.693242e-07\n",
      "loop=26   x3=0.447431374598698  f=-0.00002   err=1.045396e-07\n",
      "loop=27   x3=0.447431439140699  f=-0.00001   err=6.454200e-08\n",
      "loop=28   x3=0.447431478988475  f=-0.00001   err=3.984778e-08\n",
      "loop=29   x3=0.447431503590212  f=-0.00000   err=2.460174e-08\n",
      "loop=30   x3=0.447431518779151  f=-0.00000   err=1.518894e-08\n",
      "loop=31   x3=0.447431528156695  f=-0.00000   err=9.377544e-09\n",
      "loop=32   x3=0.447431533946324  f=-0.00000   err=5.789630e-09\n",
      "loop=33   x3=0.447431537520801  f=-0.00000   err=3.574477e-09\n",
      "loop=34   x3=0.447431539727657  f=-0.00000   err=2.206857e-09\n",
      "loop=35   x3=0.447431541090155  f=-0.00000   err=1.362498e-09\n",
      "loop=36   x3=0.447431541931352  f=-0.00000   err=8.411966e-10\n",
      "loop=37   x3=0.447431542450701  f=-0.00000   err=5.193488e-10\n",
      "loop=38   x3=0.447431542771343  f=-0.00000   err=3.206423e-10\n",
      "loop=39   x3=0.447431542969305  f=-0.00000   err=1.979623e-10\n",
      "loop=40   x3=0.447431543091526  f=-0.00000   err=1.222205e-10\n",
      "loop=41   x3=0.447431543166984  f=-0.00000   err=7.545808e-11\n",
      "loop=42   x3=0.447431543213571  f=-0.00000   err=4.658729e-11\n",
      "loop=43   x3=0.447431543242334  f=-0.00000   err=2.876266e-11\n",
      "loop=44   x3=0.447431543260092  f=-0.00000   err=1.775785e-11\n",
      "loop=45   x3=0.447431543271055  f=-0.00000   err=1.096362e-11\n",
      "loop=46   x3=0.447431543277824  f=-0.00000   err=6.768863e-12\n",
      "loop=47   x3=0.447431543282003  f=-0.00000   err=4.179046e-12\n",
      "loop=48   x3=0.447431543284583  f=-0.00000   err=2.580103e-12\n",
      "loop=49   x3=0.447431543286176  f=-0.00000   err=1.592948e-12\n",
      "loop=50   x3=0.447431543287160  f=-0.00000   err=9.834356e-13\n",
      "loop=51   x3=0.447431543287767  f=-0.00000   err=6.071810e-13\n",
      "loop=52   x3=0.447431543288142  f=-0.00000   err=3.748668e-13\n",
      "loop=53   x3=0.447431543288373  f=-0.00000   err=2.314260e-13\n",
      "loop=54   x3=0.447431543288516  f=-0.00000   err=1.428857e-13\n",
      "loop=55   x3=0.447431543288604  f=-0.00000   err=8.826273e-14\n",
      "loop=56   x3=0.447431543288659  f=-0.00000   err=5.445644e-14\n",
      "loop=57   x3=0.447431543288692  f=-0.00000   err=3.363976e-14\n",
      "loop=58   x3=0.447431543288713  f=-0.00000   err=2.076117e-14\n",
      "loop=59   x3=0.447431543288726  f=-0.00000   err=1.282308e-14\n",
      "loop=60   x3=0.447431543288734  f=-0.00000   err=7.938095e-15\n",
      "loop=61   x3=0.447431543288739  f=-0.00000   err=4.884981e-15\n",
      "loop=62   x3=0.447431543288742  f=-0.00000   err=2.997602e-15\n",
      "loop=63   x3=0.447431543288744  f=-0.00000   err=1.831868e-15\n",
      "loop=64   x3=0.447431543288745  f=-0.00000   err=1.165734e-15\n",
      "loop=65   x3=0.447431543288745  f=-0.00000   err=7.216450e-16\n"
     ]
    }
   ],
   "source": [
    "import numpy as np\n",
    "\n",
    "def func(x):\n",
    "    return np.tan(np.pi*x) - 6\n",
    "\n",
    "TOL = 1.e-15\n",
    "x1 = 0.4\n",
    "x2 = 0.48\n",
    "\n",
    "err = 1\n",
    "loop = 0\n",
    "while (err > TOL):\n",
    "    loop+=1\n",
    "    if(loop>200):break\n",
    "    f1 = func(x1)\n",
    "    f2 = func(x2)\n",
    "    x3 = x2 - f2 * ((x2-x1)/(f2-f1))\n",
    "    err=abs(x3-x1)\n",
    "    if func(x1)*func(x3)<0:\n",
    "        x2 = x3\n",
    "    else:\n",
    "        x1 = x3\n",
    "    if func(x2)*func(x3)<0:\n",
    "        x1 = x3\n",
    "    else:\n",
    "        x2 = x3\n",
    "    print(\"loop={:2d}   x3={:.15f}  f={:.5f}   err={:5e}\".format(loop,x3,func(x3),err))"
   ]
  },
  {
   "cell_type": "markdown",
   "metadata": {},
   "source": [
    "#### First SEcant method로 해 못찾음 \n",
    "#### Second secan tmethod로 해 빨리 찾음\n",
    "###### sFinally position method를 써서 해를 찾을 수 있으나 안전하게 loop 많이 돔 5배 가까이 느림 "
   ]
  },
  {
   "cell_type": "code",
   "execution_count": null,
   "metadata": {},
   "outputs": [],
   "source": []
  },
  {
   "cell_type": "code",
   "execution_count": null,
   "metadata": {},
   "outputs": [],
   "source": []
  },
  {
   "cell_type": "code",
   "execution_count": null,
   "metadata": {},
   "outputs": [],
   "source": []
  },
  {
   "cell_type": "code",
   "execution_count": null,
   "metadata": {},
   "outputs": [],
   "source": []
  },
  {
   "cell_type": "markdown",
   "metadata": {},
   "source": [
    "Newton 방법은 좋은데 단점이 derivative를 알아야 한다는 단점\n",
    "우리가 하는 건 미분값을 쉽게 알 수 있는 것들만 나오지만 연구를 하면서 만나는 것들은 미분값을 구하기가 되게 어려움 \n",
    "\n",
    "Secant Method는 미분을 할 필요가 없어서 실제 연구를 할 때에는 이런 방법을 많이 쓴다. "
   ]
  },
  {
   "cell_type": "code",
   "execution_count": 4,
   "metadata": {},
   "outputs": [],
   "source": [
    "\n",
    "\n",
    "import numpy as np"
   ]
  },
  {
   "cell_type": "code",
   "execution_count": 10,
   "metadata": {},
   "outputs": [
    {
     "name": "stdout",
     "output_type": "stream",
     "text": [
      "0.000000000000000  0.000000000000000\n",
      "1.000000000000000  3.000000000000000\n",
      "1.420735492403948  3.282240016119734\n",
      "1.494380992564321  2.719631771815563\n",
      "1.498540884399169  3.819100254885136\n",
      "1.498695355521898  1.746293896516521\n",
      "1.498700925407042  4.969279572147620\n",
      "1.498701126022440  1.065630652992157\n",
      "1.498701133247891  4.750188616394651\n",
      "1.498701133508126  1.001428642365162\n",
      "1.498701133517498  4.684484049160973\n",
      "1.498701133517836  1.000778634658694\n",
      "1.498701133517848  4.683782855573602\n",
      "1.498701133517848  1.000818254575573\n",
      "1.498701133517848  4.683825615786148\n",
      "1.498701133517848  1.000815810328948\n",
      "1.498701133517848  4.683822977883737\n",
      "1.498701133517848  1.000815961010150\n",
      "1.498701133517848  4.683823140503586\n",
      "1.498701133517848  1.000815951720642\n",
      "1.498701133517848  4.683823130478061\n",
      "1.498701133517848  1.000815952293339\n",
      "1.498701133517848  4.683823131096133\n",
      "1.498701133517848  1.000815952258032\n",
      "1.498701133517848  4.683823131058029\n",
      "1.498701133517848  1.000815952260209\n",
      "1.498701133517848  4.683823131060379\n",
      "1.498701133517848  1.000815952260075\n",
      "1.498701133517848  4.683823131060233\n",
      "1.498701133517848  1.000815952260083\n",
      "1.498701133517848  4.683823131060242\n",
      "1.498701133517848  1.000815952260083\n",
      "1.498701133517848  4.683823131060242\n",
      "1.498701133517848  1.000815952260083\n",
      "1.498701133517848  4.683823131060242\n",
      "1.498701133517848  1.000815952260083\n",
      "1.498701133517848  4.683823131060242\n",
      "1.498701133517848  1.000815952260083\n",
      "1.498701133517848  4.683823131060242\n",
      "1.498701133517848  1.000815952260083\n",
      "1.498701133517848  4.683823131060242\n",
      "1.498701133517848  1.000815952260083\n",
      "1.498701133517848  4.683823131060242\n",
      "1.498701133517848  1.000815952260083\n",
      "1.498701133517848  4.683823131060242\n",
      "1.498701133517848  1.000815952260083\n",
      "1.498701133517848  4.683823131060242\n",
      "1.498701133517848  1.000815952260083\n",
      "1.498701133517848  4.683823131060242\n",
      "1.498701133517848  1.000815952260083\n",
      "1.498701133517848  4.683823131060242\n",
      "1.498701133517848  1.000815952260083\n",
      "1.498701133517848  4.683823131060242\n",
      "1.498701133517848  1.000815952260083\n",
      "1.498701133517848  4.683823131060242\n",
      "1.498701133517848  1.000815952260083\n",
      "1.498701133517848  4.683823131060242\n",
      "1.498701133517848  1.000815952260083\n",
      "1.498701133517848  4.683823131060242\n",
      "1.498701133517848  1.000815952260083\n",
      "1.498701133517848  4.683823131060242\n",
      "1.498701133517848  1.000815952260083\n",
      "1.498701133517848  4.683823131060242\n",
      "1.498701133517848  1.000815952260083\n",
      "1.498701133517848  4.683823131060242\n",
      "1.498701133517848  1.000815952260083\n",
      "1.498701133517848  4.683823131060242\n",
      "1.498701133517848  1.000815952260083\n",
      "1.498701133517848  4.683823131060242\n",
      "1.498701133517848  1.000815952260083\n",
      "1.498701133517848  4.683823131060242\n",
      "1.498701133517848  1.000815952260083\n",
      "1.498701133517848  4.683823131060242\n",
      "1.498701133517848  1.000815952260083\n",
      "1.498701133517848  4.683823131060242\n",
      "1.498701133517848  1.000815952260083\n",
      "1.498701133517848  4.683823131060242\n",
      "1.498701133517848  1.000815952260083\n",
      "1.498701133517848  4.683823131060242\n",
      "1.498701133517848  1.000815952260083\n",
      "1.498701133517848  4.683823131060242\n",
      "1.498701133517848  1.000815952260083\n",
      "1.498701133517848  4.683823131060242\n",
      "1.498701133517848  1.000815952260083\n",
      "1.498701133517848  4.683823131060242\n",
      "1.498701133517848  1.000815952260083\n",
      "1.498701133517848  4.683823131060242\n",
      "1.498701133517848  1.000815952260083\n",
      "1.498701133517848  4.683823131060242\n",
      "1.498701133517848  1.000815952260083\n",
      "1.498701133517848  4.683823131060242\n",
      "1.498701133517848  1.000815952260083\n",
      "1.498701133517848  4.683823131060242\n",
      "1.498701133517848  1.000815952260083\n",
      "1.498701133517848  4.683823131060242\n",
      "1.498701133517848  1.000815952260083\n",
      "1.498701133517848  4.683823131060242\n",
      "1.498701133517848  1.000815952260083\n",
      "1.498701133517848  4.683823131060242\n",
      "1.498701133517848  1.000815952260083\n"
     ]
    }
   ],
   "source": [
    "def func1(x):\n",
    "    return 1+0.5*np.sin(x)\n",
    "\n",
    "def func2(x):\n",
    "    return 3 + 2*np.sin(x)\n",
    "\n",
    "x=0\n",
    "y=0\n",
    "\n",
    "for i in range(100):\n",
    "    print(\"{:.15f}  {:.15f}\".format(x,y))\n",
    "    x = func1(x)\n",
    "    y = func2(y)\n",
    "    \n"
   ]
  },
  {
   "cell_type": "code",
   "execution_count": 17,
   "metadata": {},
   "outputs": [
    {
     "data": {
      "image/png": "[encoded data removed]",
      "text/plain": [
       "<Figure size 432x288 with 1 Axes>"
      ]
     },
     "metadata": {
      "needs_background": "light"
     },
     "output_type": "display_data"
    }
   ],
   "source": [
    "import matplotlib.pyplot as plt\n",
    "x = np.linspace(0, np.pi*3, 1000)\n",
    "plt.plot(x, func1(x))\n",
    "plt.plot(x, func2(x))\n",
    "plt.show()"
   ]
  },
  {
   "cell_type": "code",
   "execution_count": null,
   "metadata": {},
   "outputs": [],
   "source": [
    "# Example"
   ]
  },
  {
   "cell_type": "code",
   "execution_count": 32,
   "metadata": {},
   "outputs": [
    {
     "name": "stdout",
     "output_type": "stream",
     "text": [
      "3.076421163792757\n"
     ]
    }
   ],
   "source": [
    "def func(x):\n",
    "    return np.cos(x)+(1/(1+np.exp(-2*x)))\n",
    "\n",
    "\n",
    "a = 3\n",
    "b = 3.1\n",
    "eps = 10**-16\n",
    "err = eps + 1\n",
    "loop = 0 \n",
    "while (err >= eps):  #epsilon\n",
    "    loop += 1\n",
    "    if (loop > 100): break\n",
    "    fa = func(a)\n",
    "    fb = func(b)\n",
    "    c = (a+b)/2\n",
    "    err = abs(c-a)\n",
    "    fc = func(c)\n",
    "    # if loop % 4 ==0: print(\"계산중\")\n",
    "    if (fa*fc <= 0.):\n",
    "        b = c\n",
    "    else:\n",
    "        a= c\n",
    "    \n",
    "print(c)"
   ]
  },
  {
   "cell_type": "code",
   "execution_count": 36,
   "metadata": {
    "scrolled": true
   },
   "outputs": [
    {
     "data": {
      "image/png": "[encoded data removed]",
      "text/plain": [
       "<Figure size 432x288 with 1 Axes>"
      ]
     },
     "metadata": {
      "needs_background": "light"
     },
     "output_type": "display_data"
    }
   ],
   "source": [
    "import matplotlib.pyplot as plt\n",
    "x = np.linspace(0, 10, 1000)\n",
    "y = np.zeros(1000)\n",
    "plt.plot(x, func(x))\n",
    "plt.axhline(0)\n",
    "plt.ylim(-0.0002,0.00002)\n",
    "plt.show()"
   ]
  },
  {
   "cell_type": "markdown",
   "metadata": {},
   "source": [
    "bisection method로 풀기 어려움... 초기조건이 잘주어야 \n",
    "되어서 넓게 주면 못찾음"
   ]
  },
  {
   "cell_type": "code",
   "execution_count": null,
   "metadata": {},
   "outputs": [],
   "source": []
  },
  {
   "cell_type": "code",
   "execution_count": null,
   "metadata": {},
   "outputs": [],
   "source": []
  },
  {
   "cell_type": "code",
   "execution_count": null,
   "metadata": {},
   "outputs": [],
   "source": []
  },
  {
   "cell_type": "code",
   "execution_count": null,
   "metadata": {},
   "outputs": [],
   "source": [
    "#"
   ]
  },
  {
   "cell_type": "code",
   "execution_count": 45,
   "metadata": {},
   "outputs": [
    {
     "name": "stdout",
     "output_type": "stream",
     "text": [
      "(1)2.000000000000000  (2)2.000000000000000\n",
      "(1)2.951643253153896  (2)-0.169305674159913\n",
      "(1)3.067778589764995  (2)nan\n",
      "(1)3.075856487452597  (2)nan\n",
      "(1)3.076384417797187  (2)nan\n",
      "(1)3.076418773195539  (2)nan\n",
      "(1)3.076421008269489  (2)nan\n",
      "(1)3.076421153675009  (2)nan\n",
      "(1)3.076421163134535  (2)nan\n",
      "(1)3.076421163749937  (2)nan\n"
     ]
    },
    {
     "name": "stderr",
     "output_type": "stream",
     "text": [
      "C:\\Users\\User\\Anaconda3\\lib\\site-packages\\ipykernel_launcher.py:8: RuntimeWarning: invalid value encountered in log\n",
      "  \n"
     ]
    }
   ],
   "source": [
    "import numpy as np\n",
    "import matplotlib.pyplot as plt\n",
    "\n",
    "def func1(x):\n",
    "    return np.arccos(-1/(1+np.exp(-2*x)))\n",
    "\n",
    "def func2(x):\n",
    "    return 0.5*np.log(-1/(1+1/np.cos(x)))\n",
    "\n",
    "x=2\n",
    "y=2\n",
    "\n",
    "for i in range(10):\n",
    "    print(\"(1){:.15f}  (2){:.15f}\".format(x,y))\n",
    "    x = func1(x)\n",
    "    y = func2(y)"
   ]
  },
  {
   "cell_type": "code",
   "execution_count": 46,
   "metadata": {},
   "outputs": [],
   "source": [
    "# 2번째 방법 그래프 기울기 1보다 커서 walking 을 안함\n"
   ]
  },
  {
   "cell_type": "code",
   "execution_count": 47,
   "metadata": {},
   "outputs": [],
   "source": [
    "## roots of polynomial example"
   ]
  },
  {
   "cell_type": "code",
   "execution_count": 53,
   "metadata": {},
   "outputs": [
    {
     "data": {
      "text/plain": [
       "array([ 1.13472414+0.j        ,  0.45105516+1.00236457j,\n",
       "        0.45105516-1.00236457j, -0.62937243+0.73575595j,\n",
       "       -0.62937243-0.73575595j, -0.7780896 +0.j        ])"
      ]
     },
     "execution_count": 53,
     "metadata": {},
     "output_type": "execute_result"
    }
   ],
   "source": [
    "p = [1, 0, 0, 0, 0, -1, -1]\n",
    "q = [-1, -1, 0, 0, 0, 0, 1]\n",
    "np.roots(p)\n",
    "#np.roots(q)"
   ]
  },
  {
   "cell_type": "code",
   "execution_count": null,
   "metadata": {},
   "outputs": [],
   "source": []
  }
 ],
 "metadata": {
  "kernelspec": {
   "display_name": "Python 3",
   "language": "python",
   "name": "python3"
  },
  "language_info": {
   "codemirror_mode": {
    "name": "ipython",
    "version": 3
   },
   "file_extension": ".py",
   "mimetype": "text/x-python",
   "name": "python",
   "nbconvert_exporter": "python",
   "pygments_lexer": "ipython3",
   "version": "3.7.3"
  }
 },
 "nbformat": 4,
 "nbformat_minor": 2
}
