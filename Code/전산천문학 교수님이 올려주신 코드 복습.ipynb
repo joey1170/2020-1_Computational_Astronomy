{
 "cells": [
  {
   "cell_type": "markdown",
   "metadata": {},
   "source": [
    "Bisection Method"
   ]
  },
  {
   "cell_type": "code",
   "execution_count": 5,
   "metadata": {},
   "outputs": [
    {
     "name": "stdout",
     "output_type": "stream",
     "text": [
      "loop 1 a 1 b 2 c 1.5 err 0.5\n",
      "loop 2 a 1 b 1.5 c 1.25 err 0.25\n",
      "loop 3 a 1 b 1.25 c 1.125 err 0.125\n",
      "loop 4 a 1.125 b 1.25 c 1.1875 err 0.0625\n",
      "loop 5 a 1.125 b 1.1875 c 1.15625 err 0.03125\n",
      "loop 6 a 1.125 b 1.15625 c 1.140625 err 0.015625\n",
      "loop 7 a 1.125 b 1.140625 c 1.1328125 err 0.0078125\n",
      "loop 8 a 1.1328125 b 1.140625 c 1.13671875 err 0.00390625\n",
      "loop 9 a 1.1328125 b 1.13671875 c 1.134765625 err 0.001953125\n",
      "loop 10 a 1.1328125 b 1.134765625 c 1.1337890625 err 0.0009765625\n",
      "loop 11 a 1.1337890625 b 1.134765625 c 1.13427734375 err 0.00048828125\n",
      "loop 12 a 1.13427734375 b 1.134765625 c 1.134521484375 err 0.000244140625\n",
      "loop 13 a 1.134521484375 b 1.134765625 c 1.1346435546875 err 0.0001220703125\n",
      "loop 14 a 1.1346435546875 b 1.134765625 c 1.13470458984375 err 6.103515625e-05\n",
      "loop 15 a 1.13470458984375 b 1.134765625 c 1.134735107421875 err 3.0517578125e-05\n",
      "loop 16 a 1.13470458984375 b 1.134735107421875 c 1.1347198486328125 err 1.52587890625e-05\n",
      "loop 17 a 1.1347198486328125 b 1.134735107421875 c 1.1347274780273438 err 7.62939453125e-06\n"
     ]
    }
   ],
   "source": [
    "def func(x):\n",
    "    f = pow(x, 6) - x - 1\n",
    "    return f\n",
    "\n",
    "eps  = 10**-5\n",
    "a, b = 1,2\n",
    "err= eps + 1\n",
    "loop = 0\n",
    "while (err >= eps):\n",
    "    loop = loop + 1\n",
    "    if(loop>100) : break\n",
    "    fa=func(a)\n",
    "    fb=func(b)\n",
    "    c=0.5*(a+b)\n",
    "    err = abs(c-a)\n",
    "    fc = func(c)\n",
    "    print(\"loop {} a {} b {} c {} err {}\".format(loop,a,b,c,err))\n",
    "    if (fa*fc <= 0):\n",
    "        b=c\n",
    "    else: \n",
    "        a=c"
   ]
  },
  {
   "cell_type": "code",
   "execution_count": null,
   "metadata": {},
   "outputs": [],
   "source": []
  },
  {
   "cell_type": "markdown",
   "metadata": {},
   "source": [
    "KahanSum"
   ]
  },
  {
   "cell_type": "code",
   "execution_count": 6,
   "metadata": {},
   "outputs": [],
   "source": [
    "def DirectSum(x, n):\n",
    "    s = 0\n",
    "    for i in range(n):\n",
    "        s = s + x\n",
    "    return (s)\n",
    "\n",
    "def KahanSum(x, n):\n",
    "    s = 0\n",
    "    c = 0\n",
    "    for i in range(n):\n",
    "        xp = x - c\n",
    "        sp = s\n",
    "        s = s + xp\n",
    "        c = ((sp+xp) - sp) - xp\n",
    "        \n",
    "    return(s)\n",
    "\n"
   ]
  },
  {
   "cell_type": "code",
   "execution_count": null,
   "metadata": {},
   "outputs": [],
   "source": []
  }
 ],
 "metadata": {
  "kernelspec": {
   "display_name": "Python 3",
   "language": "python",
   "name": "python3"
  },
  "language_info": {
   "codemirror_mode": {
    "name": "ipython",
    "version": 3
   },
   "file_extension": ".py",
   "mimetype": "text/x-python",
   "name": "python",
   "nbconvert_exporter": "python",
   "pygments_lexer": "ipython3",
   "version": "3.7.3"
  }
 },
 "nbformat": 4,
 "nbformat_minor": 2
}
