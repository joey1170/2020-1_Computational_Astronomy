{
 "cells": [
  {
   "cell_type": "code",
   "execution_count": 3,
   "metadata": {},
   "outputs": [
    {
     "name": "stdout",
     "output_type": "stream",
     "text": [
      "25\n",
      "0.0447\n",
      "40\n",
      "0.1107\n",
      "60\n",
      "0.2419\n",
      "85\n",
      "0.4734\n",
      "120\n",
      "0.9204\n"
     ]
    }
   ],
   "source": [
    "import numpy as np\n",
    "\n",
    "\n",
    "\n",
    "def rate(x):\n",
    "    \n",
    "    ans = -4.0447+1.928*np.log10(x)\n",
    "    return 10**ans\n",
    "\n",
    "\n",
    "X = [25, 40, 60, 85, 120 ]\n",
    "\n",
    "\n",
    "for i in range(np.size(X)):\n",
    "    print(X[i])\n",
    "    print('{:.4f}'.format(rate(X[i])))\n",
    "\n",
    "\n"
   ]
  },
  {
   "cell_type": "code",
   "execution_count": null,
   "metadata": {},
   "outputs": [],
   "source": []
  },
  {
   "cell_type": "code",
   "execution_count": null,
   "metadata": {},
   "outputs": [],
   "source": []
  },
  {
   "cell_type": "code",
   "execution_count": null,
   "metadata": {},
   "outputs": [],
   "source": []
  },
  {
   "cell_type": "code",
   "execution_count": null,
   "metadata": {},
   "outputs": [],
   "source": []
  },
  {
   "cell_type": "code",
   "execution_count": null,
   "metadata": {},
   "outputs": [],
   "source": []
  },
  {
   "cell_type": "code",
   "execution_count": 2,
   "metadata": {},
   "outputs": [],
   "source": [
    "import numpy as np"
   ]
  },
  {
   "cell_type": "code",
   "execution_count": 3,
   "metadata": {},
   "outputs": [
    {
     "name": "stdout",
     "output_type": "stream",
     "text": [
      "rho is 1.6699999999999998e-27/cm^3\n",
      "JeansMass is 9.274933410350607e+46g\n",
      "JeansRadius is 2.3662090245556758e+24cm\n",
      "JeansRadius is 766838.0042440299pc\n",
      "R is 6.17134e+21cm\n",
      "M is 4.633769257984993e+46g\n"
     ]
    }
   ],
   "source": [
    "numrho = 0.001\n",
    "mu = 0.5\n",
    "T = 10**6.5\n",
    "scaleheight = 2000\n",
    "e = 0.5\n",
    "\n",
    "\n",
    "\n",
    "pc = 3.08567 * 10**18\n",
    "hydrogenmass = 1.67*10**-24\n",
    "rho = numrho * hydrogenmass\n",
    "\n",
    "\n",
    "MJ = 2.383*10**23 * pow(T/mu, 1.5) * pow(1/rho, 0.5)\n",
    "RJ = 3.845 * 10**7 * pow(T/(mu*rho), 0.5)\n",
    "Mass = rho * e* 4/3 * np.pi * (RJ**3)\n",
    "\n",
    "\n",
    "print(\"rho is {}/cm^3\".format(rho))\n",
    "print(\"JeansMass is {}g\".format(MJ))\n",
    "print(\"JeansRadius is {}cm\".format(RJ))\n",
    "print(\"JeansRadius is {}pc\".format(RJ/pc))\n",
    "\n",
    "print(\"R is {}cm\".format(pc * scaleheight))\n",
    "print(\"M is {}g\".format(Mass))"
   ]
  },
  {
   "cell_type": "code",
   "execution_count": 4,
   "metadata": {},
   "outputs": [
    {
     "name": "stdout",
     "output_type": "stream",
     "text": [
      "1.6257550766883202\n",
      "515523.55298335874\n"
     ]
    }
   ],
   "source": [
    "rho1 = 1.67*10**-20\n",
    "G = 6.67259 *10**-8\n",
    "time = np.sqrt(3*np.pi/(32*G*rho1))\n",
    "print(time/10**13)\n",
    "print(time/(86400*365))"
   ]
  },
  {
   "cell_type": "code",
   "execution_count": 7,
   "metadata": {},
   "outputs": [
    {
     "name": "stdout",
     "output_type": "stream",
     "text": [
      "ad : -0.00036526101344194387\n",
      "rad : -0.00032665245226805415\n"
     ]
    }
   ],
   "source": [
    "Lsol = 3.839 * 10**33\n",
    "Rsol = 6.955 * 10**10\n",
    "Msol = 1.989 * 10**33\n",
    "a = 7.546 * 10**-15\n",
    "mH = 1.67 * 10**-24\n",
    "k = 1.3807 * 10**-16\n",
    "G = 6.67259 * 10**-8\n",
    "gamma = 5/3\n",
    "c = 2.997*10**10\n",
    "\n",
    "Mratio = 2.487\n",
    "Rratio = 0.670\n",
    "Lratio = 5.28*10**2\n",
    "rho = 6.91\n",
    "T = 1.45*10**7\n",
    "mu = 0.5\n",
    "kappa = 0.585\n",
    "\n",
    "def ad(Mratio, Rratio, rho, T):\n",
    "    a1 = G*mH/k\n",
    "    a2 = (1-gamma)/gamma\n",
    "    a3 = Msol/Rsol**2\n",
    "    a4 = mu/(1 + mu*mH*a*T**3/(3*k*rho))\n",
    "    a5 = Mratio\n",
    "    a6 = (1/Rratio) **2\n",
    "    return a1*a2*a3*a4*a5*a6\n",
    "\n",
    "def rad(Mratio, Rratio, rho, T):\n",
    "    a1 = -3/(16*np.pi*a*c)\n",
    "    a2 = Lsol/Rsol**2\n",
    "    a3 = Lratio\n",
    "    a4 = (1/Rratio) ** 2\n",
    "    a5 = rho*kappa/T**3\n",
    "    return a1*a2*a3*a4*a5\n",
    "\n",
    "print(\"ad : {}\".format(ad(Mratio, Rratio, rho, T)))\n",
    "print(\"rad : {}\".format(rad(Mratio, Rratio, rho, T)))\n",
    "c"
   ]
  },
  {
   "cell_type": "markdown",
   "metadata": {},
   "source": [
    "### C.1."
   ]
  },
  {
   "cell_type": "code",
   "execution_count": 8,
   "metadata": {
    "scrolled": false
   },
   "outputs": [
    {
     "name": "stdout",
     "output_type": "stream",
     "text": [
      "JeansMass_min is 5.277895396194742e+41g \n",
      "JeansMass_max is 8.345085352046084e+41g \n",
      "JeansRadius_min is 5.322468474184008e+21cm, 1724.8987980516413pc\n",
      "JeansRadius_max is 8.415561576431284e+21cm, 2727.3044675649967pc\n",
      "ActualMass_max is 1.0275986363429372e+41g \n",
      "ActualMass_min is 4.1103945453717497e+40g \n"
     ]
    }
   ],
   "source": [
    "Tmin = 8000\n",
    "Tmax = 8000\n",
    "\n",
    "\n",
    "rhomin = 0.2\n",
    "rhomax = 0.5\n",
    "\n",
    "scaleheightmin = 1000\n",
    "scaleheightmax = 1000\n",
    "\n",
    "\n",
    "mu = 0.5\n",
    "\n",
    "pc = 3.08567*10**18\n",
    "mH = 1.67 * 10**-24\n",
    "\n",
    "def JeansMass1(T, mu, rho):\n",
    "    C1 = pow(T/mu, 1.5)\n",
    "    C2 = pow(1/rho, 0.5)\n",
    "    return C1 * C2 * 2.383 * 10**23\n",
    "\n",
    "def JeansRadius1(T, mu, rho):\n",
    "    C1 = pow(T/(mu*rho), 0.5)\n",
    "    return C1 * 3.845*10**7\n",
    "\n",
    "def ActualMass(rho, r):\n",
    "    return rho*np.pi*(4/3)*r**3\n",
    "\n",
    "\n",
    "print(\"JeansMass_min is {}g \".format(JeansMass1(Tmin, mu, rhomax*mH)))\n",
    "print(\"JeansMass_max is {}g \".format(JeansMass1(Tmax, mu, rhomin*mH)))\n",
    "\n",
    "print(\"JeansRadius_min is {}cm, {}pc\".format(JeansRadius1(Tmin, mu, rhomax*mH), JeansRadius1(Tmin, mu, rhomax*mH)/pc))\n",
    "print(\"JeansRadius_max is {}cm, {}pc\".format(JeansRadius1(Tmax, mu, rhomin*mH), JeansRadius1(Tmax, mu, rhomin*mH)/pc))\n",
    "\n",
    "print(\"ActualMass_max is {}g \".format(ActualMass(rhomax*mH, scaleheightmax*pc)))\n",
    "print(\"ActualMass_min is {}g \".format(ActualMass(rhomin*mH, scaleheightmin*pc)))\n"
   ]
  },
  {
   "cell_type": "code",
   "execution_count": 21,
   "metadata": {},
   "outputs": [
    {
     "name": "stdout",
     "output_type": "stream",
     "text": [
      "51518.16981688477\n",
      "5151816.981688478\n"
     ]
    }
   ],
   "source": [
    "rhomin = 1.67*10**-22\n",
    "rhomax = 1.67*10**-18\n",
    "G = 6.67259 * 10**-8\n",
    "\n",
    "freefalltimemin = np.sqrt(np.pi*3/(32*G*rhomax))\n",
    "freefalltimemax = np.sqrt(np.pi*3/(32*G*rhomin))\n",
    "\n",
    "print(freefalltimemin/(86400*365.2422))\n",
    "print(freefalltimemax/(86400*365.2422))"
   ]
  },
  {
   "cell_type": "code",
   "execution_count": null,
   "metadata": {},
   "outputs": [],
   "source": []
  }
 ],
 "metadata": {
  "kernelspec": {
   "display_name": "Python 3",
   "language": "python",
   "name": "python3"
  },
  "language_info": {
   "codemirror_mode": {
    "name": "ipython",
    "version": 3
   },
   "file_extension": ".py",
   "mimetype": "text/x-python",
   "name": "python",
   "nbconvert_exporter": "python",
   "pygments_lexer": "ipython3",
   "version": "3.7.3"
  }
 },
 "nbformat": 4,
 "nbformat_minor": 2
}
